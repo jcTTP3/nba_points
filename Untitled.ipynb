{
 "cells": [
  {
   "cell_type": "code",
   "execution_count": 2,
   "metadata": {
    "ExecuteTime": {
     "end_time": "2020-01-17T20:56:15.657573Z",
     "start_time": "2020-01-17T20:56:12.278839Z"
    }
   },
   "outputs": [],
   "source": [
    "from bs4 import BeautifulSoup\n",
    "import requests\n",
    "from urllib.request import Request, urlopen\n",
    "import pandas as pd\n",
    "\n",
    "url = 'https://sportsbook.draftkings.com/leagues/basketball/103?category=player-props&subcategory=points'\n",
    "\n",
    "req = Request(url , headers={'User-Agent': 'Mozilla/5.0'})\n",
    "\n",
    "webpage = urlopen(req).read()\n",
    "\n",
    "page_soup = BeautifulSoup(webpage, \"html.parser\")"
   ]
  },
  {
   "cell_type": "code",
   "execution_count": 4,
   "metadata": {
    "ExecuteTime": {
     "end_time": "2020-01-17T21:01:07.656963Z",
     "start_time": "2020-01-17T21:01:07.642596Z"
    }
   },
   "outputs": [
    {
     "data": {
      "text/plain": [
       "[<a class=\"dk-static-header_wallet_deposit-btn\" data-tracking='{\"event\":\"Global-Nav Link Click\",\"label\":null,\"userStatus\":\"LoggedIn\"}' href=\"https://secure.draftkings.com/sites/us-sb/app/deposit?entrySource=SportsBook\">Deposit</a>,\n",
       " <a class=\"dk-static-header_NavMenu_tab\" data-tracking='{\"event\":\"Global-Nav Link Click\",\"label\":null,\"userStatus\":\"LoggedIn\"}' href=\"https://www.draftkings.com\"><div class=\"dk-static-header_NavMenu_tab-img dk-static-header_NavMenu_draftkings\"></div></a>,\n",
       " <a class=\"dk-static-header_NavMenu_tab dk-static-header_NavMenu_active\" data-tracking='{\"event\":\"Global-Nav Link Click\",\"label\":null,\"userStatus\":\"LoggedIn\"}' href=\"https://sportsbook.draftkings.com/auth\"><div class=\"dk-static-header_NavMenu_tab-img dk-static-header_NavMenu_sportsbook\"></div></a>,\n",
       " <a alt=\"Home\" class=\"dk-static-header_NavMenu_tab-item\" data-tracking='{\"event\":\"Global-Nav Link Click\",\"label\":\"Home\",\"userStatus\":\"LoggedIn\"}' href=\"https://sportsbook.draftkings.com/\">Home</a>,\n",
       " <a alt=\"My Bets\" class=\"dk-static-header_NavMenu_tab-item\" data-tracking='{\"event\":\"Global-Nav Link Click\",\"label\":\"My Bets\",\"userStatus\":\"LoggedIn\"}' href=\"https://sportsbook.draftkings.com/mybets\">My Bets</a>,\n",
       " <a alt=\"Live In-Game\" class=\"dk-static-header_NavMenu_tab-item\" data-tracking='{\"event\":\"Global-Nav Link Click\",\"label\":\"Live In-Game\",\"userStatus\":\"LoggedIn\"}' href=\"https://sportsbook.draftkings.com/live\">Live In-Game</a>,\n",
       " <a alt=\"Rewards\" class=\"dk-static-header_NavMenu_tab-item\" data-tracking='{\"event\":\"Global-Nav Link Click\",\"label\":\"Rewards\",\"userStatus\":\"LoggedIn\"}' href=\"https://sportsbook.draftkings.com/missions\">Rewards</a>,\n",
       " <a alt=\"Help\" class=\"dk-static-header_NavMenu_tab-item\" data-tracking='{\"event\":\"Global-Nav Link Click\",\"label\":\"Help\",\"userStatus\":\"LoggedIn\"}' href=\"https://sportsbook.draftkings.com/help\">Help</a>,\n",
       " <a alt=\"DraftKings\" data-tracking='{\"event\":\"Global-Nav Link Click\",\"label\":\"DraftKings\",\"userStatus\":\"LoggedIn\"}' href=\"https://www.draftkings.com\"><div class=\"dk-static-header_brand_network-logo\"></div></a>,\n",
       " <a alt=\"sportsbook\" data-tracking='{\"event\":\"Global-Nav Link Click\",\"label\":\"sportsbook\",\"userStatus\":\"LoggedIn\"}' href=\"https://sportsbook.draftkings.com\"><div class=\"dk-static-header_brand_logo\"></div></a>,\n",
       " <a alt=\"Daily Fantasy\" class=\"\" data-tracking='{\"event\":\"Global-Nav Link Click\",\"label\":\"Daily Fantasy\",\"userStatus\":\"LoggedIn\"}' href=\"https://www.draftkings.com\">Daily Fantasy</a>,\n",
       " <a alt=\"Sportsbook\" class=\"dk-static-header_header_active\" data-tracking='{\"event\":\"Global-Nav Link Click\",\"label\":\"Sportsbook\",\"userStatus\":\"LoggedIn\"}' href=\"https://sportsbook.draftkings.com/auth\">Sportsbook</a>,\n",
       " <a class=\"dk-static-header_ResponsibleGamingLogo_responsible-gaming-logo-link\" href=\"/help/responsible-gaming\"><div class=\"dk-static-header_ResponsibleGamingLogo_responsible-gaming-logo\"><img alt=\"RESPONSIBLE GAMING\" class=\"dk-static-header_ResponsibleGamingLogo_responsible-gaming-image\" src=\"https://sportsbook.draftkings.com/static/assets/US-SB/ResponsibleGamingIcon.png\"/><div class=\"dk-static-header_ResponsibleGamingLogo_responsible-gaming-copy-right\">Responsible Gaming</div></div></a>,\n",
       " <a alt=\"Account Information\" data-tracking='{\"event\":\"Global-Nav Link Click\",\"label\":\"Account Information\",\"userStatus\":\"LoggedIn\"}' href=\"/myaccount\">Account Information</a>,\n",
       " <a alt=\"Bet Slip Settings\" data-tracking='{\"event\":\"Global-Nav Link Click\",\"label\":\"Bet Slip Settings\",\"userStatus\":\"LoggedIn\"}' href=\"https://sportsbook.draftkings.com/standalone?route=Settings#settings\">Bet Slip Settings</a>,\n",
       " <a alt=\"My Rewards\" data-tracking='{\"event\":\"Global-Nav Link Click\",\"label\":\"My Rewards\",\"userStatus\":\"LoggedIn\"}' href=\"https://sportsbook.draftkings.com/rewards\">My Rewards</a>,\n",
       " <a alt=\"View Bonus Status\" data-tracking='{\"event\":\"Global-Nav Link Click\",\"label\":\"View Bonus Status\",\"userStatus\":\"LoggedIn\"}' href=\"https://sportsbook.draftkings.com/lp/deposit-bonus\">View Bonus Status</a>,\n",
       " <a alt=\"Quickstart Guide\" data-tracking='{\"event\":\"Global-Nav Link Click\",\"label\":\"Quickstart Guide\",\"userStatus\":\"LoggedIn\"}' href=\"https://sportsbook.draftkings.com/help/quick-start-guide\">Quickstart Guide</a>,\n",
       " <a alt=\"Refer A Friend\" data-tracking='{\"event\":\"Global-Nav Link Click\",\"label\":\"Refer A Friend\",\"userStatus\":\"LoggedIn\"}' href=\"https://sportsbook.draftkings.com/refer-a-friend\">Refer A Friend</a>,\n",
       " <a alt=\"Mobile Apps\" data-tracking='{\"event\":\"Global-Nav Link Click\",\"label\":\"Mobile Apps\",\"userStatus\":\"LoggedIn\"}' href=\"https://sportsbook.draftkings.com/sportsbook-app\">Mobile Apps</a>,\n",
       " <a alt=\"Contact Us\" data-tracking='{\"event\":\"Global-Nav Link Click\",\"label\":\"Contact Us\",\"userStatus\":\"LoggedIn\"}' href=\"https://www.draftkings.com/help/contact-us?returnurl=sb\">Contact Us</a>,\n",
       " <a alt=\"Sign Out\" data-tracking='{\"event\":\"Global-Nav Link Click\",\"label\":\"Sign Out\",\"userStatus\":\"LoggedIn\"}' href=\"https://sportsbook.draftkings.com/logout\">Sign Out</a>,\n",
       " <a class=\"dk-static-header_wallet_deposit-btn\" data-tracking='{\"event\":\"Global-Nav Link Click\",\"label\":null,\"userStatus\":\"LoggedIn\"}' href=\"https://secure.draftkings.com/sites/us-sb/app/deposit?entrySource=SportsBook\">Deposit</a>,\n",
       " <a alt=\"Home\" class=\"\" data-tracking='{\"event\":\"Global-Nav Link Click\",\"label\":\"Home\",\"userStatus\":\"LoggedIn\"}' href=\"https://sportsbook.draftkings.com/\">Home</a>,\n",
       " <a alt=\"My Bets\" class=\"\" data-tracking='{\"event\":\"Global-Nav Link Click\",\"label\":\"My Bets\",\"userStatus\":\"LoggedIn\"}' href=\"https://sportsbook.draftkings.com/mybets\">My Bets</a>,\n",
       " <a alt=\"Live In-Game\" class=\"\" data-tracking='{\"event\":\"Global-Nav Link Click\",\"label\":\"Live In-Game\",\"userStatus\":\"LoggedIn\"}' href=\"https://sportsbook.draftkings.com/live\">Live In-Game</a>,\n",
       " <a alt=\"Rewards\" class=\"\" data-tracking='{\"event\":\"Global-Nav Link Click\",\"label\":\"Rewards\",\"userStatus\":\"LoggedIn\"}' href=\"https://sportsbook.draftkings.com/missions\">Rewards</a>,\n",
       " <a alt=\"Help\" class=\"\" data-tracking='{\"event\":\"Global-Nav Link Click\",\"label\":\"Help\",\"userStatus\":\"LoggedIn\"}' href=\"https://sportsbook.draftkings.com/help\">Help</a>,\n",
       " <a class=\"dk-static-header_wallet_deposit-btn\" data-tracking='{\"event\":\"Global-Nav Link Click\",\"label\":null,\"userStatus\":\"LoggedIn\"}' href=\"https://secure.draftkings.com/sites/us-sb/app/deposit?entrySource=SportsBook\">Deposit</a>,\n",
       " <a aria-current=\"page\" class=\"sportsbook-subnav__responsive-more-nav__link sportsbook-subnav__responsive-more-nav__link--active\" data-tracking='{\"target\":\"ChangeSport\",\"action\":\"click\",\"section\":\"SubNav\",\"sport\":null,\"league\":null,\"value\":\"NBA\",\"rank\":1}' href=\"/leagues/basketball/103\">NBA</a>,\n",
       " <a class=\"sportsbook-subnav__responsive-more-nav__link\" data-tracking='{\"target\":\"ChangeSport\",\"action\":\"click\",\"section\":\"SubNav\",\"sport\":null,\"league\":null,\"value\":\"College Basketball\",\"rank\":2}' href=\"/leagues/basketball/3230960\">College Basketball</a>,\n",
       " <a class=\"sportsbook-subnav__responsive-more-nav__link\" data-tracking='{\"target\":\"ChangeSport\",\"action\":\"click\",\"section\":\"SubNav\",\"sport\":null,\"league\":null,\"value\":\"NFL\",\"rank\":3}' href=\"/leagues/football/3\">NFL</a>,\n",
       " <a class=\"sportsbook-subnav__responsive-more-nav__link\" data-tracking='{\"target\":\"ChangeSport\",\"action\":\"click\",\"section\":\"SubNav\",\"sport\":null,\"league\":null,\"value\":\"NHL\",\"rank\":4}' href=\"/leagues/hockey/2022\">NHL</a>,\n",
       " <a class=\"sportsbook-subnav__responsive-more-nav__link\" data-tracking='{\"target\":\"ChangeSport\",\"action\":\"click\",\"section\":\"SubNav\",\"sport\":null,\"league\":null,\"value\":\"Odds Boosts\",\"rank\":5}' href=\"/sports/oddsboosts\">Odds Boosts</a>,\n",
       " <a class=\"sportsbook-subnav__responsive-more-nav__link\" data-tracking='{\"target\":\"ChangeSport\",\"action\":\"click\",\"section\":\"SubNav\",\"sport\":null,\"league\":null,\"value\":\"UFC\",\"rank\":6}' href=\"/leagues/mma/2162\">UFC</a>,\n",
       " <a class=\"sportsbook-subnav__responsive-more-nav__link\" data-tracking='{\"target\":\"ChangeSport\",\"action\":\"click\",\"section\":\"SubNav\",\"sport\":null,\"league\":null,\"value\":\"PGA - AMEX\",\"rank\":7}' href=\"/leagues/golf/1715\">PGA - AMEX</a>,\n",
       " <a class=\"sportsbook-subnav__responsive-more-nav__link\" data-tracking='{\"target\":\"ChangeSport\",\"action\":\"click\",\"section\":\"SubNav\",\"sport\":null,\"league\":null,\"value\":\"English Premier League \",\"rank\":8}' href=\"/leagues/soccer/53591936\">English Premier League </a>,\n",
       " <a aria-current=\"page\" class=\"sportsbook-subnav__link sportsbook-subnav__link--active\" data-tracking='{\"target\":\"ChangeSport\",\"action\":\"click\",\"section\":\"SubNav\",\"sport\":null,\"league\":null,\"value\":\"NBA\",\"rank\":1}' href=\"/leagues/basketball/103\">NBA</a>,\n",
       " <a class=\"sportsbook-subnav__link\" data-tracking='{\"target\":\"ChangeSport\",\"action\":\"click\",\"section\":\"SubNav\",\"sport\":null,\"league\":null,\"value\":\"College Basketball\",\"rank\":2}' href=\"/leagues/basketball/3230960\">College Basketball</a>,\n",
       " <a class=\"sportsbook-subnav__link\" data-tracking='{\"target\":\"ChangeSport\",\"action\":\"click\",\"section\":\"SubNav\",\"sport\":null,\"league\":null,\"value\":\"NFL\",\"rank\":3}' href=\"/leagues/football/3\">NFL</a>,\n",
       " <a class=\"sportsbook-subnav__link\" data-tracking='{\"target\":\"ChangeSport\",\"action\":\"click\",\"section\":\"SubNav\",\"sport\":null,\"league\":null,\"value\":\"NHL\",\"rank\":4}' href=\"/leagues/hockey/2022\">NHL</a>,\n",
       " <a class=\"sportsbook-subnav__link\" data-tracking='{\"target\":\"ChangeSport\",\"action\":\"click\",\"section\":\"SubNav\",\"sport\":null,\"league\":null,\"value\":\"Odds Boosts\",\"rank\":5}' href=\"/sports/oddsboosts\">Odds Boosts</a>,\n",
       " <a class=\"sportsbook-subnav__link\" data-tracking='{\"target\":\"ChangeSport\",\"action\":\"click\",\"section\":\"SubNav\",\"sport\":null,\"league\":null,\"value\":\"UFC\",\"rank\":6}' href=\"/leagues/mma/2162\">UFC</a>,\n",
       " <a class=\"sportsbook-subnav__link\" data-tracking='{\"target\":\"ChangeSport\",\"action\":\"click\",\"section\":\"SubNav\",\"sport\":null,\"league\":null,\"value\":\"PGA - AMEX\",\"rank\":7}' href=\"/leagues/golf/1715\">PGA - AMEX</a>,\n",
       " <a class=\"sportsbook-subnav__link\" data-tracking='{\"target\":\"ChangeSport\",\"action\":\"click\",\"section\":\"SubNav\",\"sport\":null,\"league\":null,\"value\":\"English Premier League \",\"rank\":8}' href=\"/leagues/soccer/53591936\">English Premier League </a>,\n",
       " <a class=\"sportsbook-subnav__link\" data-tracking='{\"target\":\"ChangeSport\",\"action\":\"click\",\"section\":\"SubNav\",\"sport\":null,\"league\":null,\"value\":\"Australian Rules\",\"rank\":9}' href=\"/sports/australianrules\">Australian Rules</a>,\n",
       " <a class=\"sportsbook-subnav__link\" data-tracking='{\"target\":\"ChangeSport\",\"action\":\"click\",\"section\":\"SubNav\",\"sport\":null,\"league\":null,\"value\":\"Baseball\",\"rank\":10}' href=\"/sports/baseball\">Baseball</a>,\n",
       " <a class=\"sportsbook-subnav__link\" data-tracking='{\"target\":\"ChangeSport\",\"action\":\"click\",\"section\":\"SubNav\",\"sport\":null,\"league\":null,\"value\":\"Basketball\",\"rank\":11}' href=\"/sports/basketball\">Basketball</a>,\n",
       " <a class=\"sportsbook-subnav__link\" data-tracking='{\"target\":\"ChangeSport\",\"action\":\"click\",\"section\":\"SubNav\",\"sport\":null,\"league\":null,\"value\":\"Boxing\",\"rank\":12}' href=\"/sports/boxing\">Boxing</a>,\n",
       " <a class=\"sportsbook-subnav__link\" data-tracking='{\"target\":\"ChangeSport\",\"action\":\"click\",\"section\":\"SubNav\",\"sport\":null,\"league\":null,\"value\":\"Cricket\",\"rank\":13}' href=\"/sports/cricket\">Cricket</a>,\n",
       " <a class=\"sportsbook-subnav__link\" data-tracking='{\"target\":\"ChangeSport\",\"action\":\"click\",\"section\":\"SubNav\",\"sport\":null,\"league\":null,\"value\":\"Cycling\",\"rank\":14}' href=\"/sports/cycling\">Cycling</a>,\n",
       " <a class=\"sportsbook-subnav__link\" data-tracking='{\"target\":\"ChangeSport\",\"action\":\"click\",\"section\":\"SubNav\",\"sport\":null,\"league\":null,\"value\":\"Darts\",\"rank\":15}' href=\"/sports/darts\">Darts</a>,\n",
       " <a class=\"sportsbook-subnav__link\" data-tracking='{\"target\":\"ChangeSport\",\"action\":\"click\",\"section\":\"SubNav\",\"sport\":null,\"league\":null,\"value\":\"Draftkings Promotions\",\"rank\":16}' href=\"/sports/draftkingspromotions\">Draftkings Promotions</a>,\n",
       " <a class=\"sportsbook-subnav__link\" data-tracking='{\"target\":\"ChangeSport\",\"action\":\"click\",\"section\":\"SubNav\",\"sport\":null,\"league\":null,\"value\":\"Football\",\"rank\":17}' href=\"/sports/football\">Football</a>,\n",
       " <a class=\"sportsbook-subnav__link\" data-tracking='{\"target\":\"ChangeSport\",\"action\":\"click\",\"section\":\"SubNav\",\"sport\":null,\"league\":null,\"value\":\"Golf\",\"rank\":18}' href=\"/sports/golf\">Golf</a>,\n",
       " <a class=\"sportsbook-subnav__link\" data-tracking='{\"target\":\"ChangeSport\",\"action\":\"click\",\"section\":\"SubNav\",\"sport\":null,\"league\":null,\"value\":\"Hockey\",\"rank\":19}' href=\"/sports/hockey\">Hockey</a>,\n",
       " <a class=\"sportsbook-subnav__link\" data-tracking='{\"target\":\"ChangeSport\",\"action\":\"click\",\"section\":\"SubNav\",\"sport\":null,\"league\":null,\"value\":\"MMA\",\"rank\":20}' href=\"/sports/mma\">MMA</a>,\n",
       " <a class=\"sportsbook-subnav__link\" data-tracking='{\"target\":\"ChangeSport\",\"action\":\"click\",\"section\":\"SubNav\",\"sport\":null,\"league\":null,\"value\":\"Motorsports\",\"rank\":21}' href=\"/sports/motorsports\">Motorsports</a>,\n",
       " <a class=\"sportsbook-subnav__link\" data-tracking='{\"target\":\"ChangeSport\",\"action\":\"click\",\"section\":\"SubNav\",\"sport\":null,\"league\":null,\"value\":\"Oscars\",\"rank\":22}' href=\"/sports/oscars\">Oscars</a>,\n",
       " <a class=\"sportsbook-subnav__link\" data-tracking='{\"target\":\"ChangeSport\",\"action\":\"click\",\"section\":\"SubNav\",\"sport\":null,\"league\":null,\"value\":\"Rugby League\",\"rank\":23}' href=\"/sports/rugbyleague\">Rugby League</a>,\n",
       " <a class=\"sportsbook-subnav__link\" data-tracking='{\"target\":\"ChangeSport\",\"action\":\"click\",\"section\":\"SubNav\",\"sport\":null,\"league\":null,\"value\":\"Rugby Union\",\"rank\":24}' href=\"/sports/rugbyunion\">Rugby Union</a>,\n",
       " <a class=\"sportsbook-subnav__link\" data-tracking='{\"target\":\"ChangeSport\",\"action\":\"click\",\"section\":\"SubNav\",\"sport\":null,\"league\":null,\"value\":\"Soccer\",\"rank\":25}' href=\"/sports/soccer\">Soccer</a>,\n",
       " <a class=\"sportsbook-subnav__link\" data-tracking='{\"target\":\"ChangeSport\",\"action\":\"click\",\"section\":\"SubNav\",\"sport\":null,\"league\":null,\"value\":\"Tennis\",\"rank\":26}' href=\"/sports/tennis\">Tennis</a>,\n",
       " <a href=\"/featured\">Home</a>,\n",
       " <a href=\"/sports/basketball\">Basketball</a>,\n",
       " <a href=\"/leagues/basketball/103?category=game-lines&amp;subcategory=game\"><div class=\"sportsbook-responsive-card-container__tab\" data-tracking='{\"target\":\"ChangeCategory\",\"action\":\"click\",\"section\":\"GamesComponent\",\"sport\":4,\"league\":103,\"value\":\"Game Lines\"}'>Game Lines</div></a>,\n",
       " <a href=\"/leagues/basketball/103?category=team-futures&amp;subcategory=championship-winner\"><div class=\"sportsbook-responsive-card-container__tab\" data-tracking='{\"target\":\"ChangeCategory\",\"action\":\"click\",\"section\":\"GamesComponent\",\"sport\":4,\"league\":103,\"value\":\"Team Futures\"}'>Team Futures</div></a>,\n",
       " <a href=\"/leagues/basketball/103?category=halves&amp;subcategory=1st-half\"><div class=\"sportsbook-responsive-card-container__tab\" data-tracking='{\"target\":\"ChangeCategory\",\"action\":\"click\",\"section\":\"GamesComponent\",\"sport\":4,\"league\":103,\"value\":\"Halves\"}'>Halves</div></a>,\n",
       " <a href=\"/leagues/basketball/103?category=quarters&amp;subcategory=1st-quarter\"><div class=\"sportsbook-responsive-card-container__tab\" data-tracking='{\"target\":\"ChangeCategory\",\"action\":\"click\",\"section\":\"GamesComponent\",\"sport\":4,\"league\":103,\"value\":\"Quarters\"}'>Quarters</div></a>,\n",
       " <a href=\"/leagues/basketball/103?category=game-parlays&amp;subcategory=money-line-/-total-points-parlay\"><div class=\"sportsbook-responsive-card-container__tab\" data-tracking='{\"target\":\"ChangeCategory\",\"action\":\"click\",\"section\":\"GamesComponent\",\"sport\":4,\"league\":103,\"value\":\"Game Parlays\"}'>Game Parlays</div></a>,\n",
       " <a href=\"/leagues/basketball/103?category=player-props&amp;subcategory=points\"><div class=\"sportsbook-responsive-card-container__tab selected\" data-tracking='{\"target\":\"ChangeCategory\",\"action\":\"click\",\"section\":\"GamesComponent\",\"sport\":4,\"league\":103,\"value\":\"Player Props\"}'>Player Props</div></a>,\n",
       " <a href=\"/leagues/basketball/103?category=player-futures&amp;subcategory=regular-season-mvp\"><div class=\"sportsbook-responsive-card-container__tab\" data-tracking='{\"target\":\"ChangeCategory\",\"action\":\"click\",\"section\":\"GamesComponent\",\"sport\":4,\"league\":103,\"value\":\"Player Futures\"}'>Player Futures</div></a>,\n",
       " <a href=\"/leagues/basketball/103?category=game-props&amp;subcategory=total-points-odd/even\"><div class=\"sportsbook-responsive-card-container__tab\" data-tracking='{\"target\":\"ChangeCategory\",\"action\":\"click\",\"section\":\"GamesComponent\",\"sport\":4,\"league\":103,\"value\":\"Game Props\"}'>Game Props</div></a>,\n",
       " <a href=\"/leagues/basketball/103?category=nba-draft&amp;subcategory=1st-overall-pick\"><div class=\"sportsbook-responsive-card-container__tab\" data-tracking='{\"target\":\"ChangeCategory\",\"action\":\"click\",\"section\":\"GamesComponent\",\"sport\":4,\"league\":103,\"value\":\"NBA Draft\"}'>NBA Draft</div></a>,\n",
       " <a href=\"/leagues/basketball/103?category=team-props&amp;subcategory=team-totals\"><div class=\"sportsbook-responsive-card-container__tab\" data-tracking='{\"target\":\"ChangeCategory\",\"action\":\"click\",\"section\":\"GamesComponent\",\"sport\":4,\"league\":103,\"value\":\"Team Props\"}'>Team Props</div></a>,\n",
       " <a aria-current=\"page\" class=\"active\" href=\"/\">Player Props</a>,\n",
       " <a href=\"/leagues/basketball/103?category=player-props&amp;subcategory=points\"><span class=\"sportsbook-tabbed-subheader__tab selected\" data-tracking='{\"target\":\"ChangeSubcategory\",\"action\":\"click\",\"section\":\"GamesCategory\",\"sport\":4,\"league\":103,\"subcategoryId\":1282,\"value\":\"Points\"}'>Points</span></a>,\n",
       " <a href=\"/leagues/basketball/103?category=player-props&amp;subcategory=first-field-goal\"><span class=\"sportsbook-tabbed-subheader__tab\" data-tracking='{\"target\":\"ChangeSubcategory\",\"action\":\"click\",\"section\":\"GamesCategory\",\"sport\":4,\"league\":103,\"subcategoryId\":6304,\"value\":\"First Field Goal\"}'>First Field Goal</span></a>,\n",
       " <a href=\"/leagues/basketball/103?category=player-props&amp;subcategory=3-pointers\"><span class=\"sportsbook-tabbed-subheader__tab\" data-tracking='{\"target\":\"ChangeSubcategory\",\"action\":\"click\",\"section\":\"GamesCategory\",\"sport\":4,\"league\":103,\"subcategoryId\":1279,\"value\":\"3-Pointers\"}'>3-Pointers</span></a>,\n",
       " <a href=\"/leagues/basketball/103?category=player-props&amp;subcategory=rebounds\"><span class=\"sportsbook-tabbed-subheader__tab\" data-tracking='{\"target\":\"ChangeSubcategory\",\"action\":\"click\",\"section\":\"GamesCategory\",\"sport\":4,\"league\":103,\"subcategoryId\":1287,\"value\":\"Rebounds\"}'>Rebounds</span></a>,\n",
       " <a href=\"/leagues/basketball/103?category=player-props&amp;subcategory=assists\"><span class=\"sportsbook-tabbed-subheader__tab\" data-tracking='{\"target\":\"ChangeSubcategory\",\"action\":\"click\",\"section\":\"GamesCategory\",\"sport\":4,\"league\":103,\"subcategoryId\":1280,\"value\":\"Assists\"}'>Assists</span></a>,\n",
       " <a href=\"/leagues/basketball/103?category=player-props&amp;subcategory=to-record-a-double-double\"><span class=\"sportsbook-tabbed-subheader__tab\" data-tracking='{\"target\":\"ChangeSubcategory\",\"action\":\"click\",\"section\":\"GamesCategory\",\"sport\":4,\"league\":103,\"subcategoryId\":1291,\"value\":\"To Record a Double-Double\"}'>To Record a Double-Double</span></a>,\n",
       " <a href=\"/leagues/basketball/103?category=player-props&amp;subcategory=top-point-scorer\"><span class=\"sportsbook-tabbed-subheader__tab\" data-tracking='{\"target\":\"ChangeSubcategory\",\"action\":\"click\",\"section\":\"GamesCategory\",\"sport\":4,\"league\":103,\"subcategoryId\":10092,\"value\":\"Top Point Scorer\"}'>Top Point Scorer</span></a>,\n",
       " <a href=\"/leagues/basketball/103?category=player-props&amp;subcategory=points,-rebounds-&amp;-assists\"><span class=\"sportsbook-tabbed-subheader__tab\" data-tracking='{\"target\":\"ChangeSubcategory\",\"action\":\"click\",\"section\":\"GamesCategory\",\"sport\":4,\"league\":103,\"subcategoryId\":1286,\"value\":\"Points, Rebounds &amp; Assists\"}'>Points, Rebounds &amp; Assists</span></a>,\n",
       " <a href=\"/leagues/basketball/103?category=player-props&amp;subcategory=to-record-a-triple-double\"><span class=\"sportsbook-tabbed-subheader__tab\" data-tracking='{\"target\":\"ChangeSubcategory\",\"action\":\"click\",\"section\":\"GamesCategory\",\"sport\":4,\"league\":103,\"subcategoryId\":1292,\"value\":\"To Record a Triple-Double\"}'>To Record a Triple-Double</span></a>,\n",
       " <a class=\"sportsbook-event-accordion__title\" href=\"/event/172853564\">Washington Wizards @ Toronto Raptors</a>,\n",
       " <a class=\"sportsbook-event-accordion__title\" href=\"/event/172853563\">Chicago Bulls @ Philadelphia 76ers</a>,\n",
       " <a class=\"sportsbook-event-accordion__title\" href=\"/event/172869410\">Minnesota Timberwolves @ Indiana Pacers</a>,\n",
       " <a class=\"sportsbook-event-accordion__title\" href=\"/event/172869425\">Miami Heat @ Oklahoma City Thunder</a>,\n",
       " <a class=\"sportsbook-event-accordion__title\" href=\"/event/172853598\">Cleveland Cavaliers @ Memphis Grizzlies</a>,\n",
       " <a class=\"sportsbook-event-accordion__title\" href=\"/event/172853599\">Atlanta Hawks @ San Antonio Spurs</a>,\n",
       " <a class=\"sportsbook-event-accordion__title\" href=\"/event/172869424\">Portland Trail Blazers @ Dallas Mavericks</a>,\n",
       " <a class=\"social-link facebook\" data-tracking='{\"action\":\"click\",\"section\":\"Footer\",\"value\":\"DraftKings Facebook\"}' href=\"http://www.facebook.com/DraftKings\" target=\"_blank\" title=\"DraftKings Facebook\"></a>,\n",
       " <a class=\"social-link twitter\" data-tracking='{\"action\":\"click\",\"section\":\"Footer\",\"value\":\"DraftKings Twitter\"}' href=\"http://twitter.com/#!/DraftKings\" target=\"_blank\" title=\"DraftKings Twitter\"></a>,\n",
       " <a class=\"social-link instagram\" data-tracking='{\"action\":\"click\",\"section\":\"Footer\",\"value\":\"DraftKings Instagram\"}' href=\"https://instagram.com/draftkings\" target=\"_blank\" title=\"DraftKings Instagram\"></a>,\n",
       " <a data-tracking='{\"action\":\"click\",\"section\":\"Footer\",\"value\":\"About DraftKings\"}' href=\"https://about.draftkings.com\" target=\"_blank\" title=\"About DraftKings\">About DraftKings</a>,\n",
       " <a data-tracking='{\"action\":\"click\",\"section\":\"Footer\",\"value\":\"Sportsbook Mobile App\"}' href=\"/sportsbook-app\" target=\"_blank\" title=\"Sportsbook Mobile App\">Sportsbook Mobile App</a>,\n",
       " <a data-tracking='{\"action\":\"click\",\"section\":\"Footer\",\"value\":\"Terms Of Use\"}' href=\"https://sportsbook.draftkings.com/legal/nj-terms-of-use\" target=\"_blank\" title=\"Terms Of Use\">Terms Of Use</a>,\n",
       " <a data-tracking='{\"action\":\"click\",\"section\":\"Footer\",\"value\":\"Privacy Policy\"}' href=\"https://sportsbook.draftkings.com/legal/nj-privacy-policy\" target=\"_blank\" title=\"Privacy Policy\">Privacy Policy</a>,\n",
       " <a data-tracking='{\"action\":\"click\",\"section\":\"Footer\",\"value\":\"Contact Us\"}' href=\"https://draftkings.com/help/contact-us/sb\" target=\"_blank\" title=\"Contact Us\">Contact Us</a>,\n",
       " <a data-tracking='{\"action\":\"click\",\"section\":\"Footer\",\"value\":\"Responsible Gaming\"}' href=\"/help/responsible-gaming\" target=\"_blank\" title=\"Responsible Gaming\">Responsible Gaming</a>,\n",
       " <a data-tracking='{\"action\":\"click\",\"section\":\"Footer\",\"value\":\"How To Bet\"}' href=\"/how-to-bet\" target=\"_blank\" title=\"How To Bet\">How To Bet</a>,\n",
       " <a data-tracking='{\"action\":\"click\",\"section\":\"Footer\",\"value\":\"FAQ\"}' href=\"/help/faq\" target=\"_blank\" title=\"FAQ\">FAQ</a>,\n",
       " <a data-tracking='{\"action\":\"click\",\"section\":\"Footer\",\"value\":\"Casino Partners\"}' href=\"/lp/casino-partners\" target=\"_blank\" title=\"Casino Partners\">Casino Partners</a>,\n",
       " <a data-tracking='{\"action\":\"click\",\"section\":\"Footer\",\"value\":\"DK Nation\"}' href=\"https://dknation.draftkings.com/\" target=\"_blank\" title=\"DK Nation\">DK Nation</a>,\n",
       " <a data-tracking='{\"action\":\"click\",\"section\":\"Footer\",\"value\":\"Casino\"}' href=\"/lp/casino\" target=\"_blank\" title=\"Casino\">Casino</a>,\n",
       " <a href=\"tel:1-800-GAMBLER\" rel=\"nofollow\">1-800-GAMBLER</a>,\n",
       " <a class=\"TwentyOnePlus\" href=\"\" title=\"Twenty One Plus Icon\"><img alt=\"\" src=\"https://sportsbook.draftkings.com/static/footer/21plus.png\"/></a>,\n",
       " <a class=\"RGL\" href=\"/help/responsible-gaming\" title=\"Responsible Gaming Icon\"><img alt=\"\" src=\"https://sportsbook.draftkings.com/static/assets/US-SB/ResponsibleGamingIcon.png\"/></a>,\n",
       " <a class=\"DGE\" href=\"http://www.nj.gov/oag/ge/index.htm\" title=\"DGE Icon\"><img alt=\"\" src=\"https://sportsbook.draftkings.com/static/footer/DGE_logo.png\"/></a>,\n",
       " <a href=\"tel:1-800-GAMBLER\" rel=\"nofollow\">1-800-GAMBLER</a>]"
      ]
     },
     "execution_count": 4,
     "metadata": {},
     "output_type": "execute_result"
    }
   ],
   "source": [
    "page_soup.find_all(class_=)"
   ]
  },
  {
   "cell_type": "code",
   "execution_count": null,
   "metadata": {},
   "outputs": [],
   "source": []
  }
 ],
 "metadata": {
  "kernelspec": {
   "display_name": "Python 3",
   "language": "python",
   "name": "python3"
  },
  "language_info": {
   "codemirror_mode": {
    "name": "ipython",
    "version": 3
   },
   "file_extension": ".py",
   "mimetype": "text/x-python",
   "name": "python",
   "nbconvert_exporter": "python",
   "pygments_lexer": "ipython3",
   "version": "3.6.9"
  },
  "toc": {
   "base_numbering": 1,
   "nav_menu": {},
   "number_sections": true,
   "sideBar": true,
   "skip_h1_title": false,
   "title_cell": "Table of Contents",
   "title_sidebar": "Contents",
   "toc_cell": false,
   "toc_position": {},
   "toc_section_display": true,
   "toc_window_display": false
  }
 },
 "nbformat": 4,
 "nbformat_minor": 2
}
