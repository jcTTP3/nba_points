{
 "cells": [
  {
   "cell_type": "markdown",
   "metadata": {},
   "source": [
    "# Linear Regression"
   ]
  },
  {
   "cell_type": "code",
   "execution_count": 6,
   "metadata": {
    "ExecuteTime": {
     "end_time": "2020-01-14T16:28:13.534724Z",
     "start_time": "2020-01-14T16:28:13.524215Z"
    }
   },
   "outputs": [],
   "source": [
    "import mysql.connector\n",
    "from mysql.connector import errorcode\n",
    "import config\n",
    "import pandas as pd\n",
    "import numpy as np\n",
    "import matplotlib.pyplot as plt\n",
    "import seaborn as sns\n",
    "from statsmodels.formula.api import ols\n",
    "from sklearn.linear_model import LinearRegression\n",
    "from sklearn.model_selection import train_test_split\n",
    "import scipy.stats as stats\n",
    "import plotly.graph_objects as go\n",
    "from sklearn.preprocessing import StandardScaler\n",
    "pd.options.display.max_columns = 1000\n",
    "\n",
    "%matplotlib inline"
   ]
  },
  {
   "cell_type": "code",
   "execution_count": 14,
   "metadata": {
    "ExecuteTime": {
     "end_time": "2020-01-14T19:42:23.385687Z",
     "start_time": "2020-01-14T19:42:22.508371Z"
    }
   },
   "outputs": [],
   "source": [
    "dbname = 'nba'\n",
    "cnx = mysql.connector.connect(\n",
    "    host = config.host,\n",
    "    user = config.user,\n",
    "    passwd = config.password,\n",
    "    db = dbname\n",
    ")\n",
    "cursor = cnx.cursor(buffered = True)"
   ]
  },
  {
   "cell_type": "markdown",
   "metadata": {},
   "source": [
    "## Preprocessing"
   ]
  },
  {
   "cell_type": "markdown",
   "metadata": {
    "ExecuteTime": {
     "end_time": "2020-01-14T16:43:55.120436Z",
     "start_time": "2020-01-14T16:43:55.117784Z"
    }
   },
   "source": [
    "### Helper functions"
   ]
  },
  {
   "cell_type": "markdown",
   "metadata": {
    "ExecuteTime": {
     "end_time": "2020-01-14T16:29:02.217316Z",
     "start_time": "2020-01-14T16:29:02.213501Z"
    }
   },
   "source": [
    "#### Function to convert minutes to seconds"
   ]
  },
  {
   "cell_type": "code",
   "execution_count": 15,
   "metadata": {
    "ExecuteTime": {
     "end_time": "2020-01-14T19:42:30.777146Z",
     "start_time": "2020-01-14T19:42:30.772567Z"
    }
   },
   "outputs": [],
   "source": [
    "def calc_secs(x):\n",
    "    return int(x.split(':')[0])*60 + int(x.split(':')[1])"
   ]
  },
  {
   "cell_type": "code",
   "execution_count": 16,
   "metadata": {
    "ExecuteTime": {
     "end_time": "2020-01-14T19:42:31.993937Z",
     "start_time": "2020-01-14T19:42:31.986862Z"
    }
   },
   "outputs": [],
   "source": [
    "def sql_to_df(table, year=''):\n",
    "    \n",
    "    if year:\n",
    "        year_clean = '00' + year[0] + year[2:]\n",
    "        select_statement = \"select * from nba.{} where (GAME_ID REGEXP '(^{})') order by GAME_ID\".format(table, year_clean)\n",
    "    else:\n",
    "        select_statement = \"SELECT * FROM nba.{} order by GAME_ID;\".format(table)\n",
    "    \n",
    "    cursor.execute(select_statement)\n",
    "    data = cursor.fetchall()\n",
    "    data_df = pd.DataFrame(data)\n",
    "    \n",
    "    field_names = [i[0] for i in cursor.description]\n",
    "    data_df.columns = field_names\n",
    "    \n",
    "    return data_df"
   ]
  },
  {
   "cell_type": "markdown",
   "metadata": {
    "ExecuteTime": {
     "end_time": "2020-01-14T16:44:34.665614Z",
     "start_time": "2020-01-14T16:44:34.663059Z"
    }
   },
   "source": [
    "### Aggregation functions"
   ]
  },
  {
   "cell_type": "markdown",
   "metadata": {
    "ExecuteTime": {
     "end_time": "2020-01-14T16:29:47.233711Z",
     "start_time": "2020-01-14T16:29:47.230953Z"
    }
   },
   "source": [
    "#### Function to calculate rolling statistics for players from box score data"
   ]
  },
  {
   "cell_type": "code",
   "execution_count": 19,
   "metadata": {
    "ExecuteTime": {
     "end_time": "2020-01-14T19:43:25.131861Z",
     "start_time": "2020-01-14T19:43:25.122707Z"
    }
   },
   "outputs": [],
   "source": [
    "def formated_player_stats(table, cols, year = '', lag = None):\n",
    "    \n",
    "    nba_df = sql_to_df(table, year)\n",
    "    \n",
    "    ### Drop games where players do not play\n",
    "    nba_df_played = nba_df[nba_df['MIN'].notnull()]\n",
    "    \n",
    "    ### Calculate seconds played in a game\n",
    "    nba_df_played['SEC'] = nba_df_played['MIN'].apply(lambda x : calc_secs(x))\n",
    "    \n",
    "    \n",
    "    players = []\n",
    "    cols = cols\n",
    "    for player in nba_df_played['PLAYER_ID'].unique():\n",
    "        df = nba_df_played[nba_df_played['PLAYER_ID']==player]\n",
    "        for col in cols:\n",
    "            df['expanding_{}'.format(col)] = df.expanding().mean()[col].shift(1)\n",
    "            if lag:\n",
    "                df['rolling_{}'.format(col+str(lag))] = df.rolling(lag).mean()[col].shift(1)\n",
    "        df.dropna(inplace=True)\n",
    "        players.append(df)\n",
    "    return pd.concat(players)"
   ]
  },
  {
   "cell_type": "markdown",
   "metadata": {
    "ExecuteTime": {
     "end_time": "2020-01-14T21:17:12.361453Z",
     "start_time": "2020-01-14T21:17:12.344464Z"
    }
   },
   "source": [
    "#### Function to calculate rolling team statistics"
   ]
  },
  {
   "cell_type": "code",
   "execution_count": null,
   "metadata": {},
   "outputs": [],
   "source": [
    "def formatted_team_stats(table, cols, year = '', lag = None):\n",
    "    \n",
    "    pull = sql_to_df(table, year)\n",
    "    \n",
    "    teams_df = []\n",
    "    cols = cols\n",
    "    ### For every team, calculate the expanding mean for the given columns passed into the function, \n",
    "    ### and the the difference between the statistic in the game and the expanding mean leading up to that game\n",
    "    ### Answers the question \"how did a team perform compared to its average going into the game\"\n",
    "    for team in pull['TEAM_ID'].unique():\n",
    "        df = pull[pull['TEAM_ID']==team]\n",
    "        df['game_number'] = df['GAME_ID'].expanding().count()\n",
    "        for col in cols:\n",
    "            df['expanding_{}'.format(col)] = df.expanding().mean()[col].shift(1)\n",
    "            df['difference_{}'.format(col)] = df[col] - df['expanding_{}'.format(col)]\n",
    "            ### Add ability to see how team performs compared to their rolling average over a set of games\n",
    "            ### Answers question \"how did a team perform compared to its average over previous x number of games\"\n",
    "            if lag:\n",
    "                df['rolling_{}'.format(col+str(lag))] = df.rolling(lag).mean()[col].shift(1)\n",
    "                df['lag_difference_{}'.format(col)] = df[col] - df['rolling_{}'.format(col+str(lag))]\n",
    "            continue\n",
    "        df.dropna(inplace=True)\n",
    "        teams_df.append(df)\n",
    "        \n",
    "        \n",
    "    return pd.concat(teams_df)"
   ]
  }
 ],
 "metadata": {
  "kernelspec": {
   "display_name": "Python 3",
   "language": "python",
   "name": "python3"
  },
  "language_info": {
   "codemirror_mode": {
    "name": "ipython",
    "version": 3
   },
   "file_extension": ".py",
   "mimetype": "text/x-python",
   "name": "python",
   "nbconvert_exporter": "python",
   "pygments_lexer": "ipython3",
   "version": "3.6.9"
  },
  "toc": {
   "base_numbering": 1,
   "nav_menu": {},
   "number_sections": true,
   "sideBar": true,
   "skip_h1_title": true,
   "title_cell": "Table of Contents",
   "title_sidebar": "Contents",
   "toc_cell": false,
   "toc_position": {},
   "toc_section_display": true,
   "toc_window_display": true
  }
 },
 "nbformat": 4,
 "nbformat_minor": 2
}
