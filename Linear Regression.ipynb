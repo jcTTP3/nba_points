{
 "cells": [
  {
   "cell_type": "markdown",
   "metadata": {},
   "source": [
    "# Linear Regression"
   ]
  },
  {
   "cell_type": "code",
   "execution_count": 6,
   "metadata": {
    "ExecuteTime": {
     "end_time": "2020-01-14T16:28:13.534724Z",
     "start_time": "2020-01-14T16:28:13.524215Z"
    }
   },
   "outputs": [],
   "source": [
    "import mysql.connector\n",
    "from mysql.connector import errorcode\n",
    "import config\n",
    "import pandas as pd\n",
    "import numpy as np\n",
    "import matplotlib.pyplot as plt\n",
    "import seaborn as sns\n",
    "from statsmodels.formula.api import ols\n",
    "from sklearn.linear_model import LinearRegression\n",
    "from sklearn.model_selection import train_test_split\n",
    "import scipy.stats as stats\n",
    "import plotly.graph_objects as go\n",
    "from sklearn.preprocessing import StandardScaler\n",
    "pd.options.display.max_columns = 1000\n",
    "\n",
    "%matplotlib inline"
   ]
  },
  {
   "cell_type": "code",
   "execution_count": 2,
   "metadata": {
    "ExecuteTime": {
     "end_time": "2020-01-14T14:31:59.014027Z",
     "start_time": "2020-01-14T14:31:58.288897Z"
    }
   },
   "outputs": [],
   "source": [
    "dbname = 'nba'\n",
    "cnx = mysql.connector.connect(\n",
    "    host = config.host,\n",
    "    user = config.user,\n",
    "    passwd = config.password,\n",
    "    db = dbname\n",
    ")\n",
    "cursor = cnx.cursor(buffered = True)"
   ]
  },
  {
   "cell_type": "markdown",
   "metadata": {},
   "source": [
    "## Preprocessing"
   ]
  },
  {
   "cell_type": "markdown",
   "metadata": {
    "ExecuteTime": {
     "end_time": "2020-01-14T16:29:02.217316Z",
     "start_time": "2020-01-14T16:29:02.213501Z"
    }
   },
   "source": [
    "### Function to convert minutes to seconds"
   ]
  },
  {
   "cell_type": "code",
   "execution_count": 3,
   "metadata": {
    "ExecuteTime": {
     "end_time": "2020-01-14T16:26:22.559123Z",
     "start_time": "2020-01-14T16:26:22.554186Z"
    }
   },
   "outputs": [],
   "source": [
    "def calc_secs(x):\n",
    "    return int(x.split(':')[0])*60 + int(x.split(':')[1])"
   ]
  },
  {
   "cell_type": "markdown",
   "metadata": {
    "ExecuteTime": {
     "end_time": "2020-01-14T16:29:47.233711Z",
     "start_time": "2020-01-14T16:29:47.230953Z"
    }
   },
   "source": [
    "### Function to calculate rolling statistics for players from box score data"
   ]
  },
  {
   "cell_type": "code",
   "execution_count": 9,
   "metadata": {
    "ExecuteTime": {
     "end_time": "2020-01-14T16:31:12.087632Z",
     "start_time": "2020-01-14T16:31:12.076720Z"
    }
   },
   "outputs": [],
   "source": [
    "def formatted_player_stats(table, cols, year = '', lag = None):\n",
    "    ## Pass year as a string to calculate stats for a given season\n",
    "    if year:\n",
    "        year_clean = '00' + year[0] + year[2:]\n",
    "        select_statement = \"select * from nba.{} where (GAME_ID REGEXP '(^{})') order by GAME_ID\".format(table, year_clean)\n",
    "    else:\n",
    "        select_statement = \"SELECT * FROM nba.{} order by GAME_ID;\".format(table)\n",
    "    \n",
    "    cursor.execute(select_statement)\n",
    "    nba_data = cursor.fetchall()\n",
    "    \n",
    "    field_names = [i[0] for i in cursor.description]\n",
    "    nba_df.columns = field_names\n",
    "    \n",
    "    ### Drop games where players do not play\n",
    "    nba_df_played = nba_df[nba_df['MIN'].notnull()]\n",
    "    \n",
    "    ### Calculate seconds played in a game\n",
    "    nba_df_played['SEC'] = nba_df_played['MIN'].apply(lambda x : calc_secs(x))\n",
    "    \n",
    "    ### For each player, calculate expanding mean and rolling mean for each specified statistic in cols arguement \n",
    "    players = []\n",
    "    cols = cols\n",
    "    for player in nba_df_played['PLAYER_ID'].unique():\n",
    "        df = nba_df_played[nba_df_played['PLAYER_ID']==player]\n",
    "        for col in cols:\n",
    "            df['expanding_{}'.format(col)] = df.expanding().mean()[col].shift(1)\n",
    "            if lag:\n",
    "                df['rolling_{}'.format(col+str(lag))] = df.rolling(lag).mean()[col].shift(1)\n",
    "        df.dropna(inplace=True)\n",
    "        players.append(df)\n",
    "    return pd.concat(players)"
   ]
  },
  {
   "cell_type": "code",
   "execution_count": null,
   "metadata": {},
   "outputs": [],
   "source": []
  }
 ],
 "metadata": {
  "kernelspec": {
   "display_name": "Python 3",
   "language": "python",
   "name": "python3"
  },
  "language_info": {
   "codemirror_mode": {
    "name": "ipython",
    "version": 3
   },
   "file_extension": ".py",
   "mimetype": "text/x-python",
   "name": "python",
   "nbconvert_exporter": "python",
   "pygments_lexer": "ipython3",
   "version": "3.6.9"
  },
  "toc": {
   "base_numbering": 1,
   "nav_menu": {},
   "number_sections": true,
   "sideBar": true,
   "skip_h1_title": false,
   "title_cell": "Table of Contents",
   "title_sidebar": "Contents",
   "toc_cell": false,
   "toc_position": {},
   "toc_section_display": true,
   "toc_window_display": true
  }
 },
 "nbformat": 4,
 "nbformat_minor": 2
}
