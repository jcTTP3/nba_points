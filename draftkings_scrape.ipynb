{
 "cells": [
  {
   "cell_type": "code",
   "execution_count": 35,
   "metadata": {
    "ExecuteTime": {
     "end_time": "2020-01-19T17:45:27.034506Z",
     "start_time": "2020-01-19T17:45:25.082686Z"
    }
   },
   "outputs": [],
   "source": [
    "from bs4 import BeautifulSoup\n",
    "import requests\n",
    "from urllib.request import Request, urlopen\n",
    "from datetime import date\n",
    "import pandas as pd\n",
    "\n",
    "url = 'https://sportsbook.draftkings.com/leagues/basketball/103?category=player-props&subcategory=points'\n",
    "\n",
    "req = Request(url , headers={'User-Agent': 'Mozilla/5.0'})\n",
    "\n",
    "webpage = urlopen(req).read()\n",
    "\n",
    "page_soup = BeautifulSoup(webpage, \"html.parser\")"
   ]
  },
  {
   "cell_type": "code",
   "execution_count": 36,
   "metadata": {
    "ExecuteTime": {
     "end_time": "2020-01-19T17:45:30.270837Z",
     "start_time": "2020-01-19T17:45:30.251561Z"
    }
   },
   "outputs": [],
   "source": [
    "dk_games = page_soup.find_all(\"a\", {\"class\": \"sportsbook-event-accordion__title\"})"
   ]
  },
  {
   "cell_type": "code",
   "execution_count": 37,
   "metadata": {
    "ExecuteTime": {
     "end_time": "2020-01-19T17:45:31.585837Z",
     "start_time": "2020-01-19T17:45:31.563766Z"
    }
   },
   "outputs": [],
   "source": [
    "dk_tables = page_soup.find_all(\"div\", {\"class\": \"sportsbook-table__body\"})"
   ]
  },
  {
   "cell_type": "code",
   "execution_count": 38,
   "metadata": {
    "ExecuteTime": {
     "end_time": "2020-01-19T17:45:33.823515Z",
     "start_time": "2020-01-19T17:45:33.804693Z"
    }
   },
   "outputs": [
    {
     "data": {
      "text/plain": [
       "[<span class=\"sportsbook-participant-name\">DeMar DeRozan</span>,\n",
       " <span class=\"sportsbook-participant-name\">LaMarcus Aldridge</span>,\n",
       " <span class=\"sportsbook-participant-name\">Bryn Forbes</span>,\n",
       " <span class=\"sportsbook-participant-name\">Patty Mills</span>,\n",
       " <span class=\"sportsbook-participant-name\">Jimmy Butler</span>,\n",
       " <span class=\"sportsbook-participant-name\">Bam Adebayo</span>,\n",
       " <span class=\"sportsbook-participant-name\">Kendrick Nunn</span>,\n",
       " <span class=\"sportsbook-participant-name\">Duncan Robinson</span>]"
      ]
     },
     "execution_count": 38,
     "metadata": {},
     "output_type": "execute_result"
    }
   ],
   "source": [
    "dk_tables[0].find_all(\"span\", {\"class\": \"sportsbook-participant-name\"})"
   ]
  },
  {
   "cell_type": "code",
   "execution_count": 39,
   "metadata": {
    "ExecuteTime": {
     "end_time": "2020-01-19T17:45:48.908922Z",
     "start_time": "2020-01-19T17:45:48.900302Z"
    }
   },
   "outputs": [
    {
     "data": {
      "text/plain": [
       "[<span class=\"sportsbook-outcome-cell__label\">Over 22.5</span>,\n",
       " <span class=\"sportsbook-outcome-cell__label\">Over 18.5</span>,\n",
       " <span class=\"sportsbook-outcome-cell__label\">Over 10.5</span>,\n",
       " <span class=\"sportsbook-outcome-cell__label\">Over 11.5</span>,\n",
       " <span class=\"sportsbook-outcome-cell__label\">Over 19.5</span>,\n",
       " <span class=\"sportsbook-outcome-cell__label\">Over 15.5</span>,\n",
       " <span class=\"sportsbook-outcome-cell__label\">Over 15.5</span>,\n",
       " <span class=\"sportsbook-outcome-cell__label\">Over 12.5</span>,\n",
       " <span class=\"sportsbook-outcome-cell__label\">Under 22.5</span>,\n",
       " <span class=\"sportsbook-outcome-cell__label\">Under 18.5</span>,\n",
       " <span class=\"sportsbook-outcome-cell__label\">Under 10.5</span>,\n",
       " <span class=\"sportsbook-outcome-cell__label\">Under 11.5</span>,\n",
       " <span class=\"sportsbook-outcome-cell__label\">Under 19.5</span>,\n",
       " <span class=\"sportsbook-outcome-cell__label\">Under 15.5</span>,\n",
       " <span class=\"sportsbook-outcome-cell__label\">Under 15.5</span>,\n",
       " <span class=\"sportsbook-outcome-cell__label\">Under 12.5</span>]"
      ]
     },
     "execution_count": 39,
     "metadata": {},
     "output_type": "execute_result"
    }
   ],
   "source": [
    "dk_tables[0].find_all(\"span\", {\"class\": \"sportsbook-outcome-cell__label\"})"
   ]
  },
  {
   "cell_type": "code",
   "execution_count": 40,
   "metadata": {
    "ExecuteTime": {
     "end_time": "2020-01-19T17:45:58.353918Z",
     "start_time": "2020-01-19T17:45:58.346032Z"
    }
   },
   "outputs": [
    {
     "data": {
      "text/plain": [
       "[<span class=\"sportsbook-odds american default-color\">-129</span>,\n",
       " <span class=\"sportsbook-odds american default-color\">-110</span>,\n",
       " <span class=\"sportsbook-odds american default-color\">-121</span>,\n",
       " <span class=\"sportsbook-odds american default-color\">-110</span>,\n",
       " <span class=\"sportsbook-odds american default-color\">-110</span>,\n",
       " <span class=\"sportsbook-odds american default-color\">-110</span>,\n",
       " <span class=\"sportsbook-odds american default-color\">-121</span>,\n",
       " <span class=\"sportsbook-odds american default-color\">+100</span>,\n",
       " <span class=\"sportsbook-odds american default-color\">+105</span>,\n",
       " <span class=\"sportsbook-odds american default-color\">-110</span>,\n",
       " <span class=\"sportsbook-odds american default-color\">+100</span>,\n",
       " <span class=\"sportsbook-odds american default-color\">-110</span>,\n",
       " <span class=\"sportsbook-odds american default-color\">-110</span>,\n",
       " <span class=\"sportsbook-odds american default-color\">-110</span>,\n",
       " <span class=\"sportsbook-odds american default-color\">+100</span>,\n",
       " <span class=\"sportsbook-odds american default-color\">-121</span>]"
      ]
     },
     "execution_count": 40,
     "metadata": {},
     "output_type": "execute_result"
    }
   ],
   "source": [
    "dk_tables[0].find_all(\"span\", {\"class\": \"sportsbook-odds american default-color\"})"
   ]
  },
  {
   "cell_type": "code",
   "execution_count": 41,
   "metadata": {
    "ExecuteTime": {
     "end_time": "2020-01-19T17:46:00.649040Z",
     "start_time": "2020-01-19T17:46:00.643600Z"
    }
   },
   "outputs": [
    {
     "data": {
      "text/plain": [
       "'2020-01-19'"
      ]
     },
     "execution_count": 41,
     "metadata": {},
     "output_type": "execute_result"
    }
   ],
   "source": [
    "date.today().strftime('%Y-%m-%d')"
   ]
  },
  {
   "cell_type": "code",
   "execution_count": 42,
   "metadata": {
    "ExecuteTime": {
     "end_time": "2020-01-19T17:46:03.623673Z",
     "start_time": "2020-01-19T17:46:03.597770Z"
    }
   },
   "outputs": [],
   "source": [
    "rows = []\n",
    "\n",
    "# row_dict ={'game': ,\n",
    "#           'player_name': ,\n",
    "#           'over': ,\n",
    "#           'over_odds': ,\n",
    "#           'under': ,\n",
    "#           'under_odds': ,}\n",
    "\n",
    "for idx, game in enumerate(dk_games):\n",
    "    \n",
    "    table = dk_tables[idx]\n",
    "    players = table.find_all(\"span\", {\"class\": \"sportsbook-participant-name\"})\n",
    "    over_under = table.find_all(\"span\", {\"class\": \"sportsbook-outcome-cell__label\"})\n",
    "    odds = table.find_all(\"span\", {\"class\": \"sportsbook-odds american default-color\"})\n",
    "    \n",
    "    for index, player in enumerate(players):\n",
    "        \n",
    "        row_dict ={'game': game.get_text(),\n",
    "                   'date': date.today().strftime('%Y-%m-%d'),\n",
    "          'player_name': player.get_text(),\n",
    "          'over': over_under[index].get_text(),\n",
    "          'over_odds': odds[index].get_text(),\n",
    "          'under': over_under[index + len(players)].get_text(),\n",
    "          'under_odds':odds[index + len(players)].get_text()}\n",
    "        \n",
    "        rows.append(row_dict)\n",
    "    \n",
    "    "
   ]
  },
  {
   "cell_type": "code",
   "execution_count": 43,
   "metadata": {
    "ExecuteTime": {
     "end_time": "2020-01-19T17:46:04.440544Z",
     "start_time": "2020-01-19T17:46:04.435250Z"
    }
   },
   "outputs": [
    {
     "data": {
      "text/plain": [
       "{'game': 'Miami Heat @ San Antonio Spurs',\n",
       " 'date': '2020-01-19',\n",
       " 'player_name': 'DeMar DeRozan',\n",
       " 'over': 'Over 22.5',\n",
       " 'over_odds': '-129',\n",
       " 'under': 'Under 22.5',\n",
       " 'under_odds': '+105'}"
      ]
     },
     "execution_count": 43,
     "metadata": {},
     "output_type": "execute_result"
    }
   ],
   "source": [
    "rows[0]"
   ]
  },
  {
   "cell_type": "code",
   "execution_count": 44,
   "metadata": {
    "ExecuteTime": {
     "end_time": "2020-01-19T17:46:16.520918Z",
     "start_time": "2020-01-19T17:46:16.468859Z"
    }
   },
   "outputs": [],
   "source": [
    "df = pd.DataFrame(rows)"
   ]
  },
  {
   "cell_type": "code",
   "execution_count": 45,
   "metadata": {
    "ExecuteTime": {
     "end_time": "2020-01-19T17:46:17.363384Z",
     "start_time": "2020-01-19T17:46:17.346680Z"
    }
   },
   "outputs": [],
   "source": [
    "df.to_csv('nba_player_over_unders_{}.csv'.format(date.today().strftime('%Y%m%d')))"
   ]
  },
  {
   "cell_type": "code",
   "execution_count": null,
   "metadata": {},
   "outputs": [],
   "source": []
  }
 ],
 "metadata": {
  "kernelspec": {
   "display_name": "Python 3",
   "language": "python",
   "name": "python3"
  },
  "language_info": {
   "codemirror_mode": {
    "name": "ipython",
    "version": 3
   },
   "file_extension": ".py",
   "mimetype": "text/x-python",
   "name": "python",
   "nbconvert_exporter": "python",
   "pygments_lexer": "ipython3",
   "version": "3.6.9"
  },
  "toc": {
   "base_numbering": 1,
   "nav_menu": {},
   "number_sections": true,
   "sideBar": true,
   "skip_h1_title": false,
   "title_cell": "Table of Contents",
   "title_sidebar": "Contents",
   "toc_cell": false,
   "toc_position": {},
   "toc_section_display": true,
   "toc_window_display": false
  }
 },
 "nbformat": 4,
 "nbformat_minor": 2
}
