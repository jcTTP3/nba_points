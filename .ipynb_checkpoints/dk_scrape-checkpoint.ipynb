{
 "cells": [
  {
   "cell_type": "code",
   "execution_count": 46,
   "metadata": {
    "ExecuteTime": {
     "end_time": "2020-01-20T14:28:21.448387Z",
     "start_time": "2020-01-20T14:28:15.712405Z"
    }
   },
   "outputs": [],
   "source": [
    "from bs4 import BeautifulSoup\n",
    "import requests\n",
    "from urllib.request import Request, urlopen\n",
    "from datetime import date\n",
    "import pandas as pd\n",
    "import nba_api.stats.endpoints as nba\n",
    "import mysql.connector\n",
    "from mysql.connector import errorcode\n",
    "import config\n",
    "import pandas as pd\n",
    "import numpy as np\n",
    "import matplotlib.pyplot as plt\n",
    "import seaborn as sns\n",
    "%matplotlib inline\n",
    "\n"
   ]
  },
  {
   "cell_type": "code",
   "execution_count": 126,
   "metadata": {
    "ExecuteTime": {
     "end_time": "2020-01-22T14:42:20.251734Z",
     "start_time": "2020-01-22T14:42:19.512559Z"
    }
   },
   "outputs": [],
   "source": [
    "dbname = 'nba'\n",
    "cnx = mysql.connector.connect(\n",
    "    host = config.host,\n",
    "    user = config.user,\n",
    "    passwd = config.password,\n",
    "    db = dbname\n",
    ")\n",
    "cursor = cnx.cursor(buffered = True)"
   ]
  },
  {
   "cell_type": "markdown",
   "metadata": {
    "ExecuteTime": {
     "end_time": "2020-01-30T21:44:32.537050Z",
     "start_time": "2020-01-30T21:44:32.533752Z"
    }
   },
   "source": [
    "## Access the link for NBA player Over/Unders to retrieve HTML"
   ]
  },
  {
   "cell_type": "code",
   "execution_count": 71,
   "metadata": {
    "ExecuteTime": {
     "end_time": "2020-01-20T17:11:50.555652Z",
     "start_time": "2020-01-20T17:11:49.448683Z"
    }
   },
   "outputs": [],
   "source": [
    "url = 'https://sportsbook.draftkings.com/leagues/basketball/103?category=player-props&subcategory=points'\n",
    "\n",
    "req = Request(url , headers={'User-Agent': 'Mozilla/5.0'})\n",
    "\n",
    "webpage = urlopen(req).read()\n",
    "\n",
    "page_soup = BeautifulSoup(webpage, \"html.parser\")"
   ]
  },
  {
   "cell_type": "code",
   "execution_count": null,
   "metadata": {},
   "outputs": [],
   "source": []
  },
  {
   "cell_type": "code",
   "execution_count": 47,
   "metadata": {
    "ExecuteTime": {
     "end_time": "2020-01-20T14:28:22.863518Z",
     "start_time": "2020-01-20T14:28:22.830329Z"
    }
   },
   "outputs": [],
   "source": [
    "dk_games = page_soup.find_all(\"a\", {\"class\": \"sportsbook-event-accordion__title\"})"
   ]
  },
  {
   "cell_type": "code",
   "execution_count": 48,
   "metadata": {
    "ExecuteTime": {
     "end_time": "2020-01-20T14:28:23.578104Z",
     "start_time": "2020-01-20T14:28:23.524199Z"
    }
   },
   "outputs": [],
   "source": [
    "dk_tables = page_soup.find_all(\"div\", {\"class\": \"sportsbook-table__body\"})"
   ]
  },
  {
   "cell_type": "code",
   "execution_count": 49,
   "metadata": {
    "ExecuteTime": {
     "end_time": "2020-01-20T14:28:24.211361Z",
     "start_time": "2020-01-20T14:28:24.196108Z"
    }
   },
   "outputs": [
    {
     "data": {
      "text/plain": [
       "[<span class=\"sportsbook-participant-name\">Derrick Rose</span>,\n",
       " <span class=\"sportsbook-participant-name\">Bruce Brown Jr.</span>,\n",
       " <span class=\"sportsbook-participant-name\">Andre Drummond</span>,\n",
       " <span class=\"sportsbook-participant-name\">Tony Snell</span>,\n",
       " <span class=\"sportsbook-participant-name\">Isaiah Thomas</span>,\n",
       " <span class=\"sportsbook-participant-name\">Sekou Doumbouya</span>,\n",
       " <span class=\"sportsbook-participant-name\">Bradley Beal</span>,\n",
       " <span class=\"sportsbook-participant-name\">Ian Mahinmi</span>]"
      ]
     },
     "execution_count": 49,
     "metadata": {},
     "output_type": "execute_result"
    }
   ],
   "source": [
    "dk_tables[0].find_all(\"span\", {\"class\": \"sportsbook-participant-name\"})"
   ]
  },
  {
   "cell_type": "code",
   "execution_count": 50,
   "metadata": {
    "ExecuteTime": {
     "end_time": "2020-01-20T14:28:29.306114Z",
     "start_time": "2020-01-20T14:28:29.296024Z"
    }
   },
   "outputs": [
    {
     "data": {
      "text/plain": [
       "[<span class=\"sportsbook-outcome-cell__label\">Over 22.5</span>,\n",
       " <span class=\"sportsbook-outcome-cell__label\">Over 9.5</span>,\n",
       " <span class=\"sportsbook-outcome-cell__label\">Over 17.5</span>,\n",
       " <span class=\"sportsbook-outcome-cell__label\">Over 8.5</span>,\n",
       " <span class=\"sportsbook-outcome-cell__label\">Over 11.5</span>,\n",
       " <span class=\"sportsbook-outcome-cell__label\">Over 11.5</span>,\n",
       " <span class=\"sportsbook-outcome-cell__label\">Over 23.5</span>,\n",
       " <span class=\"sportsbook-outcome-cell__label\">Over 7.5</span>,\n",
       " <span class=\"sportsbook-outcome-cell__label\">Under 22.5</span>,\n",
       " <span class=\"sportsbook-outcome-cell__label\">Under 9.5</span>,\n",
       " <span class=\"sportsbook-outcome-cell__label\">Under 17.5</span>,\n",
       " <span class=\"sportsbook-outcome-cell__label\">Under 8.5</span>,\n",
       " <span class=\"sportsbook-outcome-cell__label\">Under 11.5</span>,\n",
       " <span class=\"sportsbook-outcome-cell__label\">Under 11.5</span>,\n",
       " <span class=\"sportsbook-outcome-cell__label\">Under 23.5</span>,\n",
       " <span class=\"sportsbook-outcome-cell__label\">Under 7.5</span>]"
      ]
     },
     "execution_count": 50,
     "metadata": {},
     "output_type": "execute_result"
    }
   ],
   "source": [
    "dk_tables[0].find_all(\"span\", {\"class\": \"sportsbook-outcome-cell__label\"})"
   ]
  },
  {
   "cell_type": "code",
   "execution_count": 51,
   "metadata": {
    "ExecuteTime": {
     "end_time": "2020-01-20T14:28:31.398057Z",
     "start_time": "2020-01-20T14:28:31.389270Z"
    }
   },
   "outputs": [
    {
     "data": {
      "text/plain": [
       "[<span class=\"sportsbook-odds american default-color\">-117</span>,\n",
       " <span class=\"sportsbook-odds american default-color\">-105</span>,\n",
       " <span class=\"sportsbook-odds american default-color\">-125</span>,\n",
       " <span class=\"sportsbook-odds american default-color\">+102</span>,\n",
       " <span class=\"sportsbook-odds american default-color\">+118</span>,\n",
       " <span class=\"sportsbook-odds american default-color\">-120</span>,\n",
       " <span class=\"sportsbook-odds american default-color\">-134</span>,\n",
       " <span class=\"sportsbook-odds american default-color\">+108</span>,\n",
       " <span class=\"sportsbook-odds american default-color\">-105</span>,\n",
       " <span class=\"sportsbook-odds american default-color\">-117</span>,\n",
       " <span class=\"sportsbook-odds american default-color\">+104</span>,\n",
       " <span class=\"sportsbook-odds american default-color\">-124</span>,\n",
       " <span class=\"sportsbook-odds american default-color\">-143</span>,\n",
       " <span class=\"sportsbook-odds american default-color\">-103</span>,\n",
       " <span class=\"sportsbook-odds american default-color\">+110</span>,\n",
       " <span class=\"sportsbook-odds american default-color\">-132</span>]"
      ]
     },
     "execution_count": 51,
     "metadata": {},
     "output_type": "execute_result"
    }
   ],
   "source": [
    "dk_tables[0].find_all(\"span\", {\"class\": \"sportsbook-odds american default-color\"})"
   ]
  },
  {
   "cell_type": "code",
   "execution_count": 52,
   "metadata": {
    "ExecuteTime": {
     "end_time": "2020-01-20T14:28:33.411219Z",
     "start_time": "2020-01-20T14:28:33.405759Z"
    }
   },
   "outputs": [
    {
     "data": {
      "text/plain": [
       "'2020-01-20'"
      ]
     },
     "execution_count": 52,
     "metadata": {},
     "output_type": "execute_result"
    }
   ],
   "source": [
    "date.today().strftime('%Y-%m-%d')"
   ]
  },
  {
   "cell_type": "code",
   "execution_count": 53,
   "metadata": {
    "ExecuteTime": {
     "end_time": "2020-01-20T14:28:38.359995Z",
     "start_time": "2020-01-20T14:28:38.260950Z"
    }
   },
   "outputs": [],
   "source": [
    "rows = []\n",
    "\n",
    "# row_dict ={'game': ,\n",
    "#           'player_name': ,\n",
    "#           'over': ,\n",
    "#           'over_odds': ,\n",
    "#           'under': ,\n",
    "#           'under_odds': ,}\n",
    "\n",
    "for idx, game in enumerate(dk_games):\n",
    "    \n",
    "    table = dk_tables[idx]\n",
    "    players = table.find_all(\"span\", {\"class\": \"sportsbook-participant-name\"})\n",
    "    over_under = table.find_all(\"span\", {\"class\": \"sportsbook-outcome-cell__label\"})\n",
    "    odds = table.find_all(\"span\", {\"class\": \"sportsbook-odds american default-color\"})\n",
    "    \n",
    "    for index, player in enumerate(players):\n",
    "        \n",
    "        row_dict ={'game': game.get_text(),\n",
    "                   'date': date.today().strftime('%Y-%m-%d'),\n",
    "          'player_name': player.get_text(),\n",
    "          'over': over_under[index].get_text(),\n",
    "          'over_odds': odds[index].get_text(),\n",
    "          'under': over_under[index + len(players)].get_text(),\n",
    "          'under_odds':odds[index + len(players)].get_text()}\n",
    "        \n",
    "        rows.append(row_dict)\n",
    "    \n",
    "    "
   ]
  },
  {
   "cell_type": "code",
   "execution_count": 54,
   "metadata": {
    "ExecuteTime": {
     "end_time": "2020-01-20T14:28:39.685351Z",
     "start_time": "2020-01-20T14:28:39.680663Z"
    }
   },
   "outputs": [
    {
     "data": {
      "text/plain": [
       "{'game': 'Detroit Pistons @ Washington Wizards',\n",
       " 'date': '2020-01-20',\n",
       " 'player_name': 'Derrick Rose',\n",
       " 'over': 'Over 22.5',\n",
       " 'over_odds': '-117',\n",
       " 'under': 'Under 22.5',\n",
       " 'under_odds': '-105'}"
      ]
     },
     "execution_count": 54,
     "metadata": {},
     "output_type": "execute_result"
    }
   ],
   "source": [
    "rows[0]"
   ]
  },
  {
   "cell_type": "code",
   "execution_count": 55,
   "metadata": {
    "ExecuteTime": {
     "end_time": "2020-01-20T14:29:39.398845Z",
     "start_time": "2020-01-20T14:29:39.366030Z"
    }
   },
   "outputs": [],
   "source": [
    "df = pd.DataFrame(rows)"
   ]
  },
  {
   "cell_type": "code",
   "execution_count": 56,
   "metadata": {
    "ExecuteTime": {
     "end_time": "2020-01-20T14:29:40.242287Z",
     "start_time": "2020-01-20T14:29:40.219412Z"
    }
   },
   "outputs": [],
   "source": [
    "df.to_csv('nba_player_over_unders_{}.csv'.format(date.today().strftime('%Y%m%d')))"
   ]
  },
  {
   "cell_type": "code",
   "execution_count": 57,
   "metadata": {
    "ExecuteTime": {
     "end_time": "2020-01-20T17:02:39.626079Z",
     "start_time": "2020-01-20T17:02:39.427169Z"
    }
   },
   "outputs": [],
   "source": [
    "files = ['nba_player_over_unders_20200118.csv', 'nba_player_over_unders_20200119.csv', 'nba_player_over_unders_20200120.csv']\n",
    "csv = []\n",
    "\n",
    "for file in files:\n",
    "    csv.append(pd.read_csv(file))\n",
    "\n",
    "df = pd.concat(csv)"
   ]
  },
  {
   "cell_type": "code",
   "execution_count": 58,
   "metadata": {
    "ExecuteTime": {
     "end_time": "2020-01-20T17:02:41.254656Z",
     "start_time": "2020-01-20T17:02:41.220768Z"
    }
   },
   "outputs": [
    {
     "data": {
      "text/html": [
       "<div>\n",
       "<style scoped>\n",
       "    .dataframe tbody tr th:only-of-type {\n",
       "        vertical-align: middle;\n",
       "    }\n",
       "\n",
       "    .dataframe tbody tr th {\n",
       "        vertical-align: top;\n",
       "    }\n",
       "\n",
       "    .dataframe thead th {\n",
       "        text-align: right;\n",
       "    }\n",
       "</style>\n",
       "<table border=\"1\" class=\"dataframe\">\n",
       "  <thead>\n",
       "    <tr style=\"text-align: right;\">\n",
       "      <th></th>\n",
       "      <th>Unnamed: 0</th>\n",
       "      <th>game</th>\n",
       "      <th>date</th>\n",
       "      <th>player_name</th>\n",
       "      <th>over</th>\n",
       "      <th>over_odds</th>\n",
       "      <th>under</th>\n",
       "      <th>under_odds</th>\n",
       "    </tr>\n",
       "  </thead>\n",
       "  <tbody>\n",
       "    <tr>\n",
       "      <th>0</th>\n",
       "      <td>0</td>\n",
       "      <td>Los Angeles Clippers @ New Orleans Pelicans</td>\n",
       "      <td>2020-01-18</td>\n",
       "      <td>Brandon Ingram</td>\n",
       "      <td>Over 27.5</td>\n",
       "      <td>100</td>\n",
       "      <td>Under 27.5</td>\n",
       "      <td>-121</td>\n",
       "    </tr>\n",
       "    <tr>\n",
       "      <th>1</th>\n",
       "      <td>1</td>\n",
       "      <td>Los Angeles Clippers @ New Orleans Pelicans</td>\n",
       "      <td>2020-01-18</td>\n",
       "      <td>Lonzo Ball</td>\n",
       "      <td>Over 15.5</td>\n",
       "      <td>110</td>\n",
       "      <td>Under 15.5</td>\n",
       "      <td>-134</td>\n",
       "    </tr>\n",
       "    <tr>\n",
       "      <th>2</th>\n",
       "      <td>2</td>\n",
       "      <td>Los Angeles Clippers @ New Orleans Pelicans</td>\n",
       "      <td>2020-01-18</td>\n",
       "      <td>Derrick Favors</td>\n",
       "      <td>Over 12.5</td>\n",
       "      <td>100</td>\n",
       "      <td>Under 12.5</td>\n",
       "      <td>-121</td>\n",
       "    </tr>\n",
       "    <tr>\n",
       "      <th>3</th>\n",
       "      <td>3</td>\n",
       "      <td>Los Angeles Clippers @ New Orleans Pelicans</td>\n",
       "      <td>2020-01-18</td>\n",
       "      <td>Josh Hart</td>\n",
       "      <td>Over 11.5</td>\n",
       "      <td>-110</td>\n",
       "      <td>Under 11.5</td>\n",
       "      <td>-110</td>\n",
       "    </tr>\n",
       "    <tr>\n",
       "      <th>4</th>\n",
       "      <td>4</td>\n",
       "      <td>Los Angeles Clippers @ New Orleans Pelicans</td>\n",
       "      <td>2020-01-18</td>\n",
       "      <td>Kawhi Leonard</td>\n",
       "      <td>Over\\t 30.5</td>\n",
       "      <td>-110</td>\n",
       "      <td>Under 30.5</td>\n",
       "      <td>-110</td>\n",
       "    </tr>\n",
       "    <tr>\n",
       "      <th>...</th>\n",
       "      <td>...</td>\n",
       "      <td>...</td>\n",
       "      <td>...</td>\n",
       "      <td>...</td>\n",
       "      <td>...</td>\n",
       "      <td>...</td>\n",
       "      <td>...</td>\n",
       "      <td>...</td>\n",
       "    </tr>\n",
       "    <tr>\n",
       "      <th>90</th>\n",
       "      <td>90</td>\n",
       "      <td>San Antonio Spurs @ Phoenix Suns</td>\n",
       "      <td>2020-01-20</td>\n",
       "      <td>DeAndre Ayton</td>\n",
       "      <td>Over 17.5</td>\n",
       "      <td>-103</td>\n",
       "      <td>Under 17.5</td>\n",
       "      <td>-120</td>\n",
       "    </tr>\n",
       "    <tr>\n",
       "      <th>91</th>\n",
       "      <td>91</td>\n",
       "      <td>San Antonio Spurs @ Phoenix Suns</td>\n",
       "      <td>2020-01-20</td>\n",
       "      <td>Ricky Rubio</td>\n",
       "      <td>Over 14.5</td>\n",
       "      <td>-110</td>\n",
       "      <td>Under 14.5</td>\n",
       "      <td>-110</td>\n",
       "    </tr>\n",
       "    <tr>\n",
       "      <th>92</th>\n",
       "      <td>92</td>\n",
       "      <td>San Antonio Spurs @ Phoenix Suns</td>\n",
       "      <td>2020-01-20</td>\n",
       "      <td>Devin Booker</td>\n",
       "      <td>Over 28.5</td>\n",
       "      <td>-110</td>\n",
       "      <td>Under 28.5</td>\n",
       "      <td>-110</td>\n",
       "    </tr>\n",
       "    <tr>\n",
       "      <th>93</th>\n",
       "      <td>93</td>\n",
       "      <td>San Antonio Spurs @ Phoenix Suns</td>\n",
       "      <td>2020-01-20</td>\n",
       "      <td>LaMarcus Aldridge</td>\n",
       "      <td>Over 19.5</td>\n",
       "      <td>-107</td>\n",
       "      <td>Under 19.5</td>\n",
       "      <td>-114</td>\n",
       "    </tr>\n",
       "    <tr>\n",
       "      <th>94</th>\n",
       "      <td>94</td>\n",
       "      <td>San Antonio Spurs @ Phoenix Suns</td>\n",
       "      <td>2020-01-20</td>\n",
       "      <td>DeMar DeRozan</td>\n",
       "      <td>Over 24.5</td>\n",
       "      <td>-107</td>\n",
       "      <td>Under 24.5</td>\n",
       "      <td>-114</td>\n",
       "    </tr>\n",
       "  </tbody>\n",
       "</table>\n",
       "<p>167 rows × 8 columns</p>\n",
       "</div>"
      ],
      "text/plain": [
       "    Unnamed: 0                                         game        date  \\\n",
       "0            0  Los Angeles Clippers @ New Orleans Pelicans  2020-01-18   \n",
       "1            1  Los Angeles Clippers @ New Orleans Pelicans  2020-01-18   \n",
       "2            2  Los Angeles Clippers @ New Orleans Pelicans  2020-01-18   \n",
       "3            3  Los Angeles Clippers @ New Orleans Pelicans  2020-01-18   \n",
       "4            4  Los Angeles Clippers @ New Orleans Pelicans  2020-01-18   \n",
       "..         ...                                          ...         ...   \n",
       "90          90             San Antonio Spurs @ Phoenix Suns  2020-01-20   \n",
       "91          91             San Antonio Spurs @ Phoenix Suns  2020-01-20   \n",
       "92          92             San Antonio Spurs @ Phoenix Suns  2020-01-20   \n",
       "93          93             San Antonio Spurs @ Phoenix Suns  2020-01-20   \n",
       "94          94             San Antonio Spurs @ Phoenix Suns  2020-01-20   \n",
       "\n",
       "          player_name         over  over_odds       under  under_odds  \n",
       "0      Brandon Ingram    Over 27.5        100  Under 27.5        -121  \n",
       "1          Lonzo Ball    Over 15.5        110  Under 15.5        -134  \n",
       "2      Derrick Favors    Over 12.5        100  Under 12.5        -121  \n",
       "3           Josh Hart    Over 11.5       -110  Under 11.5        -110  \n",
       "4       Kawhi Leonard  Over\\t 30.5       -110  Under 30.5        -110  \n",
       "..                ...          ...        ...         ...         ...  \n",
       "90      DeAndre Ayton    Over 17.5       -103  Under 17.5        -120  \n",
       "91        Ricky Rubio    Over 14.5       -110  Under 14.5        -110  \n",
       "92       Devin Booker    Over 28.5       -110  Under 28.5        -110  \n",
       "93  LaMarcus Aldridge    Over 19.5       -107  Under 19.5        -114  \n",
       "94      DeMar DeRozan    Over 24.5       -107  Under 24.5        -114  \n",
       "\n",
       "[167 rows x 8 columns]"
      ]
     },
     "execution_count": 58,
     "metadata": {},
     "output_type": "execute_result"
    }
   ],
   "source": [
    "df"
   ]
  },
  {
   "cell_type": "code",
   "execution_count": 60,
   "metadata": {
    "ExecuteTime": {
     "end_time": "2020-01-20T17:03:30.754686Z",
     "start_time": "2020-01-20T17:03:30.747213Z"
    }
   },
   "outputs": [],
   "source": [
    "df.drop('Unnamed: 0', axis=1, inplace=True)"
   ]
  },
  {
   "cell_type": "code",
   "execution_count": 65,
   "metadata": {
    "ExecuteTime": {
     "end_time": "2020-01-20T17:07:06.432390Z",
     "start_time": "2020-01-20T17:07:06.427127Z"
    }
   },
   "outputs": [
    {
     "data": {
      "text/plain": [
       "'New Orleans Pelicans'"
      ]
     },
     "execution_count": 65,
     "metadata": {},
     "output_type": "execute_result"
    }
   ],
   "source": [
    "df['game'].values[0].split('@')[1][1:]"
   ]
  },
  {
   "cell_type": "code",
   "execution_count": 66,
   "metadata": {
    "ExecuteTime": {
     "end_time": "2020-01-20T17:07:17.278359Z",
     "start_time": "2020-01-20T17:07:17.273340Z"
    }
   },
   "outputs": [],
   "source": [
    "def split_game_away(x):\n",
    "    return x.split('@')[0][:-1]\n",
    "\n",
    "def split_game_home(x):\n",
    "    return x.split('@')[1][1:]"
   ]
  },
  {
   "cell_type": "code",
   "execution_count": 68,
   "metadata": {
    "ExecuteTime": {
     "end_time": "2020-01-20T17:08:23.599938Z",
     "start_time": "2020-01-20T17:08:23.593390Z"
    }
   },
   "outputs": [],
   "source": [
    "df['home'] = df['game'].apply(lambda x: split_game_home(x))\n",
    "df['away'] = df['game'].apply(lambda x: split_game_away(x))"
   ]
  },
  {
   "cell_type": "code",
   "execution_count": 69,
   "metadata": {
    "ExecuteTime": {
     "end_time": "2020-01-20T17:08:25.273469Z",
     "start_time": "2020-01-20T17:08:25.249190Z"
    }
   },
   "outputs": [
    {
     "data": {
      "text/html": [
       "<div>\n",
       "<style scoped>\n",
       "    .dataframe tbody tr th:only-of-type {\n",
       "        vertical-align: middle;\n",
       "    }\n",
       "\n",
       "    .dataframe tbody tr th {\n",
       "        vertical-align: top;\n",
       "    }\n",
       "\n",
       "    .dataframe thead th {\n",
       "        text-align: right;\n",
       "    }\n",
       "</style>\n",
       "<table border=\"1\" class=\"dataframe\">\n",
       "  <thead>\n",
       "    <tr style=\"text-align: right;\">\n",
       "      <th></th>\n",
       "      <th>game</th>\n",
       "      <th>date</th>\n",
       "      <th>player_name</th>\n",
       "      <th>over</th>\n",
       "      <th>over_odds</th>\n",
       "      <th>under</th>\n",
       "      <th>under_odds</th>\n",
       "      <th>home</th>\n",
       "      <th>away</th>\n",
       "    </tr>\n",
       "  </thead>\n",
       "  <tbody>\n",
       "    <tr>\n",
       "      <th>0</th>\n",
       "      <td>Los Angeles Clippers @ New Orleans Pelicans</td>\n",
       "      <td>2020-01-18</td>\n",
       "      <td>Brandon Ingram</td>\n",
       "      <td>Over 27.5</td>\n",
       "      <td>100</td>\n",
       "      <td>Under 27.5</td>\n",
       "      <td>-121</td>\n",
       "      <td>New Orleans Pelicans</td>\n",
       "      <td>Los Angeles Clippers</td>\n",
       "    </tr>\n",
       "    <tr>\n",
       "      <th>1</th>\n",
       "      <td>Los Angeles Clippers @ New Orleans Pelicans</td>\n",
       "      <td>2020-01-18</td>\n",
       "      <td>Lonzo Ball</td>\n",
       "      <td>Over 15.5</td>\n",
       "      <td>110</td>\n",
       "      <td>Under 15.5</td>\n",
       "      <td>-134</td>\n",
       "      <td>New Orleans Pelicans</td>\n",
       "      <td>Los Angeles Clippers</td>\n",
       "    </tr>\n",
       "    <tr>\n",
       "      <th>2</th>\n",
       "      <td>Los Angeles Clippers @ New Orleans Pelicans</td>\n",
       "      <td>2020-01-18</td>\n",
       "      <td>Derrick Favors</td>\n",
       "      <td>Over 12.5</td>\n",
       "      <td>100</td>\n",
       "      <td>Under 12.5</td>\n",
       "      <td>-121</td>\n",
       "      <td>New Orleans Pelicans</td>\n",
       "      <td>Los Angeles Clippers</td>\n",
       "    </tr>\n",
       "    <tr>\n",
       "      <th>3</th>\n",
       "      <td>Los Angeles Clippers @ New Orleans Pelicans</td>\n",
       "      <td>2020-01-18</td>\n",
       "      <td>Josh Hart</td>\n",
       "      <td>Over 11.5</td>\n",
       "      <td>-110</td>\n",
       "      <td>Under 11.5</td>\n",
       "      <td>-110</td>\n",
       "      <td>New Orleans Pelicans</td>\n",
       "      <td>Los Angeles Clippers</td>\n",
       "    </tr>\n",
       "    <tr>\n",
       "      <th>4</th>\n",
       "      <td>Los Angeles Clippers @ New Orleans Pelicans</td>\n",
       "      <td>2020-01-18</td>\n",
       "      <td>Kawhi Leonard</td>\n",
       "      <td>Over\\t 30.5</td>\n",
       "      <td>-110</td>\n",
       "      <td>Under 30.5</td>\n",
       "      <td>-110</td>\n",
       "      <td>New Orleans Pelicans</td>\n",
       "      <td>Los Angeles Clippers</td>\n",
       "    </tr>\n",
       "    <tr>\n",
       "      <th>...</th>\n",
       "      <td>...</td>\n",
       "      <td>...</td>\n",
       "      <td>...</td>\n",
       "      <td>...</td>\n",
       "      <td>...</td>\n",
       "      <td>...</td>\n",
       "      <td>...</td>\n",
       "      <td>...</td>\n",
       "      <td>...</td>\n",
       "    </tr>\n",
       "    <tr>\n",
       "      <th>90</th>\n",
       "      <td>San Antonio Spurs @ Phoenix Suns</td>\n",
       "      <td>2020-01-20</td>\n",
       "      <td>DeAndre Ayton</td>\n",
       "      <td>Over 17.5</td>\n",
       "      <td>-103</td>\n",
       "      <td>Under 17.5</td>\n",
       "      <td>-120</td>\n",
       "      <td>Phoenix Suns</td>\n",
       "      <td>San Antonio Spurs</td>\n",
       "    </tr>\n",
       "    <tr>\n",
       "      <th>91</th>\n",
       "      <td>San Antonio Spurs @ Phoenix Suns</td>\n",
       "      <td>2020-01-20</td>\n",
       "      <td>Ricky Rubio</td>\n",
       "      <td>Over 14.5</td>\n",
       "      <td>-110</td>\n",
       "      <td>Under 14.5</td>\n",
       "      <td>-110</td>\n",
       "      <td>Phoenix Suns</td>\n",
       "      <td>San Antonio Spurs</td>\n",
       "    </tr>\n",
       "    <tr>\n",
       "      <th>92</th>\n",
       "      <td>San Antonio Spurs @ Phoenix Suns</td>\n",
       "      <td>2020-01-20</td>\n",
       "      <td>Devin Booker</td>\n",
       "      <td>Over 28.5</td>\n",
       "      <td>-110</td>\n",
       "      <td>Under 28.5</td>\n",
       "      <td>-110</td>\n",
       "      <td>Phoenix Suns</td>\n",
       "      <td>San Antonio Spurs</td>\n",
       "    </tr>\n",
       "    <tr>\n",
       "      <th>93</th>\n",
       "      <td>San Antonio Spurs @ Phoenix Suns</td>\n",
       "      <td>2020-01-20</td>\n",
       "      <td>LaMarcus Aldridge</td>\n",
       "      <td>Over 19.5</td>\n",
       "      <td>-107</td>\n",
       "      <td>Under 19.5</td>\n",
       "      <td>-114</td>\n",
       "      <td>Phoenix Suns</td>\n",
       "      <td>San Antonio Spurs</td>\n",
       "    </tr>\n",
       "    <tr>\n",
       "      <th>94</th>\n",
       "      <td>San Antonio Spurs @ Phoenix Suns</td>\n",
       "      <td>2020-01-20</td>\n",
       "      <td>DeMar DeRozan</td>\n",
       "      <td>Over 24.5</td>\n",
       "      <td>-107</td>\n",
       "      <td>Under 24.5</td>\n",
       "      <td>-114</td>\n",
       "      <td>Phoenix Suns</td>\n",
       "      <td>San Antonio Spurs</td>\n",
       "    </tr>\n",
       "  </tbody>\n",
       "</table>\n",
       "<p>167 rows × 9 columns</p>\n",
       "</div>"
      ],
      "text/plain": [
       "                                           game        date  \\\n",
       "0   Los Angeles Clippers @ New Orleans Pelicans  2020-01-18   \n",
       "1   Los Angeles Clippers @ New Orleans Pelicans  2020-01-18   \n",
       "2   Los Angeles Clippers @ New Orleans Pelicans  2020-01-18   \n",
       "3   Los Angeles Clippers @ New Orleans Pelicans  2020-01-18   \n",
       "4   Los Angeles Clippers @ New Orleans Pelicans  2020-01-18   \n",
       "..                                          ...         ...   \n",
       "90             San Antonio Spurs @ Phoenix Suns  2020-01-20   \n",
       "91             San Antonio Spurs @ Phoenix Suns  2020-01-20   \n",
       "92             San Antonio Spurs @ Phoenix Suns  2020-01-20   \n",
       "93             San Antonio Spurs @ Phoenix Suns  2020-01-20   \n",
       "94             San Antonio Spurs @ Phoenix Suns  2020-01-20   \n",
       "\n",
       "          player_name         over  over_odds       under  under_odds  \\\n",
       "0      Brandon Ingram    Over 27.5        100  Under 27.5        -121   \n",
       "1          Lonzo Ball    Over 15.5        110  Under 15.5        -134   \n",
       "2      Derrick Favors    Over 12.5        100  Under 12.5        -121   \n",
       "3           Josh Hart    Over 11.5       -110  Under 11.5        -110   \n",
       "4       Kawhi Leonard  Over\\t 30.5       -110  Under 30.5        -110   \n",
       "..                ...          ...        ...         ...         ...   \n",
       "90      DeAndre Ayton    Over 17.5       -103  Under 17.5        -120   \n",
       "91        Ricky Rubio    Over 14.5       -110  Under 14.5        -110   \n",
       "92       Devin Booker    Over 28.5       -110  Under 28.5        -110   \n",
       "93  LaMarcus Aldridge    Over 19.5       -107  Under 19.5        -114   \n",
       "94      DeMar DeRozan    Over 24.5       -107  Under 24.5        -114   \n",
       "\n",
       "                    home                  away  \n",
       "0   New Orleans Pelicans  Los Angeles Clippers  \n",
       "1   New Orleans Pelicans  Los Angeles Clippers  \n",
       "2   New Orleans Pelicans  Los Angeles Clippers  \n",
       "3   New Orleans Pelicans  Los Angeles Clippers  \n",
       "4   New Orleans Pelicans  Los Angeles Clippers  \n",
       "..                   ...                   ...  \n",
       "90          Phoenix Suns     San Antonio Spurs  \n",
       "91          Phoenix Suns     San Antonio Spurs  \n",
       "92          Phoenix Suns     San Antonio Spurs  \n",
       "93          Phoenix Suns     San Antonio Spurs  \n",
       "94          Phoenix Suns     San Antonio Spurs  \n",
       "\n",
       "[167 rows x 9 columns]"
      ]
     },
     "execution_count": 69,
     "metadata": {},
     "output_type": "execute_result"
    }
   ],
   "source": [
    "df"
   ]
  },
  {
   "cell_type": "code",
   "execution_count": 73,
   "metadata": {
    "ExecuteTime": {
     "end_time": "2020-01-20T17:11:57.915646Z",
     "start_time": "2020-01-20T17:11:54.790462Z"
    }
   },
   "outputs": [
    {
     "data": {
      "text/html": [
       "<div>\n",
       "<style scoped>\n",
       "    .dataframe tbody tr th:only-of-type {\n",
       "        vertical-align: middle;\n",
       "    }\n",
       "\n",
       "    .dataframe tbody tr th {\n",
       "        vertical-align: top;\n",
       "    }\n",
       "\n",
       "    .dataframe thead th {\n",
       "        text-align: right;\n",
       "    }\n",
       "</style>\n",
       "<table border=\"1\" class=\"dataframe\">\n",
       "  <thead>\n",
       "    <tr style=\"text-align: right;\">\n",
       "      <th></th>\n",
       "      <th>GAME_ID</th>\n",
       "      <th>TEAM_ID</th>\n",
       "      <th>TEAM_ABBREVIATION</th>\n",
       "      <th>TEAM_CITY</th>\n",
       "      <th>PLAYER_ID</th>\n",
       "      <th>PLAYER_NAME</th>\n",
       "      <th>START_POSITION</th>\n",
       "      <th>COMMENT</th>\n",
       "      <th>MIN</th>\n",
       "      <th>FGM</th>\n",
       "      <th>...</th>\n",
       "      <th>PF</th>\n",
       "      <th>PTS</th>\n",
       "      <th>PLUS_MINUS</th>\n",
       "      <th>pk</th>\n",
       "      <th>TOS</th>\n",
       "      <th>SEASON_ID</th>\n",
       "      <th>DK_PTS</th>\n",
       "      <th>DD</th>\n",
       "      <th>TD</th>\n",
       "      <th>doubles</th>\n",
       "    </tr>\n",
       "  </thead>\n",
       "  <tbody>\n",
       "    <tr>\n",
       "      <th>0</th>\n",
       "      <td>None</td>\n",
       "      <td>NaN</td>\n",
       "      <td>None</td>\n",
       "      <td>None</td>\n",
       "      <td>NaN</td>\n",
       "      <td>None</td>\n",
       "      <td>None</td>\n",
       "      <td>None</td>\n",
       "      <td>None</td>\n",
       "      <td>NaN</td>\n",
       "      <td>...</td>\n",
       "      <td>NaN</td>\n",
       "      <td>NaN</td>\n",
       "      <td>NaN</td>\n",
       "      <td></td>\n",
       "      <td>NaN</td>\n",
       "      <td>22017</td>\n",
       "      <td>NaN</td>\n",
       "      <td>0.0</td>\n",
       "      <td>0.0</td>\n",
       "      <td>NaN</td>\n",
       "    </tr>\n",
       "    <tr>\n",
       "      <th>1</th>\n",
       "      <td>0021700001</td>\n",
       "      <td>1.610613e+09</td>\n",
       "      <td>CLE</td>\n",
       "      <td>Cleveland</td>\n",
       "      <td>101112.0</td>\n",
       "      <td>Channing Frye</td>\n",
       "      <td></td>\n",
       "      <td>DNP - Coach's Decision</td>\n",
       "      <td>None</td>\n",
       "      <td>NaN</td>\n",
       "      <td>...</td>\n",
       "      <td>NaN</td>\n",
       "      <td>NaN</td>\n",
       "      <td>NaN</td>\n",
       "      <td>0021700001101112</td>\n",
       "      <td>NaN</td>\n",
       "      <td>22017</td>\n",
       "      <td>NaN</td>\n",
       "      <td>0.0</td>\n",
       "      <td>0.0</td>\n",
       "      <td>NaN</td>\n",
       "    </tr>\n",
       "    <tr>\n",
       "      <th>2</th>\n",
       "      <td>0021700001</td>\n",
       "      <td>1.610613e+09</td>\n",
       "      <td>CLE</td>\n",
       "      <td>Cleveland</td>\n",
       "      <td>101181.0</td>\n",
       "      <td>Jose Calderon</td>\n",
       "      <td></td>\n",
       "      <td>DNP - Coach's Decision</td>\n",
       "      <td>None</td>\n",
       "      <td>NaN</td>\n",
       "      <td>...</td>\n",
       "      <td>NaN</td>\n",
       "      <td>NaN</td>\n",
       "      <td>NaN</td>\n",
       "      <td>0021700001101181</td>\n",
       "      <td>NaN</td>\n",
       "      <td>22017</td>\n",
       "      <td>NaN</td>\n",
       "      <td>0.0</td>\n",
       "      <td>0.0</td>\n",
       "      <td>NaN</td>\n",
       "    </tr>\n",
       "    <tr>\n",
       "      <th>3</th>\n",
       "      <td>0021700001</td>\n",
       "      <td>1.610613e+09</td>\n",
       "      <td>BOS</td>\n",
       "      <td>Boston</td>\n",
       "      <td>1626179.0</td>\n",
       "      <td>Terry Rozier</td>\n",
       "      <td></td>\n",
       "      <td></td>\n",
       "      <td>19:32</td>\n",
       "      <td>2.0</td>\n",
       "      <td>...</td>\n",
       "      <td>0.0</td>\n",
       "      <td>9.0</td>\n",
       "      <td>5.0</td>\n",
       "      <td>00217000011626179</td>\n",
       "      <td>0.0</td>\n",
       "      <td>22017</td>\n",
       "      <td>24.25</td>\n",
       "      <td>0.0</td>\n",
       "      <td>0.0</td>\n",
       "      <td>0.0</td>\n",
       "    </tr>\n",
       "    <tr>\n",
       "      <th>4</th>\n",
       "      <td>0021700001</td>\n",
       "      <td>1.610613e+09</td>\n",
       "      <td>CLE</td>\n",
       "      <td>Cleveland</td>\n",
       "      <td>1626224.0</td>\n",
       "      <td>Cedi Osman</td>\n",
       "      <td></td>\n",
       "      <td>DNP - Coach's Decision</td>\n",
       "      <td>None</td>\n",
       "      <td>NaN</td>\n",
       "      <td>...</td>\n",
       "      <td>NaN</td>\n",
       "      <td>NaN</td>\n",
       "      <td>NaN</td>\n",
       "      <td>00217000011626224</td>\n",
       "      <td>NaN</td>\n",
       "      <td>22017</td>\n",
       "      <td>NaN</td>\n",
       "      <td>0.0</td>\n",
       "      <td>0.0</td>\n",
       "      <td>NaN</td>\n",
       "    </tr>\n",
       "    <tr>\n",
       "      <th>...</th>\n",
       "      <td>...</td>\n",
       "      <td>...</td>\n",
       "      <td>...</td>\n",
       "      <td>...</td>\n",
       "      <td>...</td>\n",
       "      <td>...</td>\n",
       "      <td>...</td>\n",
       "      <td>...</td>\n",
       "      <td>...</td>\n",
       "      <td>...</td>\n",
       "      <td>...</td>\n",
       "      <td>...</td>\n",
       "      <td>...</td>\n",
       "      <td>...</td>\n",
       "      <td>...</td>\n",
       "      <td>...</td>\n",
       "      <td>...</td>\n",
       "      <td>...</td>\n",
       "      <td>...</td>\n",
       "      <td>...</td>\n",
       "      <td>...</td>\n",
       "    </tr>\n",
       "    <tr>\n",
       "      <th>77715</th>\n",
       "      <td>0021900636</td>\n",
       "      <td>1.610613e+09</td>\n",
       "      <td>SAC</td>\n",
       "      <td>Sacramento</td>\n",
       "      <td>203473.0</td>\n",
       "      <td>Dewayne Dedmon</td>\n",
       "      <td></td>\n",
       "      <td></td>\n",
       "      <td>12:13</td>\n",
       "      <td>1.0</td>\n",
       "      <td>...</td>\n",
       "      <td>2.0</td>\n",
       "      <td>3.0</td>\n",
       "      <td>-1.0</td>\n",
       "      <td>0021900636203473</td>\n",
       "      <td>0.0</td>\n",
       "      <td>22019</td>\n",
       "      <td>NaN</td>\n",
       "      <td>NaN</td>\n",
       "      <td>NaN</td>\n",
       "      <td>NaN</td>\n",
       "    </tr>\n",
       "    <tr>\n",
       "      <th>77716</th>\n",
       "      <td>0021900636</td>\n",
       "      <td>1.610613e+09</td>\n",
       "      <td>UTA</td>\n",
       "      <td>Utah</td>\n",
       "      <td>203497.0</td>\n",
       "      <td>Rudy Gobert</td>\n",
       "      <td>C</td>\n",
       "      <td></td>\n",
       "      <td>33:39</td>\n",
       "      <td>9.0</td>\n",
       "      <td>...</td>\n",
       "      <td>4.0</td>\n",
       "      <td>28.0</td>\n",
       "      <td>32.0</td>\n",
       "      <td>0021900636203497</td>\n",
       "      <td>1.0</td>\n",
       "      <td>22019</td>\n",
       "      <td>NaN</td>\n",
       "      <td>NaN</td>\n",
       "      <td>NaN</td>\n",
       "      <td>NaN</td>\n",
       "    </tr>\n",
       "    <tr>\n",
       "      <th>77717</th>\n",
       "      <td>0021900636</td>\n",
       "      <td>1.610613e+09</td>\n",
       "      <td>UTA</td>\n",
       "      <td>Utah</td>\n",
       "      <td>203903.0</td>\n",
       "      <td>Jordan Clarkson</td>\n",
       "      <td></td>\n",
       "      <td></td>\n",
       "      <td>27:01</td>\n",
       "      <td>8.0</td>\n",
       "      <td>...</td>\n",
       "      <td>1.0</td>\n",
       "      <td>20.0</td>\n",
       "      <td>12.0</td>\n",
       "      <td>0021900636203903</td>\n",
       "      <td>1.0</td>\n",
       "      <td>22019</td>\n",
       "      <td>NaN</td>\n",
       "      <td>NaN</td>\n",
       "      <td>NaN</td>\n",
       "      <td>NaN</td>\n",
       "    </tr>\n",
       "    <tr>\n",
       "      <th>77718</th>\n",
       "      <td>0021900636</td>\n",
       "      <td>1.610613e+09</td>\n",
       "      <td>SAC</td>\n",
       "      <td>Sacramento</td>\n",
       "      <td>203992.0</td>\n",
       "      <td>Bogdan Bogdanovic</td>\n",
       "      <td></td>\n",
       "      <td></td>\n",
       "      <td>22:48</td>\n",
       "      <td>5.0</td>\n",
       "      <td>...</td>\n",
       "      <td>1.0</td>\n",
       "      <td>11.0</td>\n",
       "      <td>-3.0</td>\n",
       "      <td>0021900636203992</td>\n",
       "      <td>2.0</td>\n",
       "      <td>22019</td>\n",
       "      <td>NaN</td>\n",
       "      <td>NaN</td>\n",
       "      <td>NaN</td>\n",
       "      <td>NaN</td>\n",
       "    </tr>\n",
       "    <tr>\n",
       "      <th>77719</th>\n",
       "      <td>0021900636</td>\n",
       "      <td>1.610613e+09</td>\n",
       "      <td>UTA</td>\n",
       "      <td>Utah</td>\n",
       "      <td>204060.0</td>\n",
       "      <td>Joe Ingles</td>\n",
       "      <td>G</td>\n",
       "      <td></td>\n",
       "      <td>30:45</td>\n",
       "      <td>1.0</td>\n",
       "      <td>...</td>\n",
       "      <td>1.0</td>\n",
       "      <td>2.0</td>\n",
       "      <td>17.0</td>\n",
       "      <td>0021900636204060</td>\n",
       "      <td>3.0</td>\n",
       "      <td>22019</td>\n",
       "      <td>NaN</td>\n",
       "      <td>NaN</td>\n",
       "      <td>NaN</td>\n",
       "      <td>NaN</td>\n",
       "    </tr>\n",
       "  </tbody>\n",
       "</table>\n",
       "<p>77720 rows × 34 columns</p>\n",
       "</div>"
      ],
      "text/plain": [
       "          GAME_ID       TEAM_ID TEAM_ABBREVIATION   TEAM_CITY  PLAYER_ID  \\\n",
       "0            None           NaN              None        None        NaN   \n",
       "1      0021700001  1.610613e+09               CLE   Cleveland   101112.0   \n",
       "2      0021700001  1.610613e+09               CLE   Cleveland   101181.0   \n",
       "3      0021700001  1.610613e+09               BOS      Boston  1626179.0   \n",
       "4      0021700001  1.610613e+09               CLE   Cleveland  1626224.0   \n",
       "...           ...           ...               ...         ...        ...   \n",
       "77715  0021900636  1.610613e+09               SAC  Sacramento   203473.0   \n",
       "77716  0021900636  1.610613e+09               UTA        Utah   203497.0   \n",
       "77717  0021900636  1.610613e+09               UTA        Utah   203903.0   \n",
       "77718  0021900636  1.610613e+09               SAC  Sacramento   203992.0   \n",
       "77719  0021900636  1.610613e+09               UTA        Utah   204060.0   \n",
       "\n",
       "             PLAYER_NAME START_POSITION  \\\n",
       "0                   None           None   \n",
       "1          Channing Frye                  \n",
       "2          Jose Calderon                  \n",
       "3           Terry Rozier                  \n",
       "4             Cedi Osman                  \n",
       "...                  ...            ...   \n",
       "77715     Dewayne Dedmon                  \n",
       "77716        Rudy Gobert              C   \n",
       "77717    Jordan Clarkson                  \n",
       "77718  Bogdan Bogdanovic                  \n",
       "77719         Joe Ingles              G   \n",
       "\n",
       "                                        COMMENT    MIN  FGM  ...   PF   PTS  \\\n",
       "0                                          None   None  NaN  ...  NaN   NaN   \n",
       "1      DNP - Coach's Decision                     None  NaN  ...  NaN   NaN   \n",
       "2      DNP - Coach's Decision                     None  NaN  ...  NaN   NaN   \n",
       "3                                                19:32  2.0  ...  0.0   9.0   \n",
       "4      DNP - Coach's Decision                     None  NaN  ...  NaN   NaN   \n",
       "...                                         ...    ...  ...  ...  ...   ...   \n",
       "77715                                            12:13  1.0  ...  2.0   3.0   \n",
       "77716                                            33:39  9.0  ...  4.0  28.0   \n",
       "77717                                            27:01  8.0  ...  1.0  20.0   \n",
       "77718                                            22:48  5.0  ...  1.0  11.0   \n",
       "77719                                            30:45  1.0  ...  1.0   2.0   \n",
       "\n",
       "       PLUS_MINUS                 pk  TOS  SEASON_ID  DK_PTS   DD   TD  \\\n",
       "0             NaN                     NaN      22017     NaN  0.0  0.0   \n",
       "1             NaN   0021700001101112  NaN      22017     NaN  0.0  0.0   \n",
       "2             NaN   0021700001101181  NaN      22017     NaN  0.0  0.0   \n",
       "3             5.0  00217000011626179  0.0      22017   24.25  0.0  0.0   \n",
       "4             NaN  00217000011626224  NaN      22017     NaN  0.0  0.0   \n",
       "...           ...                ...  ...        ...     ...  ...  ...   \n",
       "77715        -1.0   0021900636203473  0.0      22019     NaN  NaN  NaN   \n",
       "77716        32.0   0021900636203497  1.0      22019     NaN  NaN  NaN   \n",
       "77717        12.0   0021900636203903  1.0      22019     NaN  NaN  NaN   \n",
       "77718        -3.0   0021900636203992  2.0      22019     NaN  NaN  NaN   \n",
       "77719        17.0   0021900636204060  3.0      22019     NaN  NaN  NaN   \n",
       "\n",
       "       doubles  \n",
       "0          NaN  \n",
       "1          NaN  \n",
       "2          NaN  \n",
       "3          0.0  \n",
       "4          NaN  \n",
       "...        ...  \n",
       "77715      NaN  \n",
       "77716      NaN  \n",
       "77717      NaN  \n",
       "77718      NaN  \n",
       "77719      NaN  \n",
       "\n",
       "[77720 rows x 34 columns]"
      ]
     },
     "execution_count": 73,
     "metadata": {},
     "output_type": "execute_result"
    }
   ],
   "source": [
    "stmt = \"SELECT * from nba.box_score\"\n",
    "cursor.execute(stmt)\n",
    "scores = cursor.fetchall()\n",
    "\n",
    "field_names = [i[0] for i in cursor.description]\n",
    "\n",
    "box_scores = pd.DataFrame(scores)\n",
    "\n",
    "box_scores.columns = field_names\n",
    "\n",
    "box_scores\n",
    "\n"
   ]
  },
  {
   "cell_type": "code",
   "execution_count": 88,
   "metadata": {
    "ExecuteTime": {
     "end_time": "2020-01-20T17:31:37.630412Z",
     "start_time": "2020-01-20T17:31:37.593634Z"
    }
   },
   "outputs": [],
   "source": [
    "merged = pd.merge(left= df, right= box_scores[['PLAYER_NAME', 'PLAYER_ID']], left_on='player_name', right_on='PLAYER_NAME', how='left')"
   ]
  },
  {
   "cell_type": "code",
   "execution_count": 89,
   "metadata": {
    "ExecuteTime": {
     "end_time": "2020-01-20T17:31:37.994921Z",
     "start_time": "2020-01-20T17:31:37.966685Z"
    }
   },
   "outputs": [
    {
     "data": {
      "text/html": [
       "<div>\n",
       "<style scoped>\n",
       "    .dataframe tbody tr th:only-of-type {\n",
       "        vertical-align: middle;\n",
       "    }\n",
       "\n",
       "    .dataframe tbody tr th {\n",
       "        vertical-align: top;\n",
       "    }\n",
       "\n",
       "    .dataframe thead th {\n",
       "        text-align: right;\n",
       "    }\n",
       "</style>\n",
       "<table border=\"1\" class=\"dataframe\">\n",
       "  <thead>\n",
       "    <tr style=\"text-align: right;\">\n",
       "      <th></th>\n",
       "      <th>game</th>\n",
       "      <th>date</th>\n",
       "      <th>player_name</th>\n",
       "      <th>over</th>\n",
       "      <th>over_odds</th>\n",
       "      <th>under</th>\n",
       "      <th>under_odds</th>\n",
       "      <th>home</th>\n",
       "      <th>away</th>\n",
       "      <th>PLAYER_NAME</th>\n",
       "      <th>PLAYER_ID</th>\n",
       "    </tr>\n",
       "  </thead>\n",
       "  <tbody>\n",
       "    <tr>\n",
       "      <th>0</th>\n",
       "      <td>Los Angeles Clippers @ New Orleans Pelicans</td>\n",
       "      <td>2020-01-18</td>\n",
       "      <td>Brandon Ingram</td>\n",
       "      <td>Over 27.5</td>\n",
       "      <td>100</td>\n",
       "      <td>Under 27.5</td>\n",
       "      <td>-121</td>\n",
       "      <td>New Orleans Pelicans</td>\n",
       "      <td>Los Angeles Clippers</td>\n",
       "      <td>Brandon Ingram</td>\n",
       "      <td>1627742.0</td>\n",
       "    </tr>\n",
       "    <tr>\n",
       "      <th>1</th>\n",
       "      <td>Los Angeles Clippers @ New Orleans Pelicans</td>\n",
       "      <td>2020-01-18</td>\n",
       "      <td>Brandon Ingram</td>\n",
       "      <td>Over 27.5</td>\n",
       "      <td>100</td>\n",
       "      <td>Under 27.5</td>\n",
       "      <td>-121</td>\n",
       "      <td>New Orleans Pelicans</td>\n",
       "      <td>Los Angeles Clippers</td>\n",
       "      <td>Brandon Ingram</td>\n",
       "      <td>1627742.0</td>\n",
       "    </tr>\n",
       "    <tr>\n",
       "      <th>2</th>\n",
       "      <td>Los Angeles Clippers @ New Orleans Pelicans</td>\n",
       "      <td>2020-01-18</td>\n",
       "      <td>Brandon Ingram</td>\n",
       "      <td>Over 27.5</td>\n",
       "      <td>100</td>\n",
       "      <td>Under 27.5</td>\n",
       "      <td>-121</td>\n",
       "      <td>New Orleans Pelicans</td>\n",
       "      <td>Los Angeles Clippers</td>\n",
       "      <td>Brandon Ingram</td>\n",
       "      <td>1627742.0</td>\n",
       "    </tr>\n",
       "    <tr>\n",
       "      <th>3</th>\n",
       "      <td>Los Angeles Clippers @ New Orleans Pelicans</td>\n",
       "      <td>2020-01-18</td>\n",
       "      <td>Brandon Ingram</td>\n",
       "      <td>Over 27.5</td>\n",
       "      <td>100</td>\n",
       "      <td>Under 27.5</td>\n",
       "      <td>-121</td>\n",
       "      <td>New Orleans Pelicans</td>\n",
       "      <td>Los Angeles Clippers</td>\n",
       "      <td>Brandon Ingram</td>\n",
       "      <td>1627742.0</td>\n",
       "    </tr>\n",
       "    <tr>\n",
       "      <th>4</th>\n",
       "      <td>Los Angeles Clippers @ New Orleans Pelicans</td>\n",
       "      <td>2020-01-18</td>\n",
       "      <td>Brandon Ingram</td>\n",
       "      <td>Over 27.5</td>\n",
       "      <td>100</td>\n",
       "      <td>Under 27.5</td>\n",
       "      <td>-121</td>\n",
       "      <td>New Orleans Pelicans</td>\n",
       "      <td>Los Angeles Clippers</td>\n",
       "      <td>Brandon Ingram</td>\n",
       "      <td>1627742.0</td>\n",
       "    </tr>\n",
       "    <tr>\n",
       "      <th>...</th>\n",
       "      <td>...</td>\n",
       "      <td>...</td>\n",
       "      <td>...</td>\n",
       "      <td>...</td>\n",
       "      <td>...</td>\n",
       "      <td>...</td>\n",
       "      <td>...</td>\n",
       "      <td>...</td>\n",
       "      <td>...</td>\n",
       "      <td>...</td>\n",
       "      <td>...</td>\n",
       "    </tr>\n",
       "    <tr>\n",
       "      <th>24962</th>\n",
       "      <td>San Antonio Spurs @ Phoenix Suns</td>\n",
       "      <td>2020-01-20</td>\n",
       "      <td>DeMar DeRozan</td>\n",
       "      <td>Over 24.5</td>\n",
       "      <td>-107</td>\n",
       "      <td>Under 24.5</td>\n",
       "      <td>-114</td>\n",
       "      <td>Phoenix Suns</td>\n",
       "      <td>San Antonio Spurs</td>\n",
       "      <td>DeMar DeRozan</td>\n",
       "      <td>201942.0</td>\n",
       "    </tr>\n",
       "    <tr>\n",
       "      <th>24963</th>\n",
       "      <td>San Antonio Spurs @ Phoenix Suns</td>\n",
       "      <td>2020-01-20</td>\n",
       "      <td>DeMar DeRozan</td>\n",
       "      <td>Over 24.5</td>\n",
       "      <td>-107</td>\n",
       "      <td>Under 24.5</td>\n",
       "      <td>-114</td>\n",
       "      <td>Phoenix Suns</td>\n",
       "      <td>San Antonio Spurs</td>\n",
       "      <td>DeMar DeRozan</td>\n",
       "      <td>201942.0</td>\n",
       "    </tr>\n",
       "    <tr>\n",
       "      <th>24964</th>\n",
       "      <td>San Antonio Spurs @ Phoenix Suns</td>\n",
       "      <td>2020-01-20</td>\n",
       "      <td>DeMar DeRozan</td>\n",
       "      <td>Over 24.5</td>\n",
       "      <td>-107</td>\n",
       "      <td>Under 24.5</td>\n",
       "      <td>-114</td>\n",
       "      <td>Phoenix Suns</td>\n",
       "      <td>San Antonio Spurs</td>\n",
       "      <td>DeMar DeRozan</td>\n",
       "      <td>201942.0</td>\n",
       "    </tr>\n",
       "    <tr>\n",
       "      <th>24965</th>\n",
       "      <td>San Antonio Spurs @ Phoenix Suns</td>\n",
       "      <td>2020-01-20</td>\n",
       "      <td>DeMar DeRozan</td>\n",
       "      <td>Over 24.5</td>\n",
       "      <td>-107</td>\n",
       "      <td>Under 24.5</td>\n",
       "      <td>-114</td>\n",
       "      <td>Phoenix Suns</td>\n",
       "      <td>San Antonio Spurs</td>\n",
       "      <td>DeMar DeRozan</td>\n",
       "      <td>201942.0</td>\n",
       "    </tr>\n",
       "    <tr>\n",
       "      <th>24966</th>\n",
       "      <td>San Antonio Spurs @ Phoenix Suns</td>\n",
       "      <td>2020-01-20</td>\n",
       "      <td>DeMar DeRozan</td>\n",
       "      <td>Over 24.5</td>\n",
       "      <td>-107</td>\n",
       "      <td>Under 24.5</td>\n",
       "      <td>-114</td>\n",
       "      <td>Phoenix Suns</td>\n",
       "      <td>San Antonio Spurs</td>\n",
       "      <td>DeMar DeRozan</td>\n",
       "      <td>201942.0</td>\n",
       "    </tr>\n",
       "  </tbody>\n",
       "</table>\n",
       "<p>24967 rows × 11 columns</p>\n",
       "</div>"
      ],
      "text/plain": [
       "                                              game        date  \\\n",
       "0      Los Angeles Clippers @ New Orleans Pelicans  2020-01-18   \n",
       "1      Los Angeles Clippers @ New Orleans Pelicans  2020-01-18   \n",
       "2      Los Angeles Clippers @ New Orleans Pelicans  2020-01-18   \n",
       "3      Los Angeles Clippers @ New Orleans Pelicans  2020-01-18   \n",
       "4      Los Angeles Clippers @ New Orleans Pelicans  2020-01-18   \n",
       "...                                            ...         ...   \n",
       "24962             San Antonio Spurs @ Phoenix Suns  2020-01-20   \n",
       "24963             San Antonio Spurs @ Phoenix Suns  2020-01-20   \n",
       "24964             San Antonio Spurs @ Phoenix Suns  2020-01-20   \n",
       "24965             San Antonio Spurs @ Phoenix Suns  2020-01-20   \n",
       "24966             San Antonio Spurs @ Phoenix Suns  2020-01-20   \n",
       "\n",
       "          player_name       over  over_odds       under  under_odds  \\\n",
       "0      Brandon Ingram  Over 27.5        100  Under 27.5        -121   \n",
       "1      Brandon Ingram  Over 27.5        100  Under 27.5        -121   \n",
       "2      Brandon Ingram  Over 27.5        100  Under 27.5        -121   \n",
       "3      Brandon Ingram  Over 27.5        100  Under 27.5        -121   \n",
       "4      Brandon Ingram  Over 27.5        100  Under 27.5        -121   \n",
       "...               ...        ...        ...         ...         ...   \n",
       "24962   DeMar DeRozan  Over 24.5       -107  Under 24.5        -114   \n",
       "24963   DeMar DeRozan  Over 24.5       -107  Under 24.5        -114   \n",
       "24964   DeMar DeRozan  Over 24.5       -107  Under 24.5        -114   \n",
       "24965   DeMar DeRozan  Over 24.5       -107  Under 24.5        -114   \n",
       "24966   DeMar DeRozan  Over 24.5       -107  Under 24.5        -114   \n",
       "\n",
       "                       home                  away     PLAYER_NAME  PLAYER_ID  \n",
       "0      New Orleans Pelicans  Los Angeles Clippers  Brandon Ingram  1627742.0  \n",
       "1      New Orleans Pelicans  Los Angeles Clippers  Brandon Ingram  1627742.0  \n",
       "2      New Orleans Pelicans  Los Angeles Clippers  Brandon Ingram  1627742.0  \n",
       "3      New Orleans Pelicans  Los Angeles Clippers  Brandon Ingram  1627742.0  \n",
       "4      New Orleans Pelicans  Los Angeles Clippers  Brandon Ingram  1627742.0  \n",
       "...                     ...                   ...             ...        ...  \n",
       "24962          Phoenix Suns     San Antonio Spurs   DeMar DeRozan   201942.0  \n",
       "24963          Phoenix Suns     San Antonio Spurs   DeMar DeRozan   201942.0  \n",
       "24964          Phoenix Suns     San Antonio Spurs   DeMar DeRozan   201942.0  \n",
       "24965          Phoenix Suns     San Antonio Spurs   DeMar DeRozan   201942.0  \n",
       "24966          Phoenix Suns     San Antonio Spurs   DeMar DeRozan   201942.0  \n",
       "\n",
       "[24967 rows x 11 columns]"
      ]
     },
     "execution_count": 89,
     "metadata": {},
     "output_type": "execute_result"
    }
   ],
   "source": [
    "merged"
   ]
  },
  {
   "cell_type": "code",
   "execution_count": 90,
   "metadata": {
    "ExecuteTime": {
     "end_time": "2020-01-20T17:31:38.709371Z",
     "start_time": "2020-01-20T17:31:38.665230Z"
    }
   },
   "outputs": [],
   "source": [
    "merged.drop_duplicates(inplace=True)"
   ]
  },
  {
   "cell_type": "code",
   "execution_count": 91,
   "metadata": {
    "ExecuteTime": {
     "end_time": "2020-01-20T17:31:40.157371Z",
     "start_time": "2020-01-20T17:31:40.132048Z"
    }
   },
   "outputs": [
    {
     "data": {
      "text/html": [
       "<div>\n",
       "<style scoped>\n",
       "    .dataframe tbody tr th:only-of-type {\n",
       "        vertical-align: middle;\n",
       "    }\n",
       "\n",
       "    .dataframe tbody tr th {\n",
       "        vertical-align: top;\n",
       "    }\n",
       "\n",
       "    .dataframe thead th {\n",
       "        text-align: right;\n",
       "    }\n",
       "</style>\n",
       "<table border=\"1\" class=\"dataframe\">\n",
       "  <thead>\n",
       "    <tr style=\"text-align: right;\">\n",
       "      <th></th>\n",
       "      <th>game</th>\n",
       "      <th>date</th>\n",
       "      <th>player_name</th>\n",
       "      <th>over</th>\n",
       "      <th>over_odds</th>\n",
       "      <th>under</th>\n",
       "      <th>under_odds</th>\n",
       "      <th>home</th>\n",
       "      <th>away</th>\n",
       "      <th>PLAYER_NAME</th>\n",
       "      <th>PLAYER_ID</th>\n",
       "    </tr>\n",
       "  </thead>\n",
       "  <tbody>\n",
       "    <tr>\n",
       "      <th>0</th>\n",
       "      <td>Los Angeles Clippers @ New Orleans Pelicans</td>\n",
       "      <td>2020-01-18</td>\n",
       "      <td>Brandon Ingram</td>\n",
       "      <td>Over 27.5</td>\n",
       "      <td>100</td>\n",
       "      <td>Under 27.5</td>\n",
       "      <td>-121</td>\n",
       "      <td>New Orleans Pelicans</td>\n",
       "      <td>Los Angeles Clippers</td>\n",
       "      <td>Brandon Ingram</td>\n",
       "      <td>1627742.0</td>\n",
       "    </tr>\n",
       "    <tr>\n",
       "      <th>166</th>\n",
       "      <td>Los Angeles Clippers @ New Orleans Pelicans</td>\n",
       "      <td>2020-01-18</td>\n",
       "      <td>Lonzo Ball</td>\n",
       "      <td>Over 15.5</td>\n",
       "      <td>110</td>\n",
       "      <td>Under 15.5</td>\n",
       "      <td>-134</td>\n",
       "      <td>New Orleans Pelicans</td>\n",
       "      <td>Los Angeles Clippers</td>\n",
       "      <td>Lonzo Ball</td>\n",
       "      <td>1628366.0</td>\n",
       "    </tr>\n",
       "    <tr>\n",
       "      <th>306</th>\n",
       "      <td>Los Angeles Clippers @ New Orleans Pelicans</td>\n",
       "      <td>2020-01-18</td>\n",
       "      <td>Derrick Favors</td>\n",
       "      <td>Over 12.5</td>\n",
       "      <td>100</td>\n",
       "      <td>Under 12.5</td>\n",
       "      <td>-121</td>\n",
       "      <td>New Orleans Pelicans</td>\n",
       "      <td>Los Angeles Clippers</td>\n",
       "      <td>Derrick Favors</td>\n",
       "      <td>202324.0</td>\n",
       "    </tr>\n",
       "    <tr>\n",
       "      <th>501</th>\n",
       "      <td>Los Angeles Clippers @ New Orleans Pelicans</td>\n",
       "      <td>2020-01-18</td>\n",
       "      <td>Josh Hart</td>\n",
       "      <td>Over 11.5</td>\n",
       "      <td>-110</td>\n",
       "      <td>Under 11.5</td>\n",
       "      <td>-110</td>\n",
       "      <td>New Orleans Pelicans</td>\n",
       "      <td>Los Angeles Clippers</td>\n",
       "      <td>Josh Hart</td>\n",
       "      <td>1628404.0</td>\n",
       "    </tr>\n",
       "    <tr>\n",
       "      <th>680</th>\n",
       "      <td>Los Angeles Clippers @ New Orleans Pelicans</td>\n",
       "      <td>2020-01-18</td>\n",
       "      <td>Kawhi Leonard</td>\n",
       "      <td>Over\\t 30.5</td>\n",
       "      <td>-110</td>\n",
       "      <td>Under 30.5</td>\n",
       "      <td>-110</td>\n",
       "      <td>New Orleans Pelicans</td>\n",
       "      <td>Los Angeles Clippers</td>\n",
       "      <td>Kawhi Leonard</td>\n",
       "      <td>202695.0</td>\n",
       "    </tr>\n",
       "    <tr>\n",
       "      <th>...</th>\n",
       "      <td>...</td>\n",
       "      <td>...</td>\n",
       "      <td>...</td>\n",
       "      <td>...</td>\n",
       "      <td>...</td>\n",
       "      <td>...</td>\n",
       "      <td>...</td>\n",
       "      <td>...</td>\n",
       "      <td>...</td>\n",
       "      <td>...</td>\n",
       "      <td>...</td>\n",
       "    </tr>\n",
       "    <tr>\n",
       "      <th>24200</th>\n",
       "      <td>San Antonio Spurs @ Phoenix Suns</td>\n",
       "      <td>2020-01-20</td>\n",
       "      <td>DeAndre Ayton</td>\n",
       "      <td>Over 17.5</td>\n",
       "      <td>-103</td>\n",
       "      <td>Under 17.5</td>\n",
       "      <td>-120</td>\n",
       "      <td>Phoenix Suns</td>\n",
       "      <td>San Antonio Spurs</td>\n",
       "      <td>NaN</td>\n",
       "      <td>NaN</td>\n",
       "    </tr>\n",
       "    <tr>\n",
       "      <th>24201</th>\n",
       "      <td>San Antonio Spurs @ Phoenix Suns</td>\n",
       "      <td>2020-01-20</td>\n",
       "      <td>Ricky Rubio</td>\n",
       "      <td>Over 14.5</td>\n",
       "      <td>-110</td>\n",
       "      <td>Under 14.5</td>\n",
       "      <td>-110</td>\n",
       "      <td>Phoenix Suns</td>\n",
       "      <td>San Antonio Spurs</td>\n",
       "      <td>Ricky Rubio</td>\n",
       "      <td>201937.0</td>\n",
       "    </tr>\n",
       "    <tr>\n",
       "      <th>24388</th>\n",
       "      <td>San Antonio Spurs @ Phoenix Suns</td>\n",
       "      <td>2020-01-20</td>\n",
       "      <td>Devin Booker</td>\n",
       "      <td>Over 28.5</td>\n",
       "      <td>-110</td>\n",
       "      <td>Under 28.5</td>\n",
       "      <td>-110</td>\n",
       "      <td>Phoenix Suns</td>\n",
       "      <td>San Antonio Spurs</td>\n",
       "      <td>Devin Booker</td>\n",
       "      <td>1626164.0</td>\n",
       "    </tr>\n",
       "    <tr>\n",
       "      <th>24568</th>\n",
       "      <td>San Antonio Spurs @ Phoenix Suns</td>\n",
       "      <td>2020-01-20</td>\n",
       "      <td>LaMarcus Aldridge</td>\n",
       "      <td>Over 19.5</td>\n",
       "      <td>-107</td>\n",
       "      <td>Under 19.5</td>\n",
       "      <td>-114</td>\n",
       "      <td>Phoenix Suns</td>\n",
       "      <td>San Antonio Spurs</td>\n",
       "      <td>LaMarcus Aldridge</td>\n",
       "      <td>200746.0</td>\n",
       "    </tr>\n",
       "    <tr>\n",
       "      <th>24766</th>\n",
       "      <td>San Antonio Spurs @ Phoenix Suns</td>\n",
       "      <td>2020-01-20</td>\n",
       "      <td>DeMar DeRozan</td>\n",
       "      <td>Over 24.5</td>\n",
       "      <td>-107</td>\n",
       "      <td>Under 24.5</td>\n",
       "      <td>-114</td>\n",
       "      <td>Phoenix Suns</td>\n",
       "      <td>San Antonio Spurs</td>\n",
       "      <td>DeMar DeRozan</td>\n",
       "      <td>201942.0</td>\n",
       "    </tr>\n",
       "  </tbody>\n",
       "</table>\n",
       "<p>167 rows × 11 columns</p>\n",
       "</div>"
      ],
      "text/plain": [
       "                                              game        date  \\\n",
       "0      Los Angeles Clippers @ New Orleans Pelicans  2020-01-18   \n",
       "166    Los Angeles Clippers @ New Orleans Pelicans  2020-01-18   \n",
       "306    Los Angeles Clippers @ New Orleans Pelicans  2020-01-18   \n",
       "501    Los Angeles Clippers @ New Orleans Pelicans  2020-01-18   \n",
       "680    Los Angeles Clippers @ New Orleans Pelicans  2020-01-18   \n",
       "...                                            ...         ...   \n",
       "24200             San Antonio Spurs @ Phoenix Suns  2020-01-20   \n",
       "24201             San Antonio Spurs @ Phoenix Suns  2020-01-20   \n",
       "24388             San Antonio Spurs @ Phoenix Suns  2020-01-20   \n",
       "24568             San Antonio Spurs @ Phoenix Suns  2020-01-20   \n",
       "24766             San Antonio Spurs @ Phoenix Suns  2020-01-20   \n",
       "\n",
       "             player_name         over  over_odds       under  under_odds  \\\n",
       "0         Brandon Ingram    Over 27.5        100  Under 27.5        -121   \n",
       "166           Lonzo Ball    Over 15.5        110  Under 15.5        -134   \n",
       "306       Derrick Favors    Over 12.5        100  Under 12.5        -121   \n",
       "501            Josh Hart    Over 11.5       -110  Under 11.5        -110   \n",
       "680        Kawhi Leonard  Over\\t 30.5       -110  Under 30.5        -110   \n",
       "...                  ...          ...        ...         ...         ...   \n",
       "24200      DeAndre Ayton    Over 17.5       -103  Under 17.5        -120   \n",
       "24201        Ricky Rubio    Over 14.5       -110  Under 14.5        -110   \n",
       "24388       Devin Booker    Over 28.5       -110  Under 28.5        -110   \n",
       "24568  LaMarcus Aldridge    Over 19.5       -107  Under 19.5        -114   \n",
       "24766      DeMar DeRozan    Over 24.5       -107  Under 24.5        -114   \n",
       "\n",
       "                       home                  away        PLAYER_NAME  \\\n",
       "0      New Orleans Pelicans  Los Angeles Clippers     Brandon Ingram   \n",
       "166    New Orleans Pelicans  Los Angeles Clippers         Lonzo Ball   \n",
       "306    New Orleans Pelicans  Los Angeles Clippers     Derrick Favors   \n",
       "501    New Orleans Pelicans  Los Angeles Clippers          Josh Hart   \n",
       "680    New Orleans Pelicans  Los Angeles Clippers      Kawhi Leonard   \n",
       "...                     ...                   ...                ...   \n",
       "24200          Phoenix Suns     San Antonio Spurs                NaN   \n",
       "24201          Phoenix Suns     San Antonio Spurs        Ricky Rubio   \n",
       "24388          Phoenix Suns     San Antonio Spurs       Devin Booker   \n",
       "24568          Phoenix Suns     San Antonio Spurs  LaMarcus Aldridge   \n",
       "24766          Phoenix Suns     San Antonio Spurs      DeMar DeRozan   \n",
       "\n",
       "       PLAYER_ID  \n",
       "0      1627742.0  \n",
       "166    1628366.0  \n",
       "306     202324.0  \n",
       "501    1628404.0  \n",
       "680     202695.0  \n",
       "...          ...  \n",
       "24200        NaN  \n",
       "24201   201937.0  \n",
       "24388  1626164.0  \n",
       "24568   200746.0  \n",
       "24766   201942.0  \n",
       "\n",
       "[167 rows x 11 columns]"
      ]
     },
     "execution_count": 91,
     "metadata": {},
     "output_type": "execute_result"
    }
   ],
   "source": [
    "merged"
   ]
  },
  {
   "cell_type": "code",
   "execution_count": 82,
   "metadata": {
    "ExecuteTime": {
     "end_time": "2020-01-20T17:25:58.200128Z",
     "start_time": "2020-01-20T17:25:58.186209Z"
    }
   },
   "outputs": [
    {
     "name": "stdout",
     "output_type": "stream",
     "text": [
      "<class 'pandas.core.frame.DataFrame'>\n",
      "Int64Index: 167 entries, 0 to 24766\n",
      "Data columns (total 11 columns):\n",
      "game           167 non-null object\n",
      "date           167 non-null object\n",
      "player_name    167 non-null object\n",
      "over           167 non-null object\n",
      "over_odds      167 non-null int64\n",
      "under          167 non-null object\n",
      "under_odds     167 non-null int64\n",
      "home           167 non-null object\n",
      "away           167 non-null object\n",
      "PLAYER_NAME    152 non-null object\n",
      "PLAYER_ID      152 non-null float64\n",
      "dtypes: float64(1), int64(2), object(8)\n",
      "memory usage: 15.7+ KB\n"
     ]
    }
   ],
   "source": [
    "merged.info()"
   ]
  },
  {
   "cell_type": "code",
   "execution_count": 85,
   "metadata": {
    "ExecuteTime": {
     "end_time": "2020-01-20T17:30:10.927679Z",
     "start_time": "2020-01-20T17:30:10.922604Z"
    }
   },
   "outputs": [
    {
     "data": {
      "text/plain": [
       "'27.5'"
      ]
     },
     "execution_count": 85,
     "metadata": {},
     "output_type": "execute_result"
    }
   ],
   "source": [
    "merged['over'].values[0].split()[1]"
   ]
  },
  {
   "cell_type": "code",
   "execution_count": 94,
   "metadata": {
    "ExecuteTime": {
     "end_time": "2020-01-20T17:32:24.617054Z",
     "start_time": "2020-01-20T17:32:24.569782Z"
    },
    "scrolled": true
   },
   "outputs": [
    {
     "ename": "IndexError",
     "evalue": "list index out of range",
     "output_type": "error",
     "traceback": [
      "\u001b[0;31m---------------------------------------------------------------------------\u001b[0m",
      "\u001b[0;31mIndexError\u001b[0m                                Traceback (most recent call last)",
      "\u001b[0;32m<ipython-input-94-c3421038a0c1>\u001b[0m in \u001b[0;36m<module>\u001b[0;34m\u001b[0m\n\u001b[0;32m----> 1\u001b[0;31m \u001b[0mmerged\u001b[0m\u001b[0;34m[\u001b[0m\u001b[0;34m'over'\u001b[0m\u001b[0;34m]\u001b[0m \u001b[0;34m=\u001b[0m \u001b[0mmerged\u001b[0m\u001b[0;34m[\u001b[0m\u001b[0;34m'over'\u001b[0m\u001b[0;34m]\u001b[0m\u001b[0;34m.\u001b[0m\u001b[0mapply\u001b[0m\u001b[0;34m(\u001b[0m\u001b[0;32mlambda\u001b[0m \u001b[0mx\u001b[0m\u001b[0;34m:\u001b[0m \u001b[0mx\u001b[0m\u001b[0;34m.\u001b[0m\u001b[0msplit\u001b[0m\u001b[0;34m(\u001b[0m\u001b[0;34m)\u001b[0m\u001b[0;34m[\u001b[0m\u001b[0;36m1\u001b[0m\u001b[0;34m]\u001b[0m\u001b[0;34m)\u001b[0m\u001b[0;34m\u001b[0m\u001b[0;34m\u001b[0m\u001b[0m\n\u001b[0m\u001b[1;32m      2\u001b[0m \u001b[0mmerged\u001b[0m\u001b[0;34m[\u001b[0m\u001b[0;34m'under'\u001b[0m\u001b[0;34m]\u001b[0m \u001b[0;34m=\u001b[0m \u001b[0mmerged\u001b[0m\u001b[0;34m[\u001b[0m\u001b[0;34m'under'\u001b[0m\u001b[0;34m]\u001b[0m\u001b[0;34m.\u001b[0m\u001b[0mapply\u001b[0m\u001b[0;34m(\u001b[0m\u001b[0;32mlambda\u001b[0m \u001b[0mx\u001b[0m\u001b[0;34m:\u001b[0m \u001b[0mx\u001b[0m\u001b[0;34m.\u001b[0m\u001b[0msplit\u001b[0m\u001b[0;34m(\u001b[0m\u001b[0;34m)\u001b[0m\u001b[0;34m[\u001b[0m\u001b[0;36m1\u001b[0m\u001b[0;34m]\u001b[0m\u001b[0;34m)\u001b[0m\u001b[0;34m\u001b[0m\u001b[0;34m\u001b[0m\u001b[0m\n\u001b[1;32m      3\u001b[0m \u001b[0;34m\u001b[0m\u001b[0m\n\u001b[1;32m      4\u001b[0m \u001b[0;34m\u001b[0m\u001b[0m\n\u001b[1;32m      5\u001b[0m \u001b[0mmerged\u001b[0m\u001b[0;34m[\u001b[0m\u001b[0;34m'over'\u001b[0m\u001b[0;34m]\u001b[0m \u001b[0;34m=\u001b[0m \u001b[0mmerged\u001b[0m\u001b[0;34m[\u001b[0m\u001b[0;34m'over'\u001b[0m\u001b[0;34m]\u001b[0m\u001b[0;34m.\u001b[0m\u001b[0mastype\u001b[0m\u001b[0;34m(\u001b[0m\u001b[0mfloat\u001b[0m\u001b[0;34m)\u001b[0m\u001b[0;34m\u001b[0m\u001b[0;34m\u001b[0m\u001b[0m\n",
      "\u001b[0;32m~/anaconda3/lib/python3.6/site-packages/pandas/core/series.py\u001b[0m in \u001b[0;36mapply\u001b[0;34m(self, func, convert_dtype, args, **kwds)\u001b[0m\n\u001b[1;32m   4043\u001b[0m             \u001b[0;32melse\u001b[0m\u001b[0;34m:\u001b[0m\u001b[0;34m\u001b[0m\u001b[0;34m\u001b[0m\u001b[0m\n\u001b[1;32m   4044\u001b[0m                 \u001b[0mvalues\u001b[0m \u001b[0;34m=\u001b[0m \u001b[0mself\u001b[0m\u001b[0;34m.\u001b[0m\u001b[0mastype\u001b[0m\u001b[0;34m(\u001b[0m\u001b[0mobject\u001b[0m\u001b[0;34m)\u001b[0m\u001b[0;34m.\u001b[0m\u001b[0mvalues\u001b[0m\u001b[0;34m\u001b[0m\u001b[0;34m\u001b[0m\u001b[0m\n\u001b[0;32m-> 4045\u001b[0;31m                 \u001b[0mmapped\u001b[0m \u001b[0;34m=\u001b[0m \u001b[0mlib\u001b[0m\u001b[0;34m.\u001b[0m\u001b[0mmap_infer\u001b[0m\u001b[0;34m(\u001b[0m\u001b[0mvalues\u001b[0m\u001b[0;34m,\u001b[0m \u001b[0mf\u001b[0m\u001b[0;34m,\u001b[0m \u001b[0mconvert\u001b[0m\u001b[0;34m=\u001b[0m\u001b[0mconvert_dtype\u001b[0m\u001b[0;34m)\u001b[0m\u001b[0;34m\u001b[0m\u001b[0;34m\u001b[0m\u001b[0m\n\u001b[0m\u001b[1;32m   4046\u001b[0m \u001b[0;34m\u001b[0m\u001b[0m\n\u001b[1;32m   4047\u001b[0m         \u001b[0;32mif\u001b[0m \u001b[0mlen\u001b[0m\u001b[0;34m(\u001b[0m\u001b[0mmapped\u001b[0m\u001b[0;34m)\u001b[0m \u001b[0;32mand\u001b[0m \u001b[0misinstance\u001b[0m\u001b[0;34m(\u001b[0m\u001b[0mmapped\u001b[0m\u001b[0;34m[\u001b[0m\u001b[0;36m0\u001b[0m\u001b[0;34m]\u001b[0m\u001b[0;34m,\u001b[0m \u001b[0mSeries\u001b[0m\u001b[0;34m)\u001b[0m\u001b[0;34m:\u001b[0m\u001b[0;34m\u001b[0m\u001b[0;34m\u001b[0m\u001b[0m\n",
      "\u001b[0;32mpandas/_libs/lib.pyx\u001b[0m in \u001b[0;36mpandas._libs.lib.map_infer\u001b[0;34m()\u001b[0m\n",
      "\u001b[0;32m<ipython-input-94-c3421038a0c1>\u001b[0m in \u001b[0;36m<lambda>\u001b[0;34m(x)\u001b[0m\n\u001b[0;32m----> 1\u001b[0;31m \u001b[0mmerged\u001b[0m\u001b[0;34m[\u001b[0m\u001b[0;34m'over'\u001b[0m\u001b[0;34m]\u001b[0m \u001b[0;34m=\u001b[0m \u001b[0mmerged\u001b[0m\u001b[0;34m[\u001b[0m\u001b[0;34m'over'\u001b[0m\u001b[0;34m]\u001b[0m\u001b[0;34m.\u001b[0m\u001b[0mapply\u001b[0m\u001b[0;34m(\u001b[0m\u001b[0;32mlambda\u001b[0m \u001b[0mx\u001b[0m\u001b[0;34m:\u001b[0m \u001b[0mx\u001b[0m\u001b[0;34m.\u001b[0m\u001b[0msplit\u001b[0m\u001b[0;34m(\u001b[0m\u001b[0;34m)\u001b[0m\u001b[0;34m[\u001b[0m\u001b[0;36m1\u001b[0m\u001b[0;34m]\u001b[0m\u001b[0;34m)\u001b[0m\u001b[0;34m\u001b[0m\u001b[0;34m\u001b[0m\u001b[0m\n\u001b[0m\u001b[1;32m      2\u001b[0m \u001b[0mmerged\u001b[0m\u001b[0;34m[\u001b[0m\u001b[0;34m'under'\u001b[0m\u001b[0;34m]\u001b[0m \u001b[0;34m=\u001b[0m \u001b[0mmerged\u001b[0m\u001b[0;34m[\u001b[0m\u001b[0;34m'under'\u001b[0m\u001b[0;34m]\u001b[0m\u001b[0;34m.\u001b[0m\u001b[0mapply\u001b[0m\u001b[0;34m(\u001b[0m\u001b[0;32mlambda\u001b[0m \u001b[0mx\u001b[0m\u001b[0;34m:\u001b[0m \u001b[0mx\u001b[0m\u001b[0;34m.\u001b[0m\u001b[0msplit\u001b[0m\u001b[0;34m(\u001b[0m\u001b[0;34m)\u001b[0m\u001b[0;34m[\u001b[0m\u001b[0;36m1\u001b[0m\u001b[0;34m]\u001b[0m\u001b[0;34m)\u001b[0m\u001b[0;34m\u001b[0m\u001b[0;34m\u001b[0m\u001b[0m\n\u001b[1;32m      3\u001b[0m \u001b[0;34m\u001b[0m\u001b[0m\n\u001b[1;32m      4\u001b[0m \u001b[0;34m\u001b[0m\u001b[0m\n\u001b[1;32m      5\u001b[0m \u001b[0mmerged\u001b[0m\u001b[0;34m[\u001b[0m\u001b[0;34m'over'\u001b[0m\u001b[0;34m]\u001b[0m \u001b[0;34m=\u001b[0m \u001b[0mmerged\u001b[0m\u001b[0;34m[\u001b[0m\u001b[0;34m'over'\u001b[0m\u001b[0;34m]\u001b[0m\u001b[0;34m.\u001b[0m\u001b[0mastype\u001b[0m\u001b[0;34m(\u001b[0m\u001b[0mfloat\u001b[0m\u001b[0;34m)\u001b[0m\u001b[0;34m\u001b[0m\u001b[0;34m\u001b[0m\u001b[0m\n",
      "\u001b[0;31mIndexError\u001b[0m: list index out of range"
     ]
    }
   ],
   "source": [
    "merged['over'] = merged['over'].apply(lambda x: x.split()[1])\n",
    "merged['under'] = merged['under'].apply(lambda x: x.split()[1])\n",
    "\n",
    "\n"
   ]
  },
  {
   "cell_type": "code",
   "execution_count": 95,
   "metadata": {
    "ExecuteTime": {
     "end_time": "2020-01-20T17:33:03.925327Z",
     "start_time": "2020-01-20T17:33:03.919658Z"
    }
   },
   "outputs": [],
   "source": [
    "merged['over'] = merged['over'].astype(float)\n",
    "merged['under'] = merged['under'].astype(float)"
   ]
  },
  {
   "cell_type": "code",
   "execution_count": 98,
   "metadata": {
    "ExecuteTime": {
     "end_time": "2020-01-20T17:33:13.488707Z",
     "start_time": "2020-01-20T17:33:13.479905Z"
    }
   },
   "outputs": [
    {
     "name": "stdout",
     "output_type": "stream",
     "text": [
      "<class 'pandas.core.frame.DataFrame'>\n",
      "Int64Index: 167 entries, 0 to 24766\n",
      "Data columns (total 11 columns):\n",
      "game           167 non-null object\n",
      "date           167 non-null object\n",
      "player_name    167 non-null object\n",
      "over           167 non-null float64\n",
      "over_odds      167 non-null int64\n",
      "under          167 non-null float64\n",
      "under_odds     167 non-null int64\n",
      "home           167 non-null object\n",
      "away           167 non-null object\n",
      "PLAYER_NAME    152 non-null object\n",
      "PLAYER_ID      152 non-null float64\n",
      "dtypes: float64(3), int64(2), object(6)\n",
      "memory usage: 15.7+ KB\n"
     ]
    }
   ],
   "source": [
    "merged.info()"
   ]
  },
  {
   "cell_type": "code",
   "execution_count": 99,
   "metadata": {
    "ExecuteTime": {
     "end_time": "2020-01-20T17:38:19.728343Z",
     "start_time": "2020-01-20T17:38:19.723480Z"
    }
   },
   "outputs": [],
   "source": [
    "merged_insert = merged.drop('PLAYER_NAME', axis=1)"
   ]
  },
  {
   "cell_type": "code",
   "execution_count": 109,
   "metadata": {
    "ExecuteTime": {
     "end_time": "2020-01-20T17:43:01.813617Z",
     "start_time": "2020-01-20T17:43:01.808188Z"
    }
   },
   "outputs": [
    {
     "data": {
      "text/plain": [
       "Index(['game', 'date', 'player_name', 'over', 'over_odds', 'under',\n",
       "       'under_odds', 'home', 'away', 'PLAYER_ID'],\n",
       "      dtype='object')"
      ]
     },
     "execution_count": 109,
     "metadata": {},
     "output_type": "execute_result"
    }
   ],
   "source": [
    "merged_insert.columns"
   ]
  },
  {
   "cell_type": "code",
   "execution_count": 110,
   "metadata": {
    "ExecuteTime": {
     "end_time": "2020-01-20T17:43:41.748613Z",
     "start_time": "2020-01-20T17:43:41.744666Z"
    }
   },
   "outputs": [],
   "source": [
    "cols = ['game', 'date', 'player_name', 'over_', 'over_odds', 'under',\n",
    "       'under_odds', 'home', 'away', 'PLAYER_ID']\n",
    "merged_insert.columns = cols"
   ]
  },
  {
   "cell_type": "code",
   "execution_count": 121,
   "metadata": {
    "ExecuteTime": {
     "end_time": "2020-01-20T23:28:35.696463Z",
     "start_time": "2020-01-20T23:28:35.688037Z"
    }
   },
   "outputs": [],
   "source": [
    "tables = {}\n",
    "tables['player_over_under'] = (\n",
    "    \"CREATE TABLE player_over_under (\"\n",
    "    \" game varchar(100),\"\n",
    "    \" date varchar(20),\"\n",
    "    \" player_name varchar(100),\"\n",
    "    \" over_ float,\"\n",
    "    \" over_odds int,\"\n",
    "    \" under float,\"\n",
    "    \" under_odds int,\"\n",
    "    \" home varchar(100),\"\n",
    "    \" away varchar(100),\"\n",
    "    \" PLAYER_ID int\"\n",
    "    \") ENGINE=InnoDB\")"
   ]
  },
  {
   "cell_type": "code",
   "execution_count": 122,
   "metadata": {
    "ExecuteTime": {
     "end_time": "2020-01-20T23:28:39.233560Z",
     "start_time": "2020-01-20T23:28:39.152351Z"
    }
   },
   "outputs": [
    {
     "name": "stdout",
     "output_type": "stream",
     "text": [
      "Creating table player_over_under: OK\n"
     ]
    }
   ],
   "source": [
    "for table_name in tables:\n",
    "    table_description = tables[table_name]\n",
    "    try:\n",
    "        print(\"Creating table {}: \".format(table_name), end='')\n",
    "        cursor.execute(table_description)\n",
    "    except mysql.connector.Error as err:\n",
    "        if err.errno == errorcode.ER_TABLE_EXISTS_ERROR:\n",
    "            print(\"already exists.\")\n",
    "        else:\n",
    "            print(err.msg)\n",
    "    else:\n",
    "        print(\"OK\")"
   ]
  },
  {
   "cell_type": "code",
   "execution_count": 107,
   "metadata": {
    "ExecuteTime": {
     "end_time": "2020-01-20T17:42:19.210837Z",
     "start_time": "2020-01-20T17:42:19.201402Z"
    }
   },
   "outputs": [],
   "source": [
    "def insert_into_table(table, df):\n",
    "    import numpy as np\n",
    "    \n",
    "    ### Get column names from table\n",
    "    stmt = \"SELECT * from nba.{}\".format(table)\n",
    "    cursor.execute(stmt)\n",
    "    scores = cursor.fetchall()\n",
    "    \n",
    "    field_names = [i[0] for i in cursor.description]\n",
    "    \n",
    "    reordered_df = df[field_names]\n",
    "    ## replace nan with none for SQL\n",
    "    reordered_df.replace({np.nan: None}, inplace = True)\n",
    "    reordered_df.drop_duplicates(inplace=True)\n",
    "    \n",
    "    ## build insert statement using properly ordered columns\n",
    "    cols_insert = ''\n",
    "    str_insert = ''\n",
    "    for col in reordered_df.columns:\n",
    "        cols_insert += col + ', '\n",
    "        str_insert += '%s, '\n",
    "    cols_insert = cols_insert.strip(', ')\n",
    "    str_insert = str_insert.strip(', ')\n",
    "    \n",
    "    ## extract values from dataframe as tuples\n",
    "    \n",
    "    stats = [tuple(row) for row in reordered_df.values]\n",
    "    \n",
    "    # Insert and commit all the player stats\n",
    "    insert_statement = \"\"\"INSERT INTO nba.{} ({}) VALUES ({})\"\"\".format(table, cols_insert, str_insert)\n",
    "    cursor.executemany(insert_statement, stats)\n",
    "    cnx.commit()"
   ]
  },
  {
   "cell_type": "code",
   "execution_count": 123,
   "metadata": {
    "ExecuteTime": {
     "end_time": "2020-01-20T23:28:43.274985Z",
     "start_time": "2020-01-20T23:28:43.079732Z"
    }
   },
   "outputs": [],
   "source": [
    "insert_into_table('player_over_under', merged_insert)"
   ]
  },
  {
   "cell_type": "code",
   "execution_count": 112,
   "metadata": {
    "ExecuteTime": {
     "end_time": "2020-01-20T17:49:11.747078Z",
     "start_time": "2020-01-20T17:49:11.736735Z"
    }
   },
   "outputs": [],
   "source": [
    "def scrape_games():\n",
    "    dk_games = page_soup.find_all(\"a\", {\"class\": \"sportsbook-event-accordion__title\"})\n",
    "\n",
    "    dk_tables = page_soup.find_all(\"div\", {\"class\": \"sportsbook-table__body\"})\n",
    "    \n",
    "    date.today().strftime('%Y-%m-%d')\n",
    "    \n",
    "    rows = []\n",
    "\n",
    "    # row_dict ={'game': ,\n",
    "    #           'player_name': ,\n",
    "    #           'over': ,\n",
    "    #           'over_odds': ,\n",
    "    #           'under': ,\n",
    "    #           'under_odds': ,}\n",
    "\n",
    "    for idx, game in enumerate(dk_games):\n",
    "\n",
    "        table = dk_tables[idx]\n",
    "        players = table.find_all(\"span\", {\"class\": \"sportsbook-participant-name\"})\n",
    "        over_under = table.find_all(\"span\", {\"class\": \"sportsbook-outcome-cell__label\"})\n",
    "        odds = table.find_all(\"span\", {\"class\": \"sportsbook-odds american default-color\"})\n",
    "\n",
    "        for index, player in enumerate(players):\n",
    "\n",
    "            row_dict ={'game': game.get_text(),\n",
    "                       'date': date.today().strftime('%Y-%m-%d'),\n",
    "              'player_name': player.get_text(),\n",
    "              'over': over_under[index].get_text(),\n",
    "              'over_odds': odds[index].get_text(),\n",
    "              'under': over_under[index + len(players)].get_text(),\n",
    "              'under_odds':odds[index + len(players)].get_text()}\n",
    "\n",
    "            rows.append(row_dict)\n",
    "            \n",
    "    \n",
    "    df = pd.DataFrame(rows)\n",
    "    \n",
    "    return df\n",
    "    "
   ]
  },
  {
   "cell_type": "code",
   "execution_count": 113,
   "metadata": {
    "ExecuteTime": {
     "end_time": "2020-01-20T17:49:21.446024Z",
     "start_time": "2020-01-20T17:49:21.264130Z"
    }
   },
   "outputs": [],
   "source": [
    "games = scrape_games()"
   ]
  },
  {
   "cell_type": "code",
   "execution_count": 114,
   "metadata": {
    "ExecuteTime": {
     "end_time": "2020-01-20T17:49:23.896599Z",
     "start_time": "2020-01-20T17:49:23.878903Z"
    }
   },
   "outputs": [
    {
     "data": {
      "text/html": [
       "<div>\n",
       "<style scoped>\n",
       "    .dataframe tbody tr th:only-of-type {\n",
       "        vertical-align: middle;\n",
       "    }\n",
       "\n",
       "    .dataframe tbody tr th {\n",
       "        vertical-align: top;\n",
       "    }\n",
       "\n",
       "    .dataframe thead th {\n",
       "        text-align: right;\n",
       "    }\n",
       "</style>\n",
       "<table border=\"1\" class=\"dataframe\">\n",
       "  <thead>\n",
       "    <tr style=\"text-align: right;\">\n",
       "      <th></th>\n",
       "      <th>game</th>\n",
       "      <th>date</th>\n",
       "      <th>player_name</th>\n",
       "      <th>over</th>\n",
       "      <th>over_odds</th>\n",
       "      <th>under</th>\n",
       "      <th>under_odds</th>\n",
       "    </tr>\n",
       "  </thead>\n",
       "  <tbody>\n",
       "    <tr>\n",
       "      <th>0</th>\n",
       "      <td>Detroit Pistons @ Washington Wizards</td>\n",
       "      <td>2020-01-20</td>\n",
       "      <td>Derrick Rose</td>\n",
       "      <td>Over 22.5</td>\n",
       "      <td>-117</td>\n",
       "      <td>Under 22.5</td>\n",
       "      <td>-105</td>\n",
       "    </tr>\n",
       "    <tr>\n",
       "      <th>1</th>\n",
       "      <td>Detroit Pistons @ Washington Wizards</td>\n",
       "      <td>2020-01-20</td>\n",
       "      <td>Bruce Brown Jr.</td>\n",
       "      <td>Over 9.5</td>\n",
       "      <td>-105</td>\n",
       "      <td>Under 9.5</td>\n",
       "      <td>-117</td>\n",
       "    </tr>\n",
       "    <tr>\n",
       "      <th>2</th>\n",
       "      <td>Detroit Pistons @ Washington Wizards</td>\n",
       "      <td>2020-01-20</td>\n",
       "      <td>Andre Drummond</td>\n",
       "      <td>Over 17.5</td>\n",
       "      <td>-125</td>\n",
       "      <td>Under 17.5</td>\n",
       "      <td>+104</td>\n",
       "    </tr>\n",
       "    <tr>\n",
       "      <th>3</th>\n",
       "      <td>Detroit Pistons @ Washington Wizards</td>\n",
       "      <td>2020-01-20</td>\n",
       "      <td>Tony Snell</td>\n",
       "      <td>Over 8.5</td>\n",
       "      <td>+102</td>\n",
       "      <td>Under 8.5</td>\n",
       "      <td>-124</td>\n",
       "    </tr>\n",
       "    <tr>\n",
       "      <th>4</th>\n",
       "      <td>Detroit Pistons @ Washington Wizards</td>\n",
       "      <td>2020-01-20</td>\n",
       "      <td>Isaiah Thomas</td>\n",
       "      <td>Over 11.5</td>\n",
       "      <td>+118</td>\n",
       "      <td>Under 11.5</td>\n",
       "      <td>-143</td>\n",
       "    </tr>\n",
       "    <tr>\n",
       "      <th>...</th>\n",
       "      <td>...</td>\n",
       "      <td>...</td>\n",
       "      <td>...</td>\n",
       "      <td>...</td>\n",
       "      <td>...</td>\n",
       "      <td>...</td>\n",
       "      <td>...</td>\n",
       "    </tr>\n",
       "    <tr>\n",
       "      <th>90</th>\n",
       "      <td>San Antonio Spurs @ Phoenix Suns</td>\n",
       "      <td>2020-01-20</td>\n",
       "      <td>DeAndre Ayton</td>\n",
       "      <td>Over 17.5</td>\n",
       "      <td>-103</td>\n",
       "      <td>Under 17.5</td>\n",
       "      <td>-120</td>\n",
       "    </tr>\n",
       "    <tr>\n",
       "      <th>91</th>\n",
       "      <td>San Antonio Spurs @ Phoenix Suns</td>\n",
       "      <td>2020-01-20</td>\n",
       "      <td>Ricky Rubio</td>\n",
       "      <td>Over 14.5</td>\n",
       "      <td>-110</td>\n",
       "      <td>Under 14.5</td>\n",
       "      <td>-110</td>\n",
       "    </tr>\n",
       "    <tr>\n",
       "      <th>92</th>\n",
       "      <td>San Antonio Spurs @ Phoenix Suns</td>\n",
       "      <td>2020-01-20</td>\n",
       "      <td>Devin Booker</td>\n",
       "      <td>Over 28.5</td>\n",
       "      <td>-110</td>\n",
       "      <td>Under 28.5</td>\n",
       "      <td>-110</td>\n",
       "    </tr>\n",
       "    <tr>\n",
       "      <th>93</th>\n",
       "      <td>San Antonio Spurs @ Phoenix Suns</td>\n",
       "      <td>2020-01-20</td>\n",
       "      <td>LaMarcus Aldridge</td>\n",
       "      <td>Over 19.5</td>\n",
       "      <td>-107</td>\n",
       "      <td>Under 19.5</td>\n",
       "      <td>-114</td>\n",
       "    </tr>\n",
       "    <tr>\n",
       "      <th>94</th>\n",
       "      <td>San Antonio Spurs @ Phoenix Suns</td>\n",
       "      <td>2020-01-20</td>\n",
       "      <td>DeMar DeRozan</td>\n",
       "      <td>Over 24.5</td>\n",
       "      <td>-107</td>\n",
       "      <td>Under 24.5</td>\n",
       "      <td>-114</td>\n",
       "    </tr>\n",
       "  </tbody>\n",
       "</table>\n",
       "<p>95 rows × 7 columns</p>\n",
       "</div>"
      ],
      "text/plain": [
       "                                    game        date        player_name  \\\n",
       "0   Detroit Pistons @ Washington Wizards  2020-01-20       Derrick Rose   \n",
       "1   Detroit Pistons @ Washington Wizards  2020-01-20    Bruce Brown Jr.   \n",
       "2   Detroit Pistons @ Washington Wizards  2020-01-20     Andre Drummond   \n",
       "3   Detroit Pistons @ Washington Wizards  2020-01-20         Tony Snell   \n",
       "4   Detroit Pistons @ Washington Wizards  2020-01-20      Isaiah Thomas   \n",
       "..                                   ...         ...                ...   \n",
       "90      San Antonio Spurs @ Phoenix Suns  2020-01-20      DeAndre Ayton   \n",
       "91      San Antonio Spurs @ Phoenix Suns  2020-01-20        Ricky Rubio   \n",
       "92      San Antonio Spurs @ Phoenix Suns  2020-01-20       Devin Booker   \n",
       "93      San Antonio Spurs @ Phoenix Suns  2020-01-20  LaMarcus Aldridge   \n",
       "94      San Antonio Spurs @ Phoenix Suns  2020-01-20      DeMar DeRozan   \n",
       "\n",
       "         over over_odds       under under_odds  \n",
       "0   Over 22.5      -117  Under 22.5       -105  \n",
       "1    Over 9.5      -105   Under 9.5       -117  \n",
       "2   Over 17.5      -125  Under 17.5       +104  \n",
       "3    Over 8.5      +102   Under 8.5       -124  \n",
       "4   Over 11.5      +118  Under 11.5       -143  \n",
       "..        ...       ...         ...        ...  \n",
       "90  Over 17.5      -103  Under 17.5       -120  \n",
       "91  Over 14.5      -110  Under 14.5       -110  \n",
       "92  Over 28.5      -110  Under 28.5       -110  \n",
       "93  Over 19.5      -107  Under 19.5       -114  \n",
       "94  Over 24.5      -107  Under 24.5       -114  \n",
       "\n",
       "[95 rows x 7 columns]"
      ]
     },
     "execution_count": 114,
     "metadata": {},
     "output_type": "execute_result"
    }
   ],
   "source": [
    "games"
   ]
  },
  {
   "cell_type": "code",
   "execution_count": 115,
   "metadata": {
    "ExecuteTime": {
     "end_time": "2020-01-20T17:54:25.258453Z",
     "start_time": "2020-01-20T17:54:25.246960Z"
    }
   },
   "outputs": [],
   "source": [
    "def scrape_games_and_insert():\n",
    "    df = scrape_games()\n",
    "    \n",
    "    df['home'] = df['game'].apply(lambda x: split_game_home(x))\n",
    "    df['away'] = df['game'].apply(lambda x: split_game_away(x))\n",
    "    \n",
    "    stmt = \"SELECT * from nba.box_score\"\n",
    "    cursor.execute(stmt)\n",
    "    scores = cursor.fetchall()\n",
    "\n",
    "    field_names = [i[0] for i in cursor.description]\n",
    "\n",
    "    box_scores = pd.DataFrame(scores)\n",
    "\n",
    "    box_scores.columns = field_names\n",
    "    \n",
    "    merged = pd.merge(left= df, right= box_scores[['PLAYER_NAME', 'PLAYER_ID']], left_on='player_name', right_on='PLAYER_NAME', how='left')\n",
    "    merged.drop_duplicates(inplace=True)\n",
    "    \n",
    "    merged['over'] = merged['over'].apply(lambda x: x.split()[1])\n",
    "    merged['under'] = merged['under'].apply(lambda x: x.split()[1])\n",
    "    \n",
    "    merged['over'] = merged['over'].astype(float)\n",
    "    merged['under'] = merged['under'].astype(float)\n",
    "    \n",
    "    merged_insert = merged.drop('PLAYER_NAME', axis=1)\n",
    "\n",
    "    cols = ['game', 'date', 'player_name', 'over_', 'over_odds', 'under',\n",
    "       'under_odds', 'home', 'away', 'PLAYER_ID']\n",
    "    merged_insert.columns = cols\n",
    "    \n",
    "    insert_into_table('player_over_under', merged_insert)\n",
    "    \n",
    "    print('Player over unders inserted')"
   ]
  },
  {
   "cell_type": "code",
   "execution_count": 127,
   "metadata": {
    "ExecuteTime": {
     "end_time": "2020-01-22T14:42:35.672806Z",
     "start_time": "2020-01-22T14:42:32.131741Z"
    }
   },
   "outputs": [
    {
     "name": "stdout",
     "output_type": "stream",
     "text": [
      "Player over unders inserted\n"
     ]
    }
   ],
   "source": [
    "scrape_games_and_insert()"
   ]
  },
  {
   "cell_type": "code",
   "execution_count": null,
   "metadata": {},
   "outputs": [],
   "source": []
  }
 ],
 "metadata": {
  "kernelspec": {
   "display_name": "Python 3",
   "language": "python",
   "name": "python3"
  },
  "language_info": {
   "codemirror_mode": {
    "name": "ipython",
    "version": 3
   },
   "file_extension": ".py",
   "mimetype": "text/x-python",
   "name": "python",
   "nbconvert_exporter": "python",
   "pygments_lexer": "ipython3",
   "version": "3.6.9"
  },
  "toc": {
   "base_numbering": 1,
   "nav_menu": {},
   "number_sections": true,
   "sideBar": true,
   "skip_h1_title": false,
   "title_cell": "Table of Contents",
   "title_sidebar": "Contents",
   "toc_cell": false,
   "toc_position": {},
   "toc_section_display": true,
   "toc_window_display": true
  }
 },
 "nbformat": 4,
 "nbformat_minor": 2
}
