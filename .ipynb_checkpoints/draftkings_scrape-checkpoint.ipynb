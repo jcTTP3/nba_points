{
 "cells": [
  {
   "cell_type": "code",
   "execution_count": 16,
   "metadata": {
    "ExecuteTime": {
     "end_time": "2020-01-18T17:51:00.161166Z",
     "start_time": "2020-01-18T17:50:47.499247Z"
    }
   },
   "outputs": [],
   "source": [
    "from bs4 import BeautifulSoup\n",
    "import requests\n",
    "from urllib.request import Request, urlopen\n",
    "from datetime import date\n",
    "import pandas as pd\n",
    "\n",
    "url = 'https://sportsbook.draftkings.com/leagues/basketball/103?category=player-props&subcategory=points'\n",
    "\n",
    "req = Request(url , headers={'User-Agent': 'Mozilla/5.0'})\n",
    "\n",
    "webpage = urlopen(req).read()\n",
    "\n",
    "page_soup = BeautifulSoup(webpage, \"html.parser\")"
   ]
  },
  {
   "cell_type": "code",
   "execution_count": 7,
   "metadata": {
    "ExecuteTime": {
     "end_time": "2020-01-18T17:15:52.244636Z",
     "start_time": "2020-01-18T17:15:52.206435Z"
    }
   },
   "outputs": [],
   "source": [
    "dk_games = page_soup.find_all(\"a\", {\"class\": \"sportsbook-event-accordion__title\"})"
   ]
  },
  {
   "cell_type": "code",
   "execution_count": 6,
   "metadata": {
    "ExecuteTime": {
     "end_time": "2020-01-18T17:15:48.706859Z",
     "start_time": "2020-01-18T17:15:48.621912Z"
    }
   },
   "outputs": [],
   "source": [
    "dk_tables = page_soup.find_all(\"div\", {\"class\": \"sportsbook-table__body\"})"
   ]
  },
  {
   "cell_type": "code",
   "execution_count": 9,
   "metadata": {
    "ExecuteTime": {
     "end_time": "2020-01-18T17:18:11.708589Z",
     "start_time": "2020-01-18T17:18:11.693051Z"
    }
   },
   "outputs": [
    {
     "data": {
      "text/plain": [
       "[<span class=\"sportsbook-participant-name\">Brandon Ingram</span>,\n",
       " <span class=\"sportsbook-participant-name\">Lonzo Ball</span>,\n",
       " <span class=\"sportsbook-participant-name\">Derrick Favors</span>,\n",
       " <span class=\"sportsbook-participant-name\">Josh Hart</span>,\n",
       " <span class=\"sportsbook-participant-name\">Kawhi Leonard</span>,\n",
       " <span class=\"sportsbook-participant-name\">Patrick Beverley</span>,\n",
       " <span class=\"sportsbook-participant-name\">Ivica Zubac</span>,\n",
       " <span class=\"sportsbook-participant-name\">Landry Shamet</span>,\n",
       " <span class=\"sportsbook-participant-name\">Louis Williams</span>,\n",
       " <span class=\"sportsbook-participant-name\">Montrezl Harrell</span>]"
      ]
     },
     "execution_count": 9,
     "metadata": {},
     "output_type": "execute_result"
    }
   ],
   "source": [
    "dk_tables[0].find_all(\"span\", {\"class\": \"sportsbook-participant-name\"})"
   ]
  },
  {
   "cell_type": "code",
   "execution_count": 10,
   "metadata": {
    "ExecuteTime": {
     "end_time": "2020-01-18T17:21:37.901221Z",
     "start_time": "2020-01-18T17:21:37.875808Z"
    }
   },
   "outputs": [
    {
     "data": {
      "text/plain": [
       "[<span class=\"sportsbook-outcome-cell__label\">Over 27.5</span>,\n",
       " <span class=\"sportsbook-outcome-cell__label\">Over 15.5</span>,\n",
       " <span class=\"sportsbook-outcome-cell__label\">Over 12.5</span>,\n",
       " <span class=\"sportsbook-outcome-cell__label\">Over 11.5</span>,\n",
       " <span class=\"sportsbook-outcome-cell__label\">Over\t 30.5</span>,\n",
       " <span class=\"sportsbook-outcome-cell__label\">Over 9.5</span>,\n",
       " <span class=\"sportsbook-outcome-cell__label\">Over 9.5</span>,\n",
       " <span class=\"sportsbook-outcome-cell__label\">Over 9.5</span>,\n",
       " <span class=\"sportsbook-outcome-cell__label\">Over 22.5</span>,\n",
       " <span class=\"sportsbook-outcome-cell__label\">Over 20.5</span>,\n",
       " <span class=\"sportsbook-outcome-cell__label\">Under 27.5</span>,\n",
       " <span class=\"sportsbook-outcome-cell__label\">Under 15.5</span>,\n",
       " <span class=\"sportsbook-outcome-cell__label\">Under 12.5</span>,\n",
       " <span class=\"sportsbook-outcome-cell__label\">Under 11.5</span>,\n",
       " <span class=\"sportsbook-outcome-cell__label\">Under 30.5</span>,\n",
       " <span class=\"sportsbook-outcome-cell__label\">Under 9.5</span>,\n",
       " <span class=\"sportsbook-outcome-cell__label\">Under 9.5</span>,\n",
       " <span class=\"sportsbook-outcome-cell__label\">Under 9.5</span>,\n",
       " <span class=\"sportsbook-outcome-cell__label\">Under 22.5</span>,\n",
       " <span class=\"sportsbook-outcome-cell__label\">Under 20.5</span>]"
      ]
     },
     "execution_count": 10,
     "metadata": {},
     "output_type": "execute_result"
    }
   ],
   "source": [
    "dk_tables[0].find_all(\"span\", {\"class\": \"sportsbook-outcome-cell__label\"})"
   ]
  },
  {
   "cell_type": "code",
   "execution_count": 12,
   "metadata": {
    "ExecuteTime": {
     "end_time": "2020-01-18T17:23:28.100011Z",
     "start_time": "2020-01-18T17:23:28.086033Z"
    }
   },
   "outputs": [
    {
     "data": {
      "text/plain": [
       "[<span class=\"sportsbook-odds american default-color\">+100</span>,\n",
       " <span class=\"sportsbook-odds american default-color\">+110</span>,\n",
       " <span class=\"sportsbook-odds american default-color\">+100</span>,\n",
       " <span class=\"sportsbook-odds american default-color\">-110</span>,\n",
       " <span class=\"sportsbook-odds american default-color\">-110</span>,\n",
       " <span class=\"sportsbook-odds american default-color\">-121</span>,\n",
       " <span class=\"sportsbook-odds american default-color\">+100</span>,\n",
       " <span class=\"sportsbook-odds american default-color\">-134</span>,\n",
       " <span class=\"sportsbook-odds american default-color\">-110</span>,\n",
       " <span class=\"sportsbook-odds american default-color\">-110</span>,\n",
       " <span class=\"sportsbook-odds american default-color\">-121</span>,\n",
       " <span class=\"sportsbook-odds american default-color\">-134</span>,\n",
       " <span class=\"sportsbook-odds american default-color\">-121</span>,\n",
       " <span class=\"sportsbook-odds american default-color\">-110</span>,\n",
       " <span class=\"sportsbook-odds american default-color\">-110</span>,\n",
       " <span class=\"sportsbook-odds american default-color\">+100</span>,\n",
       " <span class=\"sportsbook-odds american default-color\">-121</span>,\n",
       " <span class=\"sportsbook-odds american default-color\">+110</span>,\n",
       " <span class=\"sportsbook-odds american default-color\">-110</span>,\n",
       " <span class=\"sportsbook-odds american default-color\">-110</span>]"
      ]
     },
     "execution_count": 12,
     "metadata": {},
     "output_type": "execute_result"
    }
   ],
   "source": [
    "dk_tables[0].find_all(\"span\", {\"class\": \"sportsbook-odds american default-color\"})"
   ]
  },
  {
   "cell_type": "code",
   "execution_count": 28,
   "metadata": {
    "ExecuteTime": {
     "end_time": "2020-01-18T17:57:03.164283Z",
     "start_time": "2020-01-18T17:57:03.157515Z"
    }
   },
   "outputs": [
    {
     "data": {
      "text/plain": [
       "'2020-01-18'"
      ]
     },
     "execution_count": 28,
     "metadata": {},
     "output_type": "execute_result"
    }
   ],
   "source": [
    "date.today().strftime('%Y-%m-%d')"
   ]
  },
  {
   "cell_type": "code",
   "execution_count": 29,
   "metadata": {
    "ExecuteTime": {
     "end_time": "2020-01-18T17:57:14.832187Z",
     "start_time": "2020-01-18T17:57:14.717932Z"
    }
   },
   "outputs": [],
   "source": [
    "rows = []\n",
    "\n",
    "# row_dict ={'game': ,\n",
    "#           'player_name': ,\n",
    "#           'over': ,\n",
    "#           'over_odds': ,\n",
    "#           'under': ,\n",
    "#           'under_odds': ,}\n",
    "\n",
    "for idx, game in enumerate(dk_games):\n",
    "    \n",
    "    table = dk_tables[idx]\n",
    "    players = table.find_all(\"span\", {\"class\": \"sportsbook-participant-name\"})\n",
    "    over_under = table.find_all(\"span\", {\"class\": \"sportsbook-outcome-cell__label\"})\n",
    "    odds = table.find_all(\"span\", {\"class\": \"sportsbook-odds american default-color\"})\n",
    "    \n",
    "    for index, player in enumerate(players):\n",
    "        \n",
    "        row_dict ={'game': game.get_text(),\n",
    "                   'date': date.today().strftime('%Y-%m-%d'),\n",
    "          'player_name': player.get_text(),\n",
    "          'over': over_under[index].get_text(),\n",
    "          'over_odds': odds[index].get_text(),\n",
    "          'under': over_under[index + len(players)].get_text(),\n",
    "          'under_odds':odds[index + len(players)].get_text()}\n",
    "        \n",
    "        rows.append(row_dict)\n",
    "    \n",
    "    "
   ]
  },
  {
   "cell_type": "code",
   "execution_count": 30,
   "metadata": {
    "ExecuteTime": {
     "end_time": "2020-01-18T17:57:15.564219Z",
     "start_time": "2020-01-18T17:57:15.557035Z"
    }
   },
   "outputs": [
    {
     "data": {
      "text/plain": [
       "{'game': 'Los Angeles Clippers @ New Orleans Pelicans',\n",
       " 'date': '2020-01-18',\n",
       " 'player_name': 'Brandon Ingram',\n",
       " 'over': 'Over 27.5',\n",
       " 'over_odds': '+100',\n",
       " 'under': 'Under 27.5',\n",
       " 'under_odds': '-121'}"
      ]
     },
     "execution_count": 30,
     "metadata": {},
     "output_type": "execute_result"
    }
   ],
   "source": [
    "rows[0]"
   ]
  },
  {
   "cell_type": "code",
   "execution_count": 32,
   "metadata": {
    "ExecuteTime": {
     "end_time": "2020-01-18T17:58:51.255664Z",
     "start_time": "2020-01-18T17:58:51.241626Z"
    }
   },
   "outputs": [],
   "source": [
    "df = pd.DataFrame(rows)"
   ]
  },
  {
   "cell_type": "code",
   "execution_count": 34,
   "metadata": {
    "ExecuteTime": {
     "end_time": "2020-01-18T18:00:23.835272Z",
     "start_time": "2020-01-18T18:00:23.822010Z"
    }
   },
   "outputs": [],
   "source": [
    "df.to_csv('nba_player_over_unders_{}.csv'.format(date.today().strftime('%Y%m%d')))"
   ]
  },
  {
   "cell_type": "code",
   "execution_count": null,
   "metadata": {},
   "outputs": [],
   "source": []
  }
 ],
 "metadata": {
  "kernelspec": {
   "display_name": "Python 3",
   "language": "python",
   "name": "python3"
  },
  "language_info": {
   "codemirror_mode": {
    "name": "ipython",
    "version": 3
   },
   "file_extension": ".py",
   "mimetype": "text/x-python",
   "name": "python",
   "nbconvert_exporter": "python",
   "pygments_lexer": "ipython3",
   "version": "3.6.9"
  },
  "toc": {
   "base_numbering": 1,
   "nav_menu": {},
   "number_sections": true,
   "sideBar": true,
   "skip_h1_title": false,
   "title_cell": "Table of Contents",
   "title_sidebar": "Contents",
   "toc_cell": false,
   "toc_position": {},
   "toc_section_display": true,
   "toc_window_display": false
  }
 },
 "nbformat": 4,
 "nbformat_minor": 2
}
