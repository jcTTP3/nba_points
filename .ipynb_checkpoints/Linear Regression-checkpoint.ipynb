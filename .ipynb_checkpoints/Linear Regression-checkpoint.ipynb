{
 "cells": [
  {
   "cell_type": "markdown",
   "metadata": {},
   "source": [
    "# Linear Regression"
   ]
  },
  {
   "cell_type": "code",
   "execution_count": 157,
   "metadata": {
    "ExecuteTime": {
     "end_time": "2020-01-15T21:46:16.021268Z",
     "start_time": "2020-01-15T21:46:16.010283Z"
    }
   },
   "outputs": [],
   "source": [
    "import mysql.connector\n",
    "from mysql.connector import errorcode\n",
    "import config\n",
    "import pandas as pd\n",
    "import numpy as np\n",
    "import matplotlib.pyplot as plt\n",
    "import seaborn as sns\n",
    "from statsmodels.formula.api import ols\n",
    "from sklearn.linear_model import LinearRegression\n",
    "from sklearn.model_selection import train_test_split\n",
    "import scipy.stats as stats\n",
    "import plotly.graph_objects as go\n",
    "from sklearn.preprocessing import StandardScaler\n",
    "from sklearn.preprocessing import PowerTransformer\n",
    "from sklearn.metrics import mean_squared_error\n",
    "from math import sqrt\n",
    "\n",
    "pd.options.display.max_columns = 1000\n",
    "\n",
    "%matplotlib inline"
   ]
  },
  {
   "cell_type": "code",
   "execution_count": 30,
   "metadata": {
    "ExecuteTime": {
     "end_time": "2020-01-15T19:17:25.423888Z",
     "start_time": "2020-01-15T19:17:24.805295Z"
    }
   },
   "outputs": [],
   "source": [
    "dbname = 'nba'\n",
    "cnx = mysql.connector.connect(\n",
    "    host = config.host,\n",
    "    user = config.user,\n",
    "    passwd = config.password,\n",
    "    db = dbname\n",
    ")\n",
    "cursor = cnx.cursor(buffered = True)"
   ]
  },
  {
   "cell_type": "markdown",
   "metadata": {},
   "source": [
    "## Preprocessing"
   ]
  },
  {
   "cell_type": "markdown",
   "metadata": {
    "ExecuteTime": {
     "end_time": "2020-01-14T16:43:55.120436Z",
     "start_time": "2020-01-14T16:43:55.117784Z"
    }
   },
   "source": [
    "### Helper functions"
   ]
  },
  {
   "cell_type": "markdown",
   "metadata": {
    "ExecuteTime": {
     "end_time": "2020-01-14T16:29:02.217316Z",
     "start_time": "2020-01-14T16:29:02.213501Z"
    }
   },
   "source": [
    "#### Function to convert minutes to seconds"
   ]
  },
  {
   "cell_type": "code",
   "execution_count": 24,
   "metadata": {
    "ExecuteTime": {
     "end_time": "2020-01-15T16:10:59.224515Z",
     "start_time": "2020-01-15T16:10:59.213645Z"
    }
   },
   "outputs": [],
   "source": [
    "def calc_secs(x):\n",
    "    return int(x.split(':')[0])*60 + int(x.split(':')[1])"
   ]
  },
  {
   "cell_type": "code",
   "execution_count": 25,
   "metadata": {
    "ExecuteTime": {
     "end_time": "2020-01-15T16:11:00.411212Z",
     "start_time": "2020-01-15T16:11:00.382439Z"
    }
   },
   "outputs": [],
   "source": [
    "def sql_to_df(table, year=''):\n",
    "    \n",
    "    if year:\n",
    "        year_clean = '00' + year[0] + year[2:]\n",
    "        select_statement = \"select * from nba.{} where (GAME_ID REGEXP '(^{})') order by GAME_ID\".format(table, year_clean)\n",
    "    else:\n",
    "        select_statement = \"SELECT * FROM nba.{} order by GAME_ID;\".format(table)\n",
    "    \n",
    "    cursor.execute(select_statement)\n",
    "    data = cursor.fetchall()\n",
    "    data_df = pd.DataFrame(data)\n",
    "    \n",
    "    field_names = [i[0] for i in cursor.description]\n",
    "    data_df.columns = field_names\n",
    "    \n",
    "    return data_df"
   ]
  },
  {
   "cell_type": "code",
   "execution_count": 28,
   "metadata": {
    "ExecuteTime": {
     "end_time": "2020-01-15T17:06:34.100610Z",
     "start_time": "2020-01-15T17:06:34.067633Z"
    }
   },
   "outputs": [],
   "source": [
    "def join_date(data, year=''):\n",
    "    date = sql_to_df('game_logs', year)\n",
    "    \n",
    "    total_with_date = data.merge(date[['GAME_ID', 'GAME_DATE', 'TEAM_ABBREVIATION']], on=['GAME_ID', 'TEAM_ABBREVIATION'])\n",
    "    total_with_date['GAME_DATE'] = total_with_date['GAME_DATE'].astype('datetime64')\n",
    "    \n",
    "    players = []\n",
    "\n",
    "    for player in total_with_date['PLAYER_ID'].unique():\n",
    "        df = total_with_date[total_with_date['PLAYER_ID']==player]\n",
    "        df['rest_days'] = df['GAME_DATE'].diff()\n",
    "        df.dropna(inplace=True)\n",
    "        players.append(df)\n",
    "    return pd.concat(players)"
   ]
  },
  {
   "cell_type": "code",
   "execution_count": 57,
   "metadata": {
    "ExecuteTime": {
     "end_time": "2020-01-15T20:02:56.316759Z",
     "start_time": "2020-01-15T20:02:56.308871Z"
    }
   },
   "outputs": [],
   "source": [
    "def join_set_columns(data, year=''):\n",
    "\n",
    "    vegas = sql_to_df('vegas', year)\n",
    "    \n",
    "    total_with_date = data.merge(vegas[['line','total', 'game_id','team','site', 'date']], left_on=['GAME_ID', 'TEAM_ABBREVIATION'], \n",
    "                   right_on=['game_id', 'team'])\n",
    "    \n",
    "    total_with_date['date'] = total_with_date['date'].astype('datetime64')\n",
    "    \n",
    "    players = []\n",
    "\n",
    "    for player in total_with_date['PLAYER_ID'].unique():\n",
    "        df = total_with_date[total_with_date['PLAYER_ID']==player].sort_values(by='date')\n",
    "        df['rest_days'] = df['date'].diff()\n",
    "        df.dropna(inplace=True)\n",
    "        players.append(df)\n",
    "    return pd.concat(players)"
   ]
  },
  {
   "cell_type": "markdown",
   "metadata": {
    "ExecuteTime": {
     "end_time": "2020-01-14T16:44:34.665614Z",
     "start_time": "2020-01-14T16:44:34.663059Z"
    }
   },
   "source": [
    "### Aggregation functions"
   ]
  },
  {
   "cell_type": "markdown",
   "metadata": {
    "ExecuteTime": {
     "end_time": "2020-01-14T16:29:47.233711Z",
     "start_time": "2020-01-14T16:29:47.230953Z"
    }
   },
   "source": [
    "#### Function to calculate rolling statistics for players from box score data"
   ]
  },
  {
   "cell_type": "code",
   "execution_count": 54,
   "metadata": {
    "ExecuteTime": {
     "end_time": "2020-01-15T20:01:12.441172Z",
     "start_time": "2020-01-15T20:01:12.430164Z"
    }
   },
   "outputs": [],
   "source": [
    "def formated_player_stats(table, cols, year = '', lag = None):\n",
    "    \n",
    "    nba_df = sql_to_df(table, year)\n",
    "    \n",
    "    ### Drop games where players do not play\n",
    "    nba_df_played = nba_df[nba_df['MIN'].notnull()]\n",
    "    \n",
    "    ### Calculate seconds played in a game\n",
    "    nba_df_played['SEC'] = nba_df_played['MIN'].apply(lambda x : calc_secs(x))\n",
    "    \n",
    "    \n",
    "    players = []\n",
    "    cols = cols\n",
    "    for player in nba_df_played['PLAYER_ID'].unique():\n",
    "        df = nba_df_played[nba_df_played['PLAYER_ID']==player]\n",
    "        df['game_number'] = df['GAME_ID'].expanding().count()\n",
    "        for col in cols:\n",
    "            df['expanding_{}'.format(col)] = df.expanding().mean()[col].shift(1)\n",
    "            if lag:\n",
    "                df['rolling_{}'.format(col+str(lag))] = df.rolling(lag).mean()[col].shift(1)\n",
    "        df.dropna(inplace=True)\n",
    "        players.append(df)\n",
    "    return pd.concat(players)"
   ]
  },
  {
   "cell_type": "markdown",
   "metadata": {
    "ExecuteTime": {
     "end_time": "2020-01-14T21:17:12.361453Z",
     "start_time": "2020-01-14T21:17:12.344464Z"
    }
   },
   "source": [
    "#### Function to calculate rolling team statistics"
   ]
  },
  {
   "cell_type": "code",
   "execution_count": null,
   "metadata": {},
   "outputs": [],
   "source": [
    "def formatted_team_stats(table, cols, year = '', lag = None):\n",
    "    \n",
    "    pull = sql_to_df(table, year)\n",
    "    \n",
    "    teams_df = []\n",
    "    cols = cols\n",
    "    ### For every team, calculate the expanding mean for the given columns passed into the function, \n",
    "    ### and the the difference between the statistic in the game and the expanding mean leading up to that game\n",
    "    ### Answers the question \"how did a team perform compared to its average going into the game\"\n",
    "    for team in pull['TEAM_ID'].unique():\n",
    "        df = pull[pull['TEAM_ID']==team]\n",
    "        df['game_number'] = df['GAME_ID'].expanding().count()\n",
    "        for col in cols:\n",
    "            df['expanding_{}'.format(col)] = df.expanding().mean()[col].shift(1)\n",
    "            df['difference_{}'.format(col)] = df[col] - df['expanding_{}'.format(col)]\n",
    "            ### Add ability to see how team performs compared to their rolling average over a set of games\n",
    "            ### Answers question \"how did a team perform compared to its average over previous x number of games\"\n",
    "            if lag:\n",
    "                df['rolling_{}'.format(col+str(lag))] = df.rolling(lag).mean()[col].shift(1)\n",
    "                df['lag_difference_{}'.format(col)] = df[col] - df['rolling_{}'.format(col+str(lag))]\n",
    "            continue\n",
    "        df.dropna(inplace=True)\n",
    "        teams_df.append(df)\n",
    "        \n",
    "        \n",
    "    return pd.concat(teams_df)"
   ]
  },
  {
   "cell_type": "code",
   "execution_count": 159,
   "metadata": {
    "ExecuteTime": {
     "end_time": "2020-01-15T21:50:42.619452Z",
     "start_time": "2020-01-15T21:50:05.262028Z"
    }
   },
   "outputs": [
    {
     "name": "stderr",
     "output_type": "stream",
     "text": [
      "/Users/marshall132/anaconda3/lib/python3.6/site-packages/ipykernel_launcher.py:9: SettingWithCopyWarning:\n",
      "\n",
      "\n",
      "A value is trying to be set on a copy of a slice from a DataFrame.\n",
      "Try using .loc[row_indexer,col_indexer] = value instead\n",
      "\n",
      "See the caveats in the documentation: http://pandas.pydata.org/pandas-docs/stable/user_guide/indexing.html#returning-a-view-versus-a-copy\n",
      "\n",
      "/Users/marshall132/anaconda3/lib/python3.6/site-packages/ipykernel_launcher.py:16: SettingWithCopyWarning:\n",
      "\n",
      "\n",
      "A value is trying to be set on a copy of a slice from a DataFrame.\n",
      "Try using .loc[row_indexer,col_indexer] = value instead\n",
      "\n",
      "See the caveats in the documentation: http://pandas.pydata.org/pandas-docs/stable/user_guide/indexing.html#returning-a-view-versus-a-copy\n",
      "\n",
      "/Users/marshall132/anaconda3/lib/python3.6/site-packages/ipykernel_launcher.py:18: SettingWithCopyWarning:\n",
      "\n",
      "\n",
      "A value is trying to be set on a copy of a slice from a DataFrame.\n",
      "Try using .loc[row_indexer,col_indexer] = value instead\n",
      "\n",
      "See the caveats in the documentation: http://pandas.pydata.org/pandas-docs/stable/user_guide/indexing.html#returning-a-view-versus-a-copy\n",
      "\n",
      "/Users/marshall132/anaconda3/lib/python3.6/site-packages/ipykernel_launcher.py:21: SettingWithCopyWarning:\n",
      "\n",
      "\n",
      "A value is trying to be set on a copy of a slice from a DataFrame\n",
      "\n",
      "See the caveats in the documentation: http://pandas.pydata.org/pandas-docs/stable/user_guide/indexing.html#returning-a-view-versus-a-copy\n",
      "\n"
     ]
    }
   ],
   "source": [
    "cols = ['SEC', 'FGM', 'FGA','FG_PCT', 'FG3M', 'FG3A', 'FG3_PCT', 'FTM', 'FTA', 'FT_PCT', 'PTS']\n",
    "playerstats_2018 = formated_player_stats('box_score', cols = cols, year='2018')\n",
    "combined = join_set_columns(playerstats_2018, year='2018')"
   ]
  },
  {
   "cell_type": "code",
   "execution_count": 160,
   "metadata": {
    "ExecuteTime": {
     "end_time": "2020-01-15T21:50:47.101366Z",
     "start_time": "2020-01-15T21:50:47.020575Z"
    }
   },
   "outputs": [],
   "source": [
    "drop_cols = ['GAME_ID', 'TEAM_ID', 'TEAM_ABBREVIATION', 'TEAM_CITY', 'PLAYER_ID',\n",
    "       'PLAYER_NAME', 'START_POSITION', 'COMMENT', 'MIN', 'FGM', 'FGA',\n",
    "       'FG_PCT', 'FG3M', 'FG3A', 'FG3_PCT', 'FTM', 'FTA', 'FT_PCT', 'OREB',\n",
    "       'DREB', 'REB', 'AST', 'STL', 'BLK', 'PF', 'PLUS_MINUS', 'pk',\n",
    "       'TOS', 'SEASON_ID', 'DK_PTS', 'DD', 'TD', 'doubles', 'SEC', 'game_id', 'game_number', 'team']\n",
    "pre_transform = combined.drop(drop_cols, axis=1).sort_values(by='date')"
   ]
  },
  {
   "cell_type": "code",
   "execution_count": 161,
   "metadata": {
    "ExecuteTime": {
     "end_time": "2020-01-15T21:50:49.967119Z",
     "start_time": "2020-01-15T21:50:49.935488Z"
    }
   },
   "outputs": [
    {
     "data": {
      "text/html": [
       "<div>\n",
       "<style scoped>\n",
       "    .dataframe tbody tr th:only-of-type {\n",
       "        vertical-align: middle;\n",
       "    }\n",
       "\n",
       "    .dataframe tbody tr th {\n",
       "        vertical-align: top;\n",
       "    }\n",
       "\n",
       "    .dataframe thead th {\n",
       "        text-align: right;\n",
       "    }\n",
       "</style>\n",
       "<table border=\"1\" class=\"dataframe\">\n",
       "  <thead>\n",
       "    <tr style=\"text-align: right;\">\n",
       "      <th></th>\n",
       "      <th>PTS</th>\n",
       "      <th>expanding_SEC</th>\n",
       "      <th>expanding_FGM</th>\n",
       "      <th>expanding_FGA</th>\n",
       "      <th>expanding_FG_PCT</th>\n",
       "      <th>expanding_FG3M</th>\n",
       "      <th>expanding_FG3A</th>\n",
       "      <th>expanding_FG3_PCT</th>\n",
       "      <th>expanding_FTM</th>\n",
       "      <th>expanding_FTA</th>\n",
       "      <th>expanding_FT_PCT</th>\n",
       "      <th>expanding_PTS</th>\n",
       "      <th>line</th>\n",
       "      <th>total</th>\n",
       "      <th>site</th>\n",
       "      <th>date</th>\n",
       "      <th>rest_days</th>\n",
       "    </tr>\n",
       "  </thead>\n",
       "  <tbody>\n",
       "    <tr>\n",
       "      <th>9</th>\n",
       "      <td>10.0</td>\n",
       "      <td>1492.000000</td>\n",
       "      <td>3.500000</td>\n",
       "      <td>8.500000</td>\n",
       "      <td>0.393000</td>\n",
       "      <td>1.500000</td>\n",
       "      <td>2.500000</td>\n",
       "      <td>0.583500</td>\n",
       "      <td>1.000000</td>\n",
       "      <td>1.000000</td>\n",
       "      <td>0.500000</td>\n",
       "      <td>9.500000</td>\n",
       "      <td>-9.0</td>\n",
       "      <td>210.5</td>\n",
       "      <td>away</td>\n",
       "      <td>2018-10-20</td>\n",
       "      <td>1 days</td>\n",
       "    </tr>\n",
       "    <tr>\n",
       "      <th>19375</th>\n",
       "      <td>10.0</td>\n",
       "      <td>1121.000000</td>\n",
       "      <td>4.500000</td>\n",
       "      <td>7.000000</td>\n",
       "      <td>0.666500</td>\n",
       "      <td>0.500000</td>\n",
       "      <td>2.000000</td>\n",
       "      <td>0.250000</td>\n",
       "      <td>2.000000</td>\n",
       "      <td>3.000000</td>\n",
       "      <td>0.333500</td>\n",
       "      <td>11.500000</td>\n",
       "      <td>-3.0</td>\n",
       "      <td>219.0</td>\n",
       "      <td>away</td>\n",
       "      <td>2018-10-20</td>\n",
       "      <td>1 days</td>\n",
       "    </tr>\n",
       "    <tr>\n",
       "      <th>19376</th>\n",
       "      <td>31.0</td>\n",
       "      <td>1712.000000</td>\n",
       "      <td>3.000000</td>\n",
       "      <td>8.000000</td>\n",
       "      <td>0.366500</td>\n",
       "      <td>1.500000</td>\n",
       "      <td>2.000000</td>\n",
       "      <td>0.750000</td>\n",
       "      <td>2.500000</td>\n",
       "      <td>2.500000</td>\n",
       "      <td>1.000000</td>\n",
       "      <td>10.000000</td>\n",
       "      <td>-3.0</td>\n",
       "      <td>219.0</td>\n",
       "      <td>away</td>\n",
       "      <td>2018-10-20</td>\n",
       "      <td>1 days</td>\n",
       "    </tr>\n",
       "    <tr>\n",
       "      <th>19377</th>\n",
       "      <td>5.0</td>\n",
       "      <td>991.500000</td>\n",
       "      <td>2.500000</td>\n",
       "      <td>6.500000</td>\n",
       "      <td>0.393000</td>\n",
       "      <td>1.000000</td>\n",
       "      <td>2.000000</td>\n",
       "      <td>0.250000</td>\n",
       "      <td>0.000000</td>\n",
       "      <td>0.000000</td>\n",
       "      <td>0.000000</td>\n",
       "      <td>6.000000</td>\n",
       "      <td>-3.0</td>\n",
       "      <td>219.0</td>\n",
       "      <td>away</td>\n",
       "      <td>2018-10-20</td>\n",
       "      <td>1 days</td>\n",
       "    </tr>\n",
       "    <tr>\n",
       "      <th>19372</th>\n",
       "      <td>28.0</td>\n",
       "      <td>1617.000000</td>\n",
       "      <td>3.000000</td>\n",
       "      <td>9.000000</td>\n",
       "      <td>0.375000</td>\n",
       "      <td>0.000000</td>\n",
       "      <td>1.500000</td>\n",
       "      <td>0.000000</td>\n",
       "      <td>4.000000</td>\n",
       "      <td>4.000000</td>\n",
       "      <td>1.000000</td>\n",
       "      <td>10.000000</td>\n",
       "      <td>-3.0</td>\n",
       "      <td>219.0</td>\n",
       "      <td>away</td>\n",
       "      <td>2018-10-20</td>\n",
       "      <td>1 days</td>\n",
       "    </tr>\n",
       "    <tr>\n",
       "      <th>...</th>\n",
       "      <td>...</td>\n",
       "      <td>...</td>\n",
       "      <td>...</td>\n",
       "      <td>...</td>\n",
       "      <td>...</td>\n",
       "      <td>...</td>\n",
       "      <td>...</td>\n",
       "      <td>...</td>\n",
       "      <td>...</td>\n",
       "      <td>...</td>\n",
       "      <td>...</td>\n",
       "      <td>...</td>\n",
       "      <td>...</td>\n",
       "      <td>...</td>\n",
       "      <td>...</td>\n",
       "      <td>...</td>\n",
       "      <td>...</td>\n",
       "    </tr>\n",
       "    <tr>\n",
       "      <th>12526</th>\n",
       "      <td>20.0</td>\n",
       "      <td>1792.566667</td>\n",
       "      <td>7.616667</td>\n",
       "      <td>13.600000</td>\n",
       "      <td>0.557900</td>\n",
       "      <td>0.900000</td>\n",
       "      <td>2.600000</td>\n",
       "      <td>0.292500</td>\n",
       "      <td>3.333333</td>\n",
       "      <td>4.366667</td>\n",
       "      <td>0.701650</td>\n",
       "      <td>19.466667</td>\n",
       "      <td>-2.0</td>\n",
       "      <td>226.0</td>\n",
       "      <td>home</td>\n",
       "      <td>2019-04-10</td>\n",
       "      <td>5 days</td>\n",
       "    </tr>\n",
       "    <tr>\n",
       "      <th>12527</th>\n",
       "      <td>7.0</td>\n",
       "      <td>575.297872</td>\n",
       "      <td>1.319149</td>\n",
       "      <td>3.276596</td>\n",
       "      <td>0.318404</td>\n",
       "      <td>0.489362</td>\n",
       "      <td>1.617021</td>\n",
       "      <td>0.204617</td>\n",
       "      <td>0.510638</td>\n",
       "      <td>0.702128</td>\n",
       "      <td>0.234064</td>\n",
       "      <td>3.638298</td>\n",
       "      <td>-2.0</td>\n",
       "      <td>226.0</td>\n",
       "      <td>home</td>\n",
       "      <td>2019-04-10</td>\n",
       "      <td>3 days</td>\n",
       "    </tr>\n",
       "    <tr>\n",
       "      <th>20567</th>\n",
       "      <td>2.0</td>\n",
       "      <td>433.000000</td>\n",
       "      <td>1.333333</td>\n",
       "      <td>2.666667</td>\n",
       "      <td>0.404833</td>\n",
       "      <td>0.500000</td>\n",
       "      <td>1.000000</td>\n",
       "      <td>0.166667</td>\n",
       "      <td>0.333333</td>\n",
       "      <td>0.333333</td>\n",
       "      <td>0.166667</td>\n",
       "      <td>3.500000</td>\n",
       "      <td>5.0</td>\n",
       "      <td>229.0</td>\n",
       "      <td>away</td>\n",
       "      <td>2019-04-10</td>\n",
       "      <td>22 days</td>\n",
       "    </tr>\n",
       "    <tr>\n",
       "      <th>12528</th>\n",
       "      <td>2.0</td>\n",
       "      <td>864.625000</td>\n",
       "      <td>1.875000</td>\n",
       "      <td>2.750000</td>\n",
       "      <td>0.506250</td>\n",
       "      <td>0.000000</td>\n",
       "      <td>0.125000</td>\n",
       "      <td>0.000000</td>\n",
       "      <td>0.500000</td>\n",
       "      <td>1.000000</td>\n",
       "      <td>0.250000</td>\n",
       "      <td>4.250000</td>\n",
       "      <td>-2.0</td>\n",
       "      <td>226.0</td>\n",
       "      <td>home</td>\n",
       "      <td>2019-04-10</td>\n",
       "      <td>3 days</td>\n",
       "    </tr>\n",
       "    <tr>\n",
       "      <th>6048</th>\n",
       "      <td>0.0</td>\n",
       "      <td>1121.650794</td>\n",
       "      <td>2.507937</td>\n",
       "      <td>5.269841</td>\n",
       "      <td>0.458952</td>\n",
       "      <td>0.253968</td>\n",
       "      <td>0.746032</td>\n",
       "      <td>0.164016</td>\n",
       "      <td>1.507937</td>\n",
       "      <td>1.952381</td>\n",
       "      <td>0.455206</td>\n",
       "      <td>6.777778</td>\n",
       "      <td>-2.5</td>\n",
       "      <td>219.0</td>\n",
       "      <td>home</td>\n",
       "      <td>2019-04-10</td>\n",
       "      <td>5 days</td>\n",
       "    </tr>\n",
       "  </tbody>\n",
       "</table>\n",
       "<p>25054 rows × 17 columns</p>\n",
       "</div>"
      ],
      "text/plain": [
       "        PTS  expanding_SEC  expanding_FGM  expanding_FGA  expanding_FG_PCT  \\\n",
       "9      10.0    1492.000000       3.500000       8.500000          0.393000   \n",
       "19375  10.0    1121.000000       4.500000       7.000000          0.666500   \n",
       "19376  31.0    1712.000000       3.000000       8.000000          0.366500   \n",
       "19377   5.0     991.500000       2.500000       6.500000          0.393000   \n",
       "19372  28.0    1617.000000       3.000000       9.000000          0.375000   \n",
       "...     ...            ...            ...            ...               ...   \n",
       "12526  20.0    1792.566667       7.616667      13.600000          0.557900   \n",
       "12527   7.0     575.297872       1.319149       3.276596          0.318404   \n",
       "20567   2.0     433.000000       1.333333       2.666667          0.404833   \n",
       "12528   2.0     864.625000       1.875000       2.750000          0.506250   \n",
       "6048    0.0    1121.650794       2.507937       5.269841          0.458952   \n",
       "\n",
       "       expanding_FG3M  expanding_FG3A  expanding_FG3_PCT  expanding_FTM  \\\n",
       "9            1.500000        2.500000           0.583500       1.000000   \n",
       "19375        0.500000        2.000000           0.250000       2.000000   \n",
       "19376        1.500000        2.000000           0.750000       2.500000   \n",
       "19377        1.000000        2.000000           0.250000       0.000000   \n",
       "19372        0.000000        1.500000           0.000000       4.000000   \n",
       "...               ...             ...                ...            ...   \n",
       "12526        0.900000        2.600000           0.292500       3.333333   \n",
       "12527        0.489362        1.617021           0.204617       0.510638   \n",
       "20567        0.500000        1.000000           0.166667       0.333333   \n",
       "12528        0.000000        0.125000           0.000000       0.500000   \n",
       "6048         0.253968        0.746032           0.164016       1.507937   \n",
       "\n",
       "       expanding_FTA  expanding_FT_PCT  expanding_PTS  line  total  site  \\\n",
       "9           1.000000          0.500000       9.500000  -9.0  210.5  away   \n",
       "19375       3.000000          0.333500      11.500000  -3.0  219.0  away   \n",
       "19376       2.500000          1.000000      10.000000  -3.0  219.0  away   \n",
       "19377       0.000000          0.000000       6.000000  -3.0  219.0  away   \n",
       "19372       4.000000          1.000000      10.000000  -3.0  219.0  away   \n",
       "...              ...               ...            ...   ...    ...   ...   \n",
       "12526       4.366667          0.701650      19.466667  -2.0  226.0  home   \n",
       "12527       0.702128          0.234064       3.638298  -2.0  226.0  home   \n",
       "20567       0.333333          0.166667       3.500000   5.0  229.0  away   \n",
       "12528       1.000000          0.250000       4.250000  -2.0  226.0  home   \n",
       "6048        1.952381          0.455206       6.777778  -2.5  219.0  home   \n",
       "\n",
       "            date rest_days  \n",
       "9     2018-10-20    1 days  \n",
       "19375 2018-10-20    1 days  \n",
       "19376 2018-10-20    1 days  \n",
       "19377 2018-10-20    1 days  \n",
       "19372 2018-10-20    1 days  \n",
       "...          ...       ...  \n",
       "12526 2019-04-10    5 days  \n",
       "12527 2019-04-10    3 days  \n",
       "20567 2019-04-10   22 days  \n",
       "12528 2019-04-10    3 days  \n",
       "6048  2019-04-10    5 days  \n",
       "\n",
       "[25054 rows x 17 columns]"
      ]
     },
     "execution_count": 161,
     "metadata": {},
     "output_type": "execute_result"
    }
   ],
   "source": [
    "pre_transform"
   ]
  },
  {
   "cell_type": "code",
   "execution_count": 162,
   "metadata": {
    "ExecuteTime": {
     "end_time": "2020-01-15T21:50:59.956290Z",
     "start_time": "2020-01-15T21:50:59.944919Z"
    }
   },
   "outputs": [
    {
     "name": "stdout",
     "output_type": "stream",
     "text": [
      "<class 'pandas.core.frame.DataFrame'>\n",
      "Int64Index: 25054 entries, 9 to 6048\n",
      "Data columns (total 17 columns):\n",
      "PTS                  25054 non-null float64\n",
      "expanding_SEC        25054 non-null float64\n",
      "expanding_FGM        25054 non-null float64\n",
      "expanding_FGA        25054 non-null float64\n",
      "expanding_FG_PCT     25054 non-null float64\n",
      "expanding_FG3M       25054 non-null float64\n",
      "expanding_FG3A       25054 non-null float64\n",
      "expanding_FG3_PCT    25054 non-null float64\n",
      "expanding_FTM        25054 non-null float64\n",
      "expanding_FTA        25054 non-null float64\n",
      "expanding_FT_PCT     25054 non-null float64\n",
      "expanding_PTS        25054 non-null float64\n",
      "line                 25054 non-null float64\n",
      "total                25054 non-null float64\n",
      "site                 25054 non-null object\n",
      "date                 25054 non-null datetime64[ns]\n",
      "rest_days            25054 non-null timedelta64[ns]\n",
      "dtypes: datetime64[ns](1), float64(14), object(1), timedelta64[ns](1)\n",
      "memory usage: 3.4+ MB\n"
     ]
    }
   ],
   "source": [
    "pre_transform.info()"
   ]
  },
  {
   "cell_type": "code",
   "execution_count": 163,
   "metadata": {
    "ExecuteTime": {
     "end_time": "2020-01-15T21:51:03.485766Z",
     "start_time": "2020-01-15T21:51:03.481047Z"
    }
   },
   "outputs": [],
   "source": [
    "pre_transform['rest_days'] = pre_transform['rest_days'].dt.days"
   ]
  },
  {
   "cell_type": "code",
   "execution_count": 164,
   "metadata": {
    "ExecuteTime": {
     "end_time": "2020-01-15T21:51:11.363441Z",
     "start_time": "2020-01-15T21:51:06.578795Z"
    }
   },
   "outputs": [
    {
     "name": "stderr",
     "output_type": "stream",
     "text": [
      "/Users/marshall132/anaconda3/lib/python3.6/site-packages/ipykernel_launcher.py:3: UserWarning:\n",
      "\n",
      "To output multiple subplots, the figure containing the passed axes is being cleared\n",
      "\n",
      "/Users/marshall132/anaconda3/lib/python3.6/site-packages/pandas/plotting/_matplotlib/hist.py:412: MatplotlibDeprecationWarning:\n",
      "\n",
      "\n",
      "The 'normed' kwarg was deprecated in Matplotlib 2.1 and will be removed in 3.1. Use 'density' instead.\n",
      "\n"
     ]
    },
    {
     "data": {
      "image/png": "[encoded data removed]",
      "text/plain": [
       "<Figure size 1080x1080 with 16 Axes>"
      ]
     },
     "metadata": {
      "needs_background": "light"
     },
     "output_type": "display_data"
    }
   ],
   "source": [
    "\n",
    "fig = plt.figure(figsize=(15,15))\n",
    "ax = fig.gca()\n",
    "pre_transform.drop('date', axis=1).hist(ax = ax, normed=True, bins=20);\n"
   ]
  },
  {
   "cell_type": "markdown",
   "metadata": {},
   "source": [
    "### Select only 2/3 of the season to build the model and transform the variables on. Test on the end of the season"
   ]
  },
  {
   "cell_type": "code",
   "execution_count": 167,
   "metadata": {
    "ExecuteTime": {
     "end_time": "2020-01-15T21:52:09.904411Z",
     "start_time": "2020-01-15T21:52:09.898760Z"
    }
   },
   "outputs": [
    {
     "data": {
      "text/plain": [
       "25054"
      ]
     },
     "execution_count": 167,
     "metadata": {},
     "output_type": "execute_result"
    }
   ],
   "source": [
    "train_size = int(round(combined.shape[0]*(2/3),0))\n",
    "test_size = int(round(combined.shape[0]*(1/3),0))\n",
    "\n",
    "train_size + test_size"
   ]
  },
  {
   "cell_type": "code",
   "execution_count": 204,
   "metadata": {
    "ExecuteTime": {
     "end_time": "2020-01-15T22:32:23.373207Z",
     "start_time": "2020-01-15T22:32:23.356743Z"
    }
   },
   "outputs": [],
   "source": [
    "def do_regression(df, vars_to_transform):\n",
    "    \n",
    "    train = df.iloc[:train_size, :]\n",
    "    test = df.iloc[:test_size, :]\n",
    "    \n",
    "    train_copy = train.copy()\n",
    "\n",
    "    variables_to_transfrom = vars_to_transform\n",
    "    scaler = PowerTransformer(method = 'yeo-johnson', standardize = True)\n",
    "    \n",
    "    train_copy[variables_to_transfrom] = scaler.fit_transform(train[variables_to_transfrom])\n",
    "    \n",
    "    fig = plt.figure(figsize=(15,15))\n",
    "    ax = fig.gca()\n",
    "    train_copy.drop('date', axis=1).hist(ax = ax, normed=True, bins=20);\n",
    "    \n",
    "    corr_train = train_copy.corr()\n",
    "    fig = plt.figure(figsize = (15, 12))\n",
    "    ax = fig.gca()\n",
    "    sns.heatmap(corr_train, ax = ax)\n",
    "    \n",
    "    outcome = 'PTS'\n",
    "    predictors = train_copy.drop(labels=['PTS', 'date'], axis=1)\n",
    "    pred_sum = \"+\".join(predictors.columns)\n",
    "    formula = outcome + \"~\" + pred_sum\n",
    "    \n",
    "    model = ols(formula=formula, data=train_expanding_only.drop('date', axis=1)).fit()\n",
    "    \n",
    "    print(model.summary2())\n",
    "    \n",
    "    test_expanding_only = test.copy()\n",
    "    test_expanding_only[variables_to_transfrom] = scaler.transform(test[variables_to_transfrom])\n",
    "    \n",
    "    prediction = pd.DataFrame(model.predict(test_expanding_only))\n",
    "    merged = prediction.merge(test_expanding_only[['PTS']], left_on=prediction.index, right_on=test_expanding_only.index)\n",
    "    merged.index = merged['key_0']\n",
    "    merged.drop('key_0', axis=1, inplace=True)\n",
    "    \n",
    "    y_pred_df = prediction.merge(test_expanding_only.drop('PTS', axis=1), \n",
    "                 left_on= prediction.index, right_on= test_expanding_only.index).set_index('key_0', drop=True)\n",
    "    \n",
    "    y_pred_df.columns = ['PTS' if x == 0 else x for x in y_pred_df.columns ]\n",
    "    y_pred_reg = y_pred_df.copy()\n",
    "    \n",
    "    y_pred_reg.columns = ['PTS' if x == 0 else x for x in y_pred_reg.columns ]\n",
    "    \n",
    "    y_pred_reg[variables_to_transfrom] = scaler.inverse_transform(y_pred_df[variables_to_transfrom])\n",
    "    \n",
    "    print(sqrt(mean_squared_error(test.PTS, y_pred_reg.PTS)))\n"
   ]
  },
  {
   "cell_type": "code",
   "execution_count": 205,
   "metadata": {
    "ExecuteTime": {
     "end_time": "2020-01-15T22:32:29.945058Z",
     "start_time": "2020-01-15T22:32:24.011291Z"
    },
    "scrolled": false
   },
   "outputs": [
    {
     "name": "stderr",
     "output_type": "stream",
     "text": [
      "/Users/marshall132/anaconda3/lib/python3.6/site-packages/ipykernel_launcher.py:15: UserWarning:\n",
      "\n",
      "To output multiple subplots, the figure containing the passed axes is being cleared\n",
      "\n",
      "/Users/marshall132/anaconda3/lib/python3.6/site-packages/pandas/plotting/_matplotlib/hist.py:412: MatplotlibDeprecationWarning:\n",
      "\n",
      "\n",
      "The 'normed' kwarg was deprecated in Matplotlib 2.1 and will be removed in 3.1. Use 'density' instead.\n",
      "\n"
     ]
    },
    {
     "name": "stdout",
     "output_type": "stream",
     "text": [
      "                  Results: Ordinary least squares\n",
      "===================================================================\n",
      "Model:              OLS              Adj. R-squared:     0.475     \n",
      "Dependent Variable: PTS              AIC:                36649.1287\n",
      "Date:               2020-01-15 17:32 BIC:                36772.7022\n",
      "No. Observations:   16703            Log-Likelihood:     -18309.   \n",
      "Df Model:           15               F-statistic:        1009.     \n",
      "Df Residuals:       16687            Prob (F-statistic): 0.00      \n",
      "R-squared:          0.476            Scale:              0.52484   \n",
      "-------------------------------------------------------------------\n",
      "                     Coef.  Std.Err.    t    P>|t|   [0.025  0.975]\n",
      "-------------------------------------------------------------------\n",
      "Intercept           -0.2092   0.1558 -1.3433 0.1792 -0.5146  0.0961\n",
      "site[T.home]         0.0215   0.0122  1.7594 0.0785 -0.0025  0.0455\n",
      "expanding_SEC        0.0740   0.0138  5.3433 0.0000  0.0468  0.1011\n",
      "expanding_FGM        0.5534   0.0926  5.9764 0.0000  0.3719  0.7349\n",
      "expanding_FGA       -0.1433   0.0484 -2.9635 0.0030 -0.2381 -0.0485\n",
      "expanding_FG_PCT    -1.0812   0.1179 -9.1724 0.0000 -1.3123 -0.8502\n",
      "expanding_FG3M      -0.0238   0.0381 -0.6252 0.5319 -0.0986  0.0509\n",
      "expanding_FG3A       0.0463   0.0316  1.4666 0.1425 -0.0156  0.1081\n",
      "expanding_FG3_PCT   -0.0260   0.0127 -2.0564 0.0398 -0.0508 -0.0012\n",
      "expanding_FTM        0.1233   0.0477  2.5852 0.0097  0.0298  0.2168\n",
      "expanding_FTA       -0.0215   0.0325 -0.6620 0.5079 -0.0851  0.0421\n",
      "expanding_FT_PCT    -0.0167   0.0812 -0.2062 0.8366 -0.1759  0.1424\n",
      "expanding_PTS        0.1706   0.1161  1.4689 0.1419 -0.0570  0.3982\n",
      "line                -0.0008   0.0009 -0.9309 0.3519 -0.0025  0.0009\n",
      "total                0.0031   0.0006  4.8588 0.0000  0.0019  0.0044\n",
      "rest_days           -0.0093   0.0016 -5.7864 0.0000 -0.0124 -0.0061\n",
      "-------------------------------------------------------------------\n",
      "Omnibus:              137.391       Durbin-Watson:          1.997  \n",
      "Prob(Omnibus):        0.000         Jarque-Bera (JB):       140.691\n",
      "Skew:                 -0.225        Prob(JB):               0.000  \n",
      "Kurtosis:             2.991         Condition No.:          6665   \n",
      "===================================================================\n",
      "* The condition number is large (7e+03). This might indicate\n",
      "strong multicollinearity or other numerical problems.\n",
      "5.931777754799309\n"
     ]
    },
    {
     "data": {
      "image/png": "[encoded data removed]",
      "text/plain": [
       "<Figure size 1080x1080 with 16 Axes>"
      ]
     },
     "metadata": {
      "needs_background": "light"
     },
     "output_type": "display_data"
    },
    {
     "data": {
      "image/png": "[encoded data removed]",
      "text/plain": [
       "<Figure size 1080x864 with 2 Axes>"
      ]
     },
     "metadata": {
      "needs_background": "light"
     },
     "output_type": "display_data"
    }
   ],
   "source": [
    "do_regression(pre_transform, ['PTS', 'expanding_FG3M', 'expanding_FG3A',\n",
    "       'expanding_FG3_PCT', 'expanding_FGM', 'expanding_FGA','expanding_FTM', 'expanding_FTA','expanding_SEC', 'expanding_PTS'])"
   ]
  },
  {
   "cell_type": "code",
   "execution_count": 168,
   "metadata": {
    "ExecuteTime": {
     "end_time": "2020-01-15T21:52:10.446977Z",
     "start_time": "2020-01-15T21:52:10.441946Z"
    }
   },
   "outputs": [],
   "source": [
    "train = pre_transform.iloc[:train_size, :]\n",
    "test = pre_transform.iloc[:test_size, :]"
   ]
  },
  {
   "cell_type": "code",
   "execution_count": 169,
   "metadata": {
    "ExecuteTime": {
     "end_time": "2020-01-15T21:52:10.917255Z",
     "start_time": "2020-01-15T21:52:10.912023Z"
    }
   },
   "outputs": [
    {
     "data": {
      "text/plain": [
       "25054"
      ]
     },
     "execution_count": 169,
     "metadata": {},
     "output_type": "execute_result"
    }
   ],
   "source": [
    "train.shape[0]+ test.shape[0]"
   ]
  },
  {
   "cell_type": "markdown",
   "metadata": {
    "ExecuteTime": {
     "end_time": "2020-01-15T20:49:35.176450Z",
     "start_time": "2020-01-15T20:49:35.173643Z"
    }
   },
   "source": [
    "### Transform training variable to be more normal"
   ]
  },
  {
   "cell_type": "code",
   "execution_count": 170,
   "metadata": {
    "ExecuteTime": {
     "end_time": "2020-01-15T21:52:11.783628Z",
     "start_time": "2020-01-15T21:52:11.777718Z"
    },
    "scrolled": true
   },
   "outputs": [
    {
     "data": {
      "text/plain": [
       "Index(['PTS', 'expanding_SEC', 'expanding_FGM', 'expanding_FGA',\n",
       "       'expanding_FG_PCT', 'expanding_FG3M', 'expanding_FG3A',\n",
       "       'expanding_FG3_PCT', 'expanding_FTM', 'expanding_FTA',\n",
       "       'expanding_FT_PCT', 'expanding_PTS', 'line', 'total', 'site', 'date',\n",
       "       'rest_days'],\n",
       "      dtype='object')"
      ]
     },
     "execution_count": 170,
     "metadata": {},
     "output_type": "execute_result"
    }
   ],
   "source": [
    "pre_transform.columns"
   ]
  },
  {
   "cell_type": "code",
   "execution_count": 171,
   "metadata": {
    "ExecuteTime": {
     "end_time": "2020-01-15T21:52:12.912013Z",
     "start_time": "2020-01-15T21:52:12.688893Z"
    }
   },
   "outputs": [],
   "source": [
    "train_expanding_only = train.copy()\n",
    "\n",
    "variables_to_transfrom = ['PTS', 'expanding_FG3M', 'expanding_FG3A',\n",
    "       'expanding_FG3_PCT', 'expanding_FGM', 'expanding_FGA','expanding_FTM', 'expanding_FTA','expanding_SEC', 'expanding_PTS']\n",
    "\n",
    "scaler = PowerTransformer(method = 'yeo-johnson', standardize = True)\n",
    "train_expanding_only[variables_to_transfrom] = scaler.fit_transform(train[variables_to_transfrom])\n"
   ]
  },
  {
   "cell_type": "code",
   "execution_count": 172,
   "metadata": {
    "ExecuteTime": {
     "end_time": "2020-01-15T21:52:20.322546Z",
     "start_time": "2020-01-15T21:52:15.633974Z"
    }
   },
   "outputs": [
    {
     "name": "stderr",
     "output_type": "stream",
     "text": [
      "/Users/marshall132/anaconda3/lib/python3.6/site-packages/ipykernel_launcher.py:3: UserWarning:\n",
      "\n",
      "To output multiple subplots, the figure containing the passed axes is being cleared\n",
      "\n",
      "/Users/marshall132/anaconda3/lib/python3.6/site-packages/pandas/plotting/_matplotlib/hist.py:412: MatplotlibDeprecationWarning:\n",
      "\n",
      "\n",
      "The 'normed' kwarg was deprecated in Matplotlib 2.1 and will be removed in 3.1. Use 'density' instead.\n",
      "\n"
     ]
    },
    {
     "data": {
      "image/png": "[encoded data removed]",
      "text/plain": [
       "<Figure size 1080x1080 with 16 Axes>"
      ]
     },
     "metadata": {
      "needs_background": "light"
     },
     "output_type": "display_data"
    }
   ],
   "source": [
    "fig = plt.figure(figsize=(15,15))\n",
    "ax = fig.gca()\n",
    "train_expanding_only.drop('date', axis=1).hist(ax = ax, normed=True, bins=20);\n"
   ]
  },
  {
   "cell_type": "code",
   "execution_count": 173,
   "metadata": {
    "ExecuteTime": {
     "end_time": "2020-01-15T21:52:35.037287Z",
     "start_time": "2020-01-15T21:52:33.742759Z"
    }
   },
   "outputs": [
    {
     "data": {
      "text/plain": [
       "<matplotlib.axes._subplots.AxesSubplot at 0x1a2b097908>"
      ]
     },
     "execution_count": 173,
     "metadata": {},
     "output_type": "execute_result"
    },
    {
     "data": {
      "image/png": "[encoded data removed]",
      "text/plain": [
       "<Figure size 1080x864 with 2 Axes>"
      ]
     },
     "metadata": {
      "needs_background": "light"
     },
     "output_type": "display_data"
    }
   ],
   "source": [
    "corr_train = train_expanding_only.corr()\n",
    "fig = plt.figure(figsize = (15, 12))\n",
    "ax = fig.gca()\n",
    "sns.heatmap(corr_train, ax = ax)"
   ]
  },
  {
   "cell_type": "code",
   "execution_count": 174,
   "metadata": {
    "ExecuteTime": {
     "end_time": "2020-01-15T21:52:47.758449Z",
     "start_time": "2020-01-15T21:52:47.746115Z"
    }
   },
   "outputs": [],
   "source": [
    "outcome = 'PTS'\n",
    "predictors = train_expanding_only.drop(labels=['PTS', 'date'], axis=1)\n",
    "pred_sum = \"+\".join(predictors.columns)\n",
    "formula = outcome + \"~\" + pred_sum"
   ]
  },
  {
   "cell_type": "code",
   "execution_count": 175,
   "metadata": {
    "ExecuteTime": {
     "end_time": "2020-01-15T21:52:49.758465Z",
     "start_time": "2020-01-15T21:52:49.753542Z"
    }
   },
   "outputs": [
    {
     "data": {
      "text/plain": [
       "'PTS~expanding_SEC+expanding_FGM+expanding_FGA+expanding_FG_PCT+expanding_FG3M+expanding_FG3A+expanding_FG3_PCT+expanding_FTM+expanding_FTA+expanding_FT_PCT+expanding_PTS+line+total+site+rest_days'"
      ]
     },
     "execution_count": 175,
     "metadata": {},
     "output_type": "execute_result"
    }
   ],
   "source": [
    "formula"
   ]
  },
  {
   "cell_type": "code",
   "execution_count": 176,
   "metadata": {
    "ExecuteTime": {
     "end_time": "2020-01-15T21:52:56.797345Z",
     "start_time": "2020-01-15T21:52:56.623224Z"
    }
   },
   "outputs": [],
   "source": [
    "model = ols(formula=formula, data=train_expanding_only.drop('date', axis=1)).fit()"
   ]
  },
  {
   "cell_type": "code",
   "execution_count": 177,
   "metadata": {
    "ExecuteTime": {
     "end_time": "2020-01-15T21:52:57.813883Z",
     "start_time": "2020-01-15T21:52:57.720722Z"
    }
   },
   "outputs": [
    {
     "data": {
      "text/html": [
       "<table class=\"simpletable\">\n",
       "<tr>\n",
       "        <td>Model:</td>               <td>OLS</td>         <td>Adj. R-squared:</td>      <td>0.475</td>  \n",
       "</tr>\n",
       "<tr>\n",
       "  <td>Dependent Variable:</td>        <td>PTS</td>              <td>AIC:</td>         <td>36649.1287</td>\n",
       "</tr>\n",
       "<tr>\n",
       "         <td>Date:</td>        <td>2020-01-15 16:52</td>        <td>BIC:</td>         <td>36772.7022</td>\n",
       "</tr>\n",
       "<tr>\n",
       "   <td>No. Observations:</td>        <td>16703</td>        <td>Log-Likelihood:</td>     <td>-18309.</td> \n",
       "</tr>\n",
       "<tr>\n",
       "       <td>Df Model:</td>             <td>15</td>           <td>F-statistic:</td>        <td>1009.</td>  \n",
       "</tr>\n",
       "<tr>\n",
       "     <td>Df Residuals:</td>          <td>16687</td>      <td>Prob (F-statistic):</td>    <td>0.00</td>   \n",
       "</tr>\n",
       "<tr>\n",
       "      <td>R-squared:</td>            <td>0.476</td>            <td>Scale:</td>          <td>0.52484</td> \n",
       "</tr>\n",
       "</table>\n",
       "<table class=\"simpletable\">\n",
       "<tr>\n",
       "          <td></td>           <th>Coef.</th>  <th>Std.Err.</th>    <th>t</th>     <th>P>|t|</th> <th>[0.025</th>  <th>0.975]</th> \n",
       "</tr>\n",
       "<tr>\n",
       "  <th>Intercept</th>         <td>-0.2092</td>  <td>0.1558</td>  <td>-1.3433</td> <td>0.1792</td> <td>-0.5146</td> <td>0.0961</td> \n",
       "</tr>\n",
       "<tr>\n",
       "  <th>site[T.home]</th>      <td>0.0215</td>   <td>0.0122</td>  <td>1.7594</td>  <td>0.0785</td> <td>-0.0025</td> <td>0.0455</td> \n",
       "</tr>\n",
       "<tr>\n",
       "  <th>expanding_SEC</th>     <td>0.0740</td>   <td>0.0138</td>  <td>5.3433</td>  <td>0.0000</td> <td>0.0468</td>  <td>0.1011</td> \n",
       "</tr>\n",
       "<tr>\n",
       "  <th>expanding_FGM</th>     <td>0.5534</td>   <td>0.0926</td>  <td>5.9764</td>  <td>0.0000</td> <td>0.3719</td>  <td>0.7349</td> \n",
       "</tr>\n",
       "<tr>\n",
       "  <th>expanding_FGA</th>     <td>-0.1433</td>  <td>0.0484</td>  <td>-2.9635</td> <td>0.0030</td> <td>-0.2381</td> <td>-0.0485</td>\n",
       "</tr>\n",
       "<tr>\n",
       "  <th>expanding_FG_PCT</th>  <td>-1.0812</td>  <td>0.1179</td>  <td>-9.1724</td> <td>0.0000</td> <td>-1.3123</td> <td>-0.8502</td>\n",
       "</tr>\n",
       "<tr>\n",
       "  <th>expanding_FG3M</th>    <td>-0.0238</td>  <td>0.0381</td>  <td>-0.6252</td> <td>0.5319</td> <td>-0.0986</td> <td>0.0509</td> \n",
       "</tr>\n",
       "<tr>\n",
       "  <th>expanding_FG3A</th>    <td>0.0463</td>   <td>0.0316</td>  <td>1.4666</td>  <td>0.1425</td> <td>-0.0156</td> <td>0.1081</td> \n",
       "</tr>\n",
       "<tr>\n",
       "  <th>expanding_FG3_PCT</th> <td>-0.0260</td>  <td>0.0127</td>  <td>-2.0564</td> <td>0.0398</td> <td>-0.0508</td> <td>-0.0012</td>\n",
       "</tr>\n",
       "<tr>\n",
       "  <th>expanding_FTM</th>     <td>0.1233</td>   <td>0.0477</td>  <td>2.5852</td>  <td>0.0097</td> <td>0.0298</td>  <td>0.2168</td> \n",
       "</tr>\n",
       "<tr>\n",
       "  <th>expanding_FTA</th>     <td>-0.0215</td>  <td>0.0325</td>  <td>-0.6620</td> <td>0.5079</td> <td>-0.0851</td> <td>0.0421</td> \n",
       "</tr>\n",
       "<tr>\n",
       "  <th>expanding_FT_PCT</th>  <td>-0.0167</td>  <td>0.0812</td>  <td>-0.2062</td> <td>0.8366</td> <td>-0.1759</td> <td>0.1424</td> \n",
       "</tr>\n",
       "<tr>\n",
       "  <th>expanding_PTS</th>     <td>0.1706</td>   <td>0.1161</td>  <td>1.4689</td>  <td>0.1419</td> <td>-0.0570</td> <td>0.3982</td> \n",
       "</tr>\n",
       "<tr>\n",
       "  <th>line</th>              <td>-0.0008</td>  <td>0.0009</td>  <td>-0.9309</td> <td>0.3519</td> <td>-0.0025</td> <td>0.0009</td> \n",
       "</tr>\n",
       "<tr>\n",
       "  <th>total</th>             <td>0.0031</td>   <td>0.0006</td>  <td>4.8588</td>  <td>0.0000</td> <td>0.0019</td>  <td>0.0044</td> \n",
       "</tr>\n",
       "<tr>\n",
       "  <th>rest_days</th>         <td>-0.0093</td>  <td>0.0016</td>  <td>-5.7864</td> <td>0.0000</td> <td>-0.0124</td> <td>-0.0061</td>\n",
       "</tr>\n",
       "</table>\n",
       "<table class=\"simpletable\">\n",
       "<tr>\n",
       "     <td>Omnibus:</td>    <td>137.391</td>  <td>Durbin-Watson:</td>    <td>1.997</td> \n",
       "</tr>\n",
       "<tr>\n",
       "  <td>Prob(Omnibus):</td>  <td>0.000</td>  <td>Jarque-Bera (JB):</td> <td>140.691</td>\n",
       "</tr>\n",
       "<tr>\n",
       "       <td>Skew:</td>     <td>-0.225</td>      <td>Prob(JB):</td>      <td>0.000</td> \n",
       "</tr>\n",
       "<tr>\n",
       "     <td>Kurtosis:</td>    <td>2.991</td>   <td>Condition No.:</td>    <td>6665</td>  \n",
       "</tr>\n",
       "</table>"
      ],
      "text/plain": [
       "<class 'statsmodels.iolib.summary2.Summary'>\n",
       "\"\"\"\n",
       "                  Results: Ordinary least squares\n",
       "===================================================================\n",
       "Model:              OLS              Adj. R-squared:     0.475     \n",
       "Dependent Variable: PTS              AIC:                36649.1287\n",
       "Date:               2020-01-15 16:52 BIC:                36772.7022\n",
       "No. Observations:   16703            Log-Likelihood:     -18309.   \n",
       "Df Model:           15               F-statistic:        1009.     \n",
       "Df Residuals:       16687            Prob (F-statistic): 0.00      \n",
       "R-squared:          0.476            Scale:              0.52484   \n",
       "-------------------------------------------------------------------\n",
       "                     Coef.  Std.Err.    t    P>|t|   [0.025  0.975]\n",
       "-------------------------------------------------------------------\n",
       "Intercept           -0.2092   0.1558 -1.3433 0.1792 -0.5146  0.0961\n",
       "site[T.home]         0.0215   0.0122  1.7594 0.0785 -0.0025  0.0455\n",
       "expanding_SEC        0.0740   0.0138  5.3433 0.0000  0.0468  0.1011\n",
       "expanding_FGM        0.5534   0.0926  5.9764 0.0000  0.3719  0.7349\n",
       "expanding_FGA       -0.1433   0.0484 -2.9635 0.0030 -0.2381 -0.0485\n",
       "expanding_FG_PCT    -1.0812   0.1179 -9.1724 0.0000 -1.3123 -0.8502\n",
       "expanding_FG3M      -0.0238   0.0381 -0.6252 0.5319 -0.0986  0.0509\n",
       "expanding_FG3A       0.0463   0.0316  1.4666 0.1425 -0.0156  0.1081\n",
       "expanding_FG3_PCT   -0.0260   0.0127 -2.0564 0.0398 -0.0508 -0.0012\n",
       "expanding_FTM        0.1233   0.0477  2.5852 0.0097  0.0298  0.2168\n",
       "expanding_FTA       -0.0215   0.0325 -0.6620 0.5079 -0.0851  0.0421\n",
       "expanding_FT_PCT    -0.0167   0.0812 -0.2062 0.8366 -0.1759  0.1424\n",
       "expanding_PTS        0.1706   0.1161  1.4689 0.1419 -0.0570  0.3982\n",
       "line                -0.0008   0.0009 -0.9309 0.3519 -0.0025  0.0009\n",
       "total                0.0031   0.0006  4.8588 0.0000  0.0019  0.0044\n",
       "rest_days           -0.0093   0.0016 -5.7864 0.0000 -0.0124 -0.0061\n",
       "-------------------------------------------------------------------\n",
       "Omnibus:              137.391       Durbin-Watson:          1.997  \n",
       "Prob(Omnibus):        0.000         Jarque-Bera (JB):       140.691\n",
       "Skew:                 -0.225        Prob(JB):               0.000  \n",
       "Kurtosis:             2.991         Condition No.:          6665   \n",
       "===================================================================\n",
       "* The condition number is large (7e+03). This might indicate\n",
       "strong multicollinearity or other numerical problems.\n",
       "\"\"\""
      ]
     },
     "execution_count": 177,
     "metadata": {},
     "output_type": "execute_result"
    }
   ],
   "source": [
    "model.summary2()"
   ]
  },
  {
   "cell_type": "code",
   "execution_count": 178,
   "metadata": {
    "ExecuteTime": {
     "end_time": "2020-01-15T21:53:47.832361Z",
     "start_time": "2020-01-15T21:53:47.805994Z"
    }
   },
   "outputs": [],
   "source": [
    "test_expanding_only = test.copy()\n",
    "test_expanding_only[variables_to_transfrom] = scaler.transform(test[variables_to_transfrom])"
   ]
  },
  {
   "cell_type": "code",
   "execution_count": 179,
   "metadata": {
    "ExecuteTime": {
     "end_time": "2020-01-15T21:53:49.650319Z",
     "start_time": "2020-01-15T21:53:49.566314Z"
    }
   },
   "outputs": [],
   "source": [
    "prediction = pd.DataFrame(model.predict(test_expanding_only))\n",
    "merged = prediction.merge(test_expanding_only[['PTS']], left_on=prediction.index, right_on=test_expanding_only.index)\n",
    "merged.index = merged['key_0']\n",
    "merged.drop('key_0', axis=1, inplace=True)"
   ]
  },
  {
   "cell_type": "code",
   "execution_count": 180,
   "metadata": {
    "ExecuteTime": {
     "end_time": "2020-01-15T21:53:51.196000Z",
     "start_time": "2020-01-15T21:53:51.160831Z"
    }
   },
   "outputs": [
    {
     "data": {
      "text/html": [
       "<div>\n",
       "<style scoped>\n",
       "    .dataframe tbody tr th:only-of-type {\n",
       "        vertical-align: middle;\n",
       "    }\n",
       "\n",
       "    .dataframe tbody tr th {\n",
       "        vertical-align: top;\n",
       "    }\n",
       "\n",
       "    .dataframe thead th {\n",
       "        text-align: right;\n",
       "    }\n",
       "</style>\n",
       "<table border=\"1\" class=\"dataframe\">\n",
       "  <thead>\n",
       "    <tr style=\"text-align: right;\">\n",
       "      <th></th>\n",
       "      <th>PTS</th>\n",
       "      <th>expanding_SEC</th>\n",
       "      <th>expanding_FGM</th>\n",
       "      <th>expanding_FGA</th>\n",
       "      <th>expanding_FG_PCT</th>\n",
       "      <th>expanding_FG3M</th>\n",
       "      <th>expanding_FG3A</th>\n",
       "      <th>expanding_FG3_PCT</th>\n",
       "      <th>expanding_FTM</th>\n",
       "      <th>expanding_FTA</th>\n",
       "      <th>expanding_FT_PCT</th>\n",
       "      <th>expanding_PTS</th>\n",
       "      <th>line</th>\n",
       "      <th>total</th>\n",
       "      <th>site</th>\n",
       "      <th>date</th>\n",
       "      <th>rest_days</th>\n",
       "    </tr>\n",
       "  </thead>\n",
       "  <tbody>\n",
       "    <tr>\n",
       "      <th>9</th>\n",
       "      <td>0.173634</td>\n",
       "      <td>0.270981</td>\n",
       "      <td>0.071654</td>\n",
       "      <td>0.240242</td>\n",
       "      <td>0.393000</td>\n",
       "      <td>0.727490</td>\n",
       "      <td>0.008046</td>\n",
       "      <td>2.611299</td>\n",
       "      <td>-0.276598</td>\n",
       "      <td>-0.607847</td>\n",
       "      <td>0.500000</td>\n",
       "      <td>0.080709</td>\n",
       "      <td>-9.0</td>\n",
       "      <td>210.5</td>\n",
       "      <td>away</td>\n",
       "      <td>2018-10-20</td>\n",
       "      <td>1</td>\n",
       "    </tr>\n",
       "    <tr>\n",
       "      <th>19375</th>\n",
       "      <td>0.173634</td>\n",
       "      <td>-0.463257</td>\n",
       "      <td>0.494247</td>\n",
       "      <td>-0.084419</td>\n",
       "      <td>0.666500</td>\n",
       "      <td>-0.509429</td>\n",
       "      <td>-0.244688</td>\n",
       "      <td>-0.061394</td>\n",
       "      <td>0.579827</td>\n",
       "      <td>0.748564</td>\n",
       "      <td>0.333500</td>\n",
       "      <td>0.391812</td>\n",
       "      <td>-3.0</td>\n",
       "      <td>219.0</td>\n",
       "      <td>away</td>\n",
       "      <td>2018-10-20</td>\n",
       "      <td>1</td>\n",
       "    </tr>\n",
       "    <tr>\n",
       "      <th>19376</th>\n",
       "      <td>1.882673</td>\n",
       "      <td>0.718761</td>\n",
       "      <td>-0.169357</td>\n",
       "      <td>0.136375</td>\n",
       "      <td>0.366500</td>\n",
       "      <td>0.727490</td>\n",
       "      <td>-0.244688</td>\n",
       "      <td>4.170807</td>\n",
       "      <td>0.873317</td>\n",
       "      <td>0.502637</td>\n",
       "      <td>1.000000</td>\n",
       "      <td>0.162195</td>\n",
       "      <td>-3.0</td>\n",
       "      <td>219.0</td>\n",
       "      <td>away</td>\n",
       "      <td>2018-10-20</td>\n",
       "      <td>1</td>\n",
       "    </tr>\n",
       "    <tr>\n",
       "      <th>19377</th>\n",
       "      <td>-0.522444</td>\n",
       "      <td>-0.712322</td>\n",
       "      <td>-0.436473</td>\n",
       "      <td>-0.202288</td>\n",
       "      <td>0.393000</td>\n",
       "      <td>0.195755</td>\n",
       "      <td>-0.244688</td>\n",
       "      <td>-0.061394</td>\n",
       "      <td>-2.072044</td>\n",
       "      <td>-2.180756</td>\n",
       "      <td>0.000000</td>\n",
       "      <td>-0.585163</td>\n",
       "      <td>-3.0</td>\n",
       "      <td>219.0</td>\n",
       "      <td>away</td>\n",
       "      <td>2018-10-20</td>\n",
       "      <td>1</td>\n",
       "    </tr>\n",
       "    <tr>\n",
       "      <th>19372</th>\n",
       "      <td>1.693636</td>\n",
       "      <td>0.524377</td>\n",
       "      <td>-0.169357</td>\n",
       "      <td>0.340274</td>\n",
       "      <td>0.375000</td>\n",
       "      <td>-1.542221</td>\n",
       "      <td>-0.528066</td>\n",
       "      <td>-1.667433</td>\n",
       "      <td>1.491808</td>\n",
       "      <td>1.144192</td>\n",
       "      <td>1.000000</td>\n",
       "      <td>0.162195</td>\n",
       "      <td>-3.0</td>\n",
       "      <td>219.0</td>\n",
       "      <td>away</td>\n",
       "      <td>2018-10-20</td>\n",
       "      <td>1</td>\n",
       "    </tr>\n",
       "    <tr>\n",
       "      <th>...</th>\n",
       "      <td>...</td>\n",
       "      <td>...</td>\n",
       "      <td>...</td>\n",
       "      <td>...</td>\n",
       "      <td>...</td>\n",
       "      <td>...</td>\n",
       "      <td>...</td>\n",
       "      <td>...</td>\n",
       "      <td>...</td>\n",
       "      <td>...</td>\n",
       "      <td>...</td>\n",
       "      <td>...</td>\n",
       "      <td>...</td>\n",
       "      <td>...</td>\n",
       "      <td>...</td>\n",
       "      <td>...</td>\n",
       "      <td>...</td>\n",
       "    </tr>\n",
       "    <tr>\n",
       "      <th>9047</th>\n",
       "      <td>0.052970</td>\n",
       "      <td>0.294825</td>\n",
       "      <td>0.656233</td>\n",
       "      <td>0.450313</td>\n",
       "      <td>0.512536</td>\n",
       "      <td>-0.031044</td>\n",
       "      <td>0.008046</td>\n",
       "      <td>0.216558</td>\n",
       "      <td>0.854302</td>\n",
       "      <td>0.812037</td>\n",
       "      <td>0.664929</td>\n",
       "      <td>0.621779</td>\n",
       "      <td>5.0</td>\n",
       "      <td>202.0</td>\n",
       "      <td>home</td>\n",
       "      <td>2018-12-15</td>\n",
       "      <td>1</td>\n",
       "    </tr>\n",
       "    <tr>\n",
       "      <th>16098</th>\n",
       "      <td>0.052970</td>\n",
       "      <td>0.606180</td>\n",
       "      <td>0.291626</td>\n",
       "      <td>0.498264</td>\n",
       "      <td>0.410034</td>\n",
       "      <td>1.125625</td>\n",
       "      <td>1.320946</td>\n",
       "      <td>0.434020</td>\n",
       "      <td>0.624153</td>\n",
       "      <td>0.651591</td>\n",
       "      <td>0.520414</td>\n",
       "      <td>0.468875</td>\n",
       "      <td>-5.5</td>\n",
       "      <td>205.5</td>\n",
       "      <td>away</td>\n",
       "      <td>2018-12-15</td>\n",
       "      <td>3</td>\n",
       "    </tr>\n",
       "    <tr>\n",
       "      <th>3804</th>\n",
       "      <td>0.499795</td>\n",
       "      <td>1.400263</td>\n",
       "      <td>1.706120</td>\n",
       "      <td>1.839797</td>\n",
       "      <td>0.446737</td>\n",
       "      <td>0.378300</td>\n",
       "      <td>1.030446</td>\n",
       "      <td>-0.412481</td>\n",
       "      <td>1.327308</td>\n",
       "      <td>1.644215</td>\n",
       "      <td>0.593474</td>\n",
       "      <td>1.565995</td>\n",
       "      <td>-6.5</td>\n",
       "      <td>222.5</td>\n",
       "      <td>home</td>\n",
       "      <td>2018-12-15</td>\n",
       "      <td>1</td>\n",
       "    </tr>\n",
       "    <tr>\n",
       "      <th>292</th>\n",
       "      <td>-0.904083</td>\n",
       "      <td>0.078884</td>\n",
       "      <td>-0.063204</td>\n",
       "      <td>0.181382</td>\n",
       "      <td>0.378107</td>\n",
       "      <td>0.659154</td>\n",
       "      <td>0.588223</td>\n",
       "      <td>0.715229</td>\n",
       "      <td>-0.447424</td>\n",
       "      <td>-0.429427</td>\n",
       "      <td>0.366071</td>\n",
       "      <td>-0.053115</td>\n",
       "      <td>-2.0</td>\n",
       "      <td>215.0</td>\n",
       "      <td>away</td>\n",
       "      <td>2018-12-15</td>\n",
       "      <td>1</td>\n",
       "    </tr>\n",
       "    <tr>\n",
       "      <th>24269</th>\n",
       "      <td>-0.701549</td>\n",
       "      <td>-0.526522</td>\n",
       "      <td>-0.547597</td>\n",
       "      <td>-0.395112</td>\n",
       "      <td>0.333692</td>\n",
       "      <td>-0.385223</td>\n",
       "      <td>-0.183951</td>\n",
       "      <td>-0.557201</td>\n",
       "      <td>-0.461307</td>\n",
       "      <td>-0.648814</td>\n",
       "      <td>0.384615</td>\n",
       "      <td>-0.576673</td>\n",
       "      <td>9.5</td>\n",
       "      <td>211.0</td>\n",
       "      <td>away</td>\n",
       "      <td>2018-12-15</td>\n",
       "      <td>5</td>\n",
       "    </tr>\n",
       "  </tbody>\n",
       "</table>\n",
       "<p>8351 rows × 17 columns</p>\n",
       "</div>"
      ],
      "text/plain": [
       "            PTS  expanding_SEC  expanding_FGM  expanding_FGA  \\\n",
       "9      0.173634       0.270981       0.071654       0.240242   \n",
       "19375  0.173634      -0.463257       0.494247      -0.084419   \n",
       "19376  1.882673       0.718761      -0.169357       0.136375   \n",
       "19377 -0.522444      -0.712322      -0.436473      -0.202288   \n",
       "19372  1.693636       0.524377      -0.169357       0.340274   \n",
       "...         ...            ...            ...            ...   \n",
       "9047   0.052970       0.294825       0.656233       0.450313   \n",
       "16098  0.052970       0.606180       0.291626       0.498264   \n",
       "3804   0.499795       1.400263       1.706120       1.839797   \n",
       "292   -0.904083       0.078884      -0.063204       0.181382   \n",
       "24269 -0.701549      -0.526522      -0.547597      -0.395112   \n",
       "\n",
       "       expanding_FG_PCT  expanding_FG3M  expanding_FG3A  expanding_FG3_PCT  \\\n",
       "9              0.393000        0.727490        0.008046           2.611299   \n",
       "19375          0.666500       -0.509429       -0.244688          -0.061394   \n",
       "19376          0.366500        0.727490       -0.244688           4.170807   \n",
       "19377          0.393000        0.195755       -0.244688          -0.061394   \n",
       "19372          0.375000       -1.542221       -0.528066          -1.667433   \n",
       "...                 ...             ...             ...                ...   \n",
       "9047           0.512536       -0.031044        0.008046           0.216558   \n",
       "16098          0.410034        1.125625        1.320946           0.434020   \n",
       "3804           0.446737        0.378300        1.030446          -0.412481   \n",
       "292            0.378107        0.659154        0.588223           0.715229   \n",
       "24269          0.333692       -0.385223       -0.183951          -0.557201   \n",
       "\n",
       "       expanding_FTM  expanding_FTA  expanding_FT_PCT  expanding_PTS  line  \\\n",
       "9          -0.276598      -0.607847          0.500000       0.080709  -9.0   \n",
       "19375       0.579827       0.748564          0.333500       0.391812  -3.0   \n",
       "19376       0.873317       0.502637          1.000000       0.162195  -3.0   \n",
       "19377      -2.072044      -2.180756          0.000000      -0.585163  -3.0   \n",
       "19372       1.491808       1.144192          1.000000       0.162195  -3.0   \n",
       "...              ...            ...               ...            ...   ...   \n",
       "9047        0.854302       0.812037          0.664929       0.621779   5.0   \n",
       "16098       0.624153       0.651591          0.520414       0.468875  -5.5   \n",
       "3804        1.327308       1.644215          0.593474       1.565995  -6.5   \n",
       "292        -0.447424      -0.429427          0.366071      -0.053115  -2.0   \n",
       "24269      -0.461307      -0.648814          0.384615      -0.576673   9.5   \n",
       "\n",
       "       total  site       date  rest_days  \n",
       "9      210.5  away 2018-10-20          1  \n",
       "19375  219.0  away 2018-10-20          1  \n",
       "19376  219.0  away 2018-10-20          1  \n",
       "19377  219.0  away 2018-10-20          1  \n",
       "19372  219.0  away 2018-10-20          1  \n",
       "...      ...   ...        ...        ...  \n",
       "9047   202.0  home 2018-12-15          1  \n",
       "16098  205.5  away 2018-12-15          3  \n",
       "3804   222.5  home 2018-12-15          1  \n",
       "292    215.0  away 2018-12-15          1  \n",
       "24269  211.0  away 2018-12-15          5  \n",
       "\n",
       "[8351 rows x 17 columns]"
      ]
     },
     "execution_count": 180,
     "metadata": {},
     "output_type": "execute_result"
    }
   ],
   "source": [
    "test_expanding_only"
   ]
  },
  {
   "cell_type": "code",
   "execution_count": 181,
   "metadata": {
    "ExecuteTime": {
     "end_time": "2020-01-15T21:53:57.520796Z",
     "start_time": "2020-01-15T21:53:57.502285Z"
    },
    "scrolled": true
   },
   "outputs": [],
   "source": [
    "y_pred_df = prediction.merge(test_expanding_only.drop('PTS', axis=1), \n",
    "                 left_on= prediction.index, right_on= test_expanding_only.index).set_index('key_0', drop=True)"
   ]
  },
  {
   "cell_type": "code",
   "execution_count": 183,
   "metadata": {
    "ExecuteTime": {
     "end_time": "2020-01-15T21:54:33.350522Z",
     "start_time": "2020-01-15T21:54:33.326461Z"
    }
   },
   "outputs": [],
   "source": [
    "y_pred_reg = y_pred_df.copy()\n",
    "\n",
    "variables_to_transfrom = [0, 'expanding_FG3M', 'expanding_FG3A',\n",
    "       'expanding_FG3_PCT', 'expanding_FGM', 'expanding_FGA','expanding_FTM', 'expanding_FTA','expanding_SEC', 'expanding_PTS']\n",
    "y_pred_reg[variables_to_transfrom] = scaler.inverse_transform(y_pred_df[variables_to_transfrom])"
   ]
  },
  {
   "cell_type": "code",
   "execution_count": 192,
   "metadata": {
    "ExecuteTime": {
     "end_time": "2020-01-15T22:22:12.376245Z",
     "start_time": "2020-01-15T22:22:12.368776Z"
    }
   },
   "outputs": [
    {
     "data": {
      "text/plain": [
       "Index([                  0,     'expanding_SEC',     'expanding_FGM',\n",
       "           'expanding_FGA',  'expanding_FG_PCT',    'expanding_FG3M',\n",
       "          'expanding_FG3A', 'expanding_FG3_PCT',     'expanding_FTM',\n",
       "           'expanding_FTA',  'expanding_FT_PCT',     'expanding_PTS',\n",
       "                    'line',             'total',              'site',\n",
       "                    'date',         'rest_days'],\n",
       "      dtype='object')"
      ]
     },
     "execution_count": 192,
     "metadata": {},
     "output_type": "execute_result"
    }
   ],
   "source": [
    "y_pred_reg.columns"
   ]
  },
  {
   "cell_type": "code",
   "execution_count": 196,
   "metadata": {
    "ExecuteTime": {
     "end_time": "2020-01-15T22:23:34.692431Z",
     "start_time": "2020-01-15T22:23:34.686638Z"
    }
   },
   "outputs": [
    {
     "data": {
      "text/plain": [
       "['PTS',\n",
       " 'expanding_SEC',\n",
       " 'expanding_FGM',\n",
       " 'expanding_FGA',\n",
       " 'expanding_FG_PCT',\n",
       " 'expanding_FG3M',\n",
       " 'expanding_FG3A',\n",
       " 'expanding_FG3_PCT',\n",
       " 'expanding_FTM',\n",
       " 'expanding_FTA',\n",
       " 'expanding_FT_PCT',\n",
       " 'expanding_PTS',\n",
       " 'line',\n",
       " 'total',\n",
       " 'site',\n",
       " 'date',\n",
       " 'rest_days']"
      ]
     },
     "execution_count": 196,
     "metadata": {},
     "output_type": "execute_result"
    }
   ],
   "source": [
    "['PTS' if x == 0 else x for x in y_pred_reg.columns ]"
   ]
  },
  {
   "cell_type": "code",
   "execution_count": 184,
   "metadata": {
    "ExecuteTime": {
     "end_time": "2020-01-15T21:54:34.516421Z",
     "start_time": "2020-01-15T21:54:34.485542Z"
    }
   },
   "outputs": [
    {
     "data": {
      "text/html": [
       "<div>\n",
       "<style scoped>\n",
       "    .dataframe tbody tr th:only-of-type {\n",
       "        vertical-align: middle;\n",
       "    }\n",
       "\n",
       "    .dataframe tbody tr th {\n",
       "        vertical-align: top;\n",
       "    }\n",
       "\n",
       "    .dataframe thead th {\n",
       "        text-align: right;\n",
       "    }\n",
       "</style>\n",
       "<table border=\"1\" class=\"dataframe\">\n",
       "  <thead>\n",
       "    <tr style=\"text-align: right;\">\n",
       "      <th></th>\n",
       "      <th>0</th>\n",
       "      <th>expanding_SEC</th>\n",
       "      <th>expanding_FGM</th>\n",
       "      <th>expanding_FGA</th>\n",
       "      <th>expanding_FG_PCT</th>\n",
       "      <th>expanding_FG3M</th>\n",
       "      <th>expanding_FG3A</th>\n",
       "      <th>expanding_FG3_PCT</th>\n",
       "      <th>expanding_FTM</th>\n",
       "      <th>expanding_FTA</th>\n",
       "      <th>expanding_FT_PCT</th>\n",
       "      <th>expanding_PTS</th>\n",
       "      <th>line</th>\n",
       "      <th>total</th>\n",
       "      <th>site</th>\n",
       "      <th>date</th>\n",
       "      <th>rest_days</th>\n",
       "    </tr>\n",
       "    <tr>\n",
       "      <th>key_0</th>\n",
       "      <th></th>\n",
       "      <th></th>\n",
       "      <th></th>\n",
       "      <th></th>\n",
       "      <th></th>\n",
       "      <th></th>\n",
       "      <th></th>\n",
       "      <th></th>\n",
       "      <th></th>\n",
       "      <th></th>\n",
       "      <th></th>\n",
       "      <th></th>\n",
       "      <th></th>\n",
       "      <th></th>\n",
       "      <th></th>\n",
       "      <th></th>\n",
       "      <th></th>\n",
       "    </tr>\n",
       "  </thead>\n",
       "  <tbody>\n",
       "    <tr>\n",
       "      <th>9</th>\n",
       "      <td>8.191649</td>\n",
       "      <td>1492.000000</td>\n",
       "      <td>3.500000</td>\n",
       "      <td>8.500000</td>\n",
       "      <td>0.393000</td>\n",
       "      <td>1.500000</td>\n",
       "      <td>2.500000</td>\n",
       "      <td>0.583500</td>\n",
       "      <td>1.000000</td>\n",
       "      <td>1.000000</td>\n",
       "      <td>0.500000</td>\n",
       "      <td>9.500000</td>\n",
       "      <td>-9.0</td>\n",
       "      <td>210.5</td>\n",
       "      <td>away</td>\n",
       "      <td>2018-10-20</td>\n",
       "      <td>1</td>\n",
       "    </tr>\n",
       "    <tr>\n",
       "      <th>19375</th>\n",
       "      <td>9.563066</td>\n",
       "      <td>1121.000000</td>\n",
       "      <td>4.500000</td>\n",
       "      <td>7.000000</td>\n",
       "      <td>0.666500</td>\n",
       "      <td>0.500000</td>\n",
       "      <td>2.000000</td>\n",
       "      <td>0.250000</td>\n",
       "      <td>2.000000</td>\n",
       "      <td>3.000000</td>\n",
       "      <td>0.333500</td>\n",
       "      <td>11.500000</td>\n",
       "      <td>-3.0</td>\n",
       "      <td>219.0</td>\n",
       "      <td>away</td>\n",
       "      <td>2018-10-20</td>\n",
       "      <td>1</td>\n",
       "    </tr>\n",
       "    <tr>\n",
       "      <th>19376</th>\n",
       "      <td>8.471687</td>\n",
       "      <td>1712.000000</td>\n",
       "      <td>3.000000</td>\n",
       "      <td>8.000000</td>\n",
       "      <td>0.366500</td>\n",
       "      <td>1.500000</td>\n",
       "      <td>2.000000</td>\n",
       "      <td>0.750000</td>\n",
       "      <td>2.500000</td>\n",
       "      <td>2.500000</td>\n",
       "      <td>1.000000</td>\n",
       "      <td>10.000000</td>\n",
       "      <td>-3.0</td>\n",
       "      <td>219.0</td>\n",
       "      <td>away</td>\n",
       "      <td>2018-10-20</td>\n",
       "      <td>1</td>\n",
       "    </tr>\n",
       "    <tr>\n",
       "      <th>19377</th>\n",
       "      <td>4.891023</td>\n",
       "      <td>991.500000</td>\n",
       "      <td>2.500000</td>\n",
       "      <td>6.500000</td>\n",
       "      <td>0.393000</td>\n",
       "      <td>1.000000</td>\n",
       "      <td>2.000000</td>\n",
       "      <td>0.250000</td>\n",
       "      <td>0.000000</td>\n",
       "      <td>0.000000</td>\n",
       "      <td>0.000000</td>\n",
       "      <td>6.000000</td>\n",
       "      <td>-3.0</td>\n",
       "      <td>219.0</td>\n",
       "      <td>away</td>\n",
       "      <td>2018-10-20</td>\n",
       "      <td>1</td>\n",
       "    </tr>\n",
       "    <tr>\n",
       "      <th>19372</th>\n",
       "      <td>10.130137</td>\n",
       "      <td>1617.000000</td>\n",
       "      <td>3.000000</td>\n",
       "      <td>9.000000</td>\n",
       "      <td>0.375000</td>\n",
       "      <td>0.000000</td>\n",
       "      <td>1.500000</td>\n",
       "      <td>0.000000</td>\n",
       "      <td>4.000000</td>\n",
       "      <td>4.000000</td>\n",
       "      <td>1.000000</td>\n",
       "      <td>10.000000</td>\n",
       "      <td>-3.0</td>\n",
       "      <td>219.0</td>\n",
       "      <td>away</td>\n",
       "      <td>2018-10-20</td>\n",
       "      <td>1</td>\n",
       "    </tr>\n",
       "    <tr>\n",
       "      <th>...</th>\n",
       "      <td>...</td>\n",
       "      <td>...</td>\n",
       "      <td>...</td>\n",
       "      <td>...</td>\n",
       "      <td>...</td>\n",
       "      <td>...</td>\n",
       "      <td>...</td>\n",
       "      <td>...</td>\n",
       "      <td>...</td>\n",
       "      <td>...</td>\n",
       "      <td>...</td>\n",
       "      <td>...</td>\n",
       "      <td>...</td>\n",
       "      <td>...</td>\n",
       "      <td>...</td>\n",
       "      <td>...</td>\n",
       "      <td>...</td>\n",
       "    </tr>\n",
       "    <tr>\n",
       "      <th>9047</th>\n",
       "      <td>11.829520</td>\n",
       "      <td>1503.821429</td>\n",
       "      <td>4.928571</td>\n",
       "      <td>9.571429</td>\n",
       "      <td>0.512536</td>\n",
       "      <td>0.821429</td>\n",
       "      <td>2.500000</td>\n",
       "      <td>0.288536</td>\n",
       "      <td>2.464286</td>\n",
       "      <td>3.142857</td>\n",
       "      <td>0.664929</td>\n",
       "      <td>13.142857</td>\n",
       "      <td>5.0</td>\n",
       "      <td>202.0</td>\n",
       "      <td>home</td>\n",
       "      <td>2018-12-15</td>\n",
       "      <td>1</td>\n",
       "    </tr>\n",
       "    <tr>\n",
       "      <th>16098</th>\n",
       "      <td>10.767048</td>\n",
       "      <td>1657.068966</td>\n",
       "      <td>4.000000</td>\n",
       "      <td>9.827586</td>\n",
       "      <td>0.410034</td>\n",
       "      <td>1.965517</td>\n",
       "      <td>6.034483</td>\n",
       "      <td>0.317931</td>\n",
       "      <td>2.068966</td>\n",
       "      <td>2.793103</td>\n",
       "      <td>0.520414</td>\n",
       "      <td>12.034483</td>\n",
       "      <td>-5.5</td>\n",
       "      <td>205.5</td>\n",
       "      <td>away</td>\n",
       "      <td>2018-12-15</td>\n",
       "      <td>3</td>\n",
       "    </tr>\n",
       "    <tr>\n",
       "      <th>3804</th>\n",
       "      <td>21.563061</td>\n",
       "      <td>2039.736842</td>\n",
       "      <td>8.421053</td>\n",
       "      <td>18.947368</td>\n",
       "      <td>0.446737</td>\n",
       "      <td>1.157895</td>\n",
       "      <td>5.105263</td>\n",
       "      <td>0.199632</td>\n",
       "      <td>3.526316</td>\n",
       "      <td>5.736842</td>\n",
       "      <td>0.593474</td>\n",
       "      <td>21.526316</td>\n",
       "      <td>-6.5</td>\n",
       "      <td>222.5</td>\n",
       "      <td>home</td>\n",
       "      <td>2018-12-15</td>\n",
       "      <td>1</td>\n",
       "    </tr>\n",
       "    <tr>\n",
       "      <th>292</th>\n",
       "      <td>8.012793</td>\n",
       "      <td>1396.285714</td>\n",
       "      <td>3.214286</td>\n",
       "      <td>8.214286</td>\n",
       "      <td>0.378107</td>\n",
       "      <td>1.428571</td>\n",
       "      <td>3.857143</td>\n",
       "      <td>0.355036</td>\n",
       "      <td>0.857143</td>\n",
       "      <td>1.178571</td>\n",
       "      <td>0.366071</td>\n",
       "      <td>8.714286</td>\n",
       "      <td>-2.0</td>\n",
       "      <td>215.0</td>\n",
       "      <td>away</td>\n",
       "      <td>2018-12-15</td>\n",
       "      <td>1</td>\n",
       "    </tr>\n",
       "    <tr>\n",
       "      <th>24269</th>\n",
       "      <td>5.881020</td>\n",
       "      <td>1088.307692</td>\n",
       "      <td>2.307692</td>\n",
       "      <td>5.730769</td>\n",
       "      <td>0.333692</td>\n",
       "      <td>0.576923</td>\n",
       "      <td>2.115385</td>\n",
       "      <td>0.178269</td>\n",
       "      <td>0.846154</td>\n",
       "      <td>0.961538</td>\n",
       "      <td>0.384615</td>\n",
       "      <td>6.038462</td>\n",
       "      <td>9.5</td>\n",
       "      <td>211.0</td>\n",
       "      <td>away</td>\n",
       "      <td>2018-12-15</td>\n",
       "      <td>5</td>\n",
       "    </tr>\n",
       "  </tbody>\n",
       "</table>\n",
       "<p>8351 rows × 17 columns</p>\n",
       "</div>"
      ],
      "text/plain": [
       "               0  expanding_SEC  expanding_FGM  expanding_FGA  \\\n",
       "key_0                                                           \n",
       "9       8.191649    1492.000000       3.500000       8.500000   \n",
       "19375   9.563066    1121.000000       4.500000       7.000000   \n",
       "19376   8.471687    1712.000000       3.000000       8.000000   \n",
       "19377   4.891023     991.500000       2.500000       6.500000   \n",
       "19372  10.130137    1617.000000       3.000000       9.000000   \n",
       "...          ...            ...            ...            ...   \n",
       "9047   11.829520    1503.821429       4.928571       9.571429   \n",
       "16098  10.767048    1657.068966       4.000000       9.827586   \n",
       "3804   21.563061    2039.736842       8.421053      18.947368   \n",
       "292     8.012793    1396.285714       3.214286       8.214286   \n",
       "24269   5.881020    1088.307692       2.307692       5.730769   \n",
       "\n",
       "       expanding_FG_PCT  expanding_FG3M  expanding_FG3A  expanding_FG3_PCT  \\\n",
       "key_0                                                                        \n",
       "9              0.393000        1.500000        2.500000           0.583500   \n",
       "19375          0.666500        0.500000        2.000000           0.250000   \n",
       "19376          0.366500        1.500000        2.000000           0.750000   \n",
       "19377          0.393000        1.000000        2.000000           0.250000   \n",
       "19372          0.375000        0.000000        1.500000           0.000000   \n",
       "...                 ...             ...             ...                ...   \n",
       "9047           0.512536        0.821429        2.500000           0.288536   \n",
       "16098          0.410034        1.965517        6.034483           0.317931   \n",
       "3804           0.446737        1.157895        5.105263           0.199632   \n",
       "292            0.378107        1.428571        3.857143           0.355036   \n",
       "24269          0.333692        0.576923        2.115385           0.178269   \n",
       "\n",
       "       expanding_FTM  expanding_FTA  expanding_FT_PCT  expanding_PTS  line  \\\n",
       "key_0                                                                        \n",
       "9           1.000000       1.000000          0.500000       9.500000  -9.0   \n",
       "19375       2.000000       3.000000          0.333500      11.500000  -3.0   \n",
       "19376       2.500000       2.500000          1.000000      10.000000  -3.0   \n",
       "19377       0.000000       0.000000          0.000000       6.000000  -3.0   \n",
       "19372       4.000000       4.000000          1.000000      10.000000  -3.0   \n",
       "...              ...            ...               ...            ...   ...   \n",
       "9047        2.464286       3.142857          0.664929      13.142857   5.0   \n",
       "16098       2.068966       2.793103          0.520414      12.034483  -5.5   \n",
       "3804        3.526316       5.736842          0.593474      21.526316  -6.5   \n",
       "292         0.857143       1.178571          0.366071       8.714286  -2.0   \n",
       "24269       0.846154       0.961538          0.384615       6.038462   9.5   \n",
       "\n",
       "       total  site       date  rest_days  \n",
       "key_0                                     \n",
       "9      210.5  away 2018-10-20          1  \n",
       "19375  219.0  away 2018-10-20          1  \n",
       "19376  219.0  away 2018-10-20          1  \n",
       "19377  219.0  away 2018-10-20          1  \n",
       "19372  219.0  away 2018-10-20          1  \n",
       "...      ...   ...        ...        ...  \n",
       "9047   202.0  home 2018-12-15          1  \n",
       "16098  205.5  away 2018-12-15          3  \n",
       "3804   222.5  home 2018-12-15          1  \n",
       "292    215.0  away 2018-12-15          1  \n",
       "24269  211.0  away 2018-12-15          5  \n",
       "\n",
       "[8351 rows x 17 columns]"
      ]
     },
     "execution_count": 184,
     "metadata": {},
     "output_type": "execute_result"
    }
   ],
   "source": [
    "y_pred_reg"
   ]
  },
  {
   "cell_type": "code",
   "execution_count": 185,
   "metadata": {
    "ExecuteTime": {
     "end_time": "2020-01-15T21:54:41.270648Z",
     "start_time": "2020-01-15T21:54:41.238751Z"
    }
   },
   "outputs": [
    {
     "data": {
      "text/html": [
       "<div>\n",
       "<style scoped>\n",
       "    .dataframe tbody tr th:only-of-type {\n",
       "        vertical-align: middle;\n",
       "    }\n",
       "\n",
       "    .dataframe tbody tr th {\n",
       "        vertical-align: top;\n",
       "    }\n",
       "\n",
       "    .dataframe thead th {\n",
       "        text-align: right;\n",
       "    }\n",
       "</style>\n",
       "<table border=\"1\" class=\"dataframe\">\n",
       "  <thead>\n",
       "    <tr style=\"text-align: right;\">\n",
       "      <th></th>\n",
       "      <th>PTS</th>\n",
       "      <th>expanding_SEC</th>\n",
       "      <th>expanding_FGM</th>\n",
       "      <th>expanding_FGA</th>\n",
       "      <th>expanding_FG_PCT</th>\n",
       "      <th>expanding_FG3M</th>\n",
       "      <th>expanding_FG3A</th>\n",
       "      <th>expanding_FG3_PCT</th>\n",
       "      <th>expanding_FTM</th>\n",
       "      <th>expanding_FTA</th>\n",
       "      <th>expanding_FT_PCT</th>\n",
       "      <th>expanding_PTS</th>\n",
       "      <th>line</th>\n",
       "      <th>total</th>\n",
       "      <th>site</th>\n",
       "      <th>date</th>\n",
       "      <th>rest_days</th>\n",
       "    </tr>\n",
       "  </thead>\n",
       "  <tbody>\n",
       "    <tr>\n",
       "      <th>9</th>\n",
       "      <td>10.0</td>\n",
       "      <td>1492.000000</td>\n",
       "      <td>3.500000</td>\n",
       "      <td>8.500000</td>\n",
       "      <td>0.393000</td>\n",
       "      <td>1.500000</td>\n",
       "      <td>2.500000</td>\n",
       "      <td>0.583500</td>\n",
       "      <td>1.000000</td>\n",
       "      <td>1.000000</td>\n",
       "      <td>0.500000</td>\n",
       "      <td>9.500000</td>\n",
       "      <td>-9.0</td>\n",
       "      <td>210.5</td>\n",
       "      <td>away</td>\n",
       "      <td>2018-10-20</td>\n",
       "      <td>1</td>\n",
       "    </tr>\n",
       "    <tr>\n",
       "      <th>19375</th>\n",
       "      <td>10.0</td>\n",
       "      <td>1121.000000</td>\n",
       "      <td>4.500000</td>\n",
       "      <td>7.000000</td>\n",
       "      <td>0.666500</td>\n",
       "      <td>0.500000</td>\n",
       "      <td>2.000000</td>\n",
       "      <td>0.250000</td>\n",
       "      <td>2.000000</td>\n",
       "      <td>3.000000</td>\n",
       "      <td>0.333500</td>\n",
       "      <td>11.500000</td>\n",
       "      <td>-3.0</td>\n",
       "      <td>219.0</td>\n",
       "      <td>away</td>\n",
       "      <td>2018-10-20</td>\n",
       "      <td>1</td>\n",
       "    </tr>\n",
       "    <tr>\n",
       "      <th>19376</th>\n",
       "      <td>31.0</td>\n",
       "      <td>1712.000000</td>\n",
       "      <td>3.000000</td>\n",
       "      <td>8.000000</td>\n",
       "      <td>0.366500</td>\n",
       "      <td>1.500000</td>\n",
       "      <td>2.000000</td>\n",
       "      <td>0.750000</td>\n",
       "      <td>2.500000</td>\n",
       "      <td>2.500000</td>\n",
       "      <td>1.000000</td>\n",
       "      <td>10.000000</td>\n",
       "      <td>-3.0</td>\n",
       "      <td>219.0</td>\n",
       "      <td>away</td>\n",
       "      <td>2018-10-20</td>\n",
       "      <td>1</td>\n",
       "    </tr>\n",
       "    <tr>\n",
       "      <th>19377</th>\n",
       "      <td>5.0</td>\n",
       "      <td>991.500000</td>\n",
       "      <td>2.500000</td>\n",
       "      <td>6.500000</td>\n",
       "      <td>0.393000</td>\n",
       "      <td>1.000000</td>\n",
       "      <td>2.000000</td>\n",
       "      <td>0.250000</td>\n",
       "      <td>0.000000</td>\n",
       "      <td>0.000000</td>\n",
       "      <td>0.000000</td>\n",
       "      <td>6.000000</td>\n",
       "      <td>-3.0</td>\n",
       "      <td>219.0</td>\n",
       "      <td>away</td>\n",
       "      <td>2018-10-20</td>\n",
       "      <td>1</td>\n",
       "    </tr>\n",
       "    <tr>\n",
       "      <th>19372</th>\n",
       "      <td>28.0</td>\n",
       "      <td>1617.000000</td>\n",
       "      <td>3.000000</td>\n",
       "      <td>9.000000</td>\n",
       "      <td>0.375000</td>\n",
       "      <td>0.000000</td>\n",
       "      <td>1.500000</td>\n",
       "      <td>0.000000</td>\n",
       "      <td>4.000000</td>\n",
       "      <td>4.000000</td>\n",
       "      <td>1.000000</td>\n",
       "      <td>10.000000</td>\n",
       "      <td>-3.0</td>\n",
       "      <td>219.0</td>\n",
       "      <td>away</td>\n",
       "      <td>2018-10-20</td>\n",
       "      <td>1</td>\n",
       "    </tr>\n",
       "    <tr>\n",
       "      <th>...</th>\n",
       "      <td>...</td>\n",
       "      <td>...</td>\n",
       "      <td>...</td>\n",
       "      <td>...</td>\n",
       "      <td>...</td>\n",
       "      <td>...</td>\n",
       "      <td>...</td>\n",
       "      <td>...</td>\n",
       "      <td>...</td>\n",
       "      <td>...</td>\n",
       "      <td>...</td>\n",
       "      <td>...</td>\n",
       "      <td>...</td>\n",
       "      <td>...</td>\n",
       "      <td>...</td>\n",
       "      <td>...</td>\n",
       "      <td>...</td>\n",
       "    </tr>\n",
       "    <tr>\n",
       "      <th>9047</th>\n",
       "      <td>9.0</td>\n",
       "      <td>1503.821429</td>\n",
       "      <td>4.928571</td>\n",
       "      <td>9.571429</td>\n",
       "      <td>0.512536</td>\n",
       "      <td>0.821429</td>\n",
       "      <td>2.500000</td>\n",
       "      <td>0.288536</td>\n",
       "      <td>2.464286</td>\n",
       "      <td>3.142857</td>\n",
       "      <td>0.664929</td>\n",
       "      <td>13.142857</td>\n",
       "      <td>5.0</td>\n",
       "      <td>202.0</td>\n",
       "      <td>home</td>\n",
       "      <td>2018-12-15</td>\n",
       "      <td>1</td>\n",
       "    </tr>\n",
       "    <tr>\n",
       "      <th>16098</th>\n",
       "      <td>9.0</td>\n",
       "      <td>1657.068966</td>\n",
       "      <td>4.000000</td>\n",
       "      <td>9.827586</td>\n",
       "      <td>0.410034</td>\n",
       "      <td>1.965517</td>\n",
       "      <td>6.034483</td>\n",
       "      <td>0.317931</td>\n",
       "      <td>2.068966</td>\n",
       "      <td>2.793103</td>\n",
       "      <td>0.520414</td>\n",
       "      <td>12.034483</td>\n",
       "      <td>-5.5</td>\n",
       "      <td>205.5</td>\n",
       "      <td>away</td>\n",
       "      <td>2018-12-15</td>\n",
       "      <td>3</td>\n",
       "    </tr>\n",
       "    <tr>\n",
       "      <th>3804</th>\n",
       "      <td>13.0</td>\n",
       "      <td>2039.736842</td>\n",
       "      <td>8.421053</td>\n",
       "      <td>18.947368</td>\n",
       "      <td>0.446737</td>\n",
       "      <td>1.157895</td>\n",
       "      <td>5.105263</td>\n",
       "      <td>0.199632</td>\n",
       "      <td>3.526316</td>\n",
       "      <td>5.736842</td>\n",
       "      <td>0.593474</td>\n",
       "      <td>21.526316</td>\n",
       "      <td>-6.5</td>\n",
       "      <td>222.5</td>\n",
       "      <td>home</td>\n",
       "      <td>2018-12-15</td>\n",
       "      <td>1</td>\n",
       "    </tr>\n",
       "    <tr>\n",
       "      <th>292</th>\n",
       "      <td>3.0</td>\n",
       "      <td>1396.285714</td>\n",
       "      <td>3.214286</td>\n",
       "      <td>8.214286</td>\n",
       "      <td>0.378107</td>\n",
       "      <td>1.428571</td>\n",
       "      <td>3.857143</td>\n",
       "      <td>0.355036</td>\n",
       "      <td>0.857143</td>\n",
       "      <td>1.178571</td>\n",
       "      <td>0.366071</td>\n",
       "      <td>8.714286</td>\n",
       "      <td>-2.0</td>\n",
       "      <td>215.0</td>\n",
       "      <td>away</td>\n",
       "      <td>2018-12-15</td>\n",
       "      <td>1</td>\n",
       "    </tr>\n",
       "    <tr>\n",
       "      <th>24269</th>\n",
       "      <td>4.0</td>\n",
       "      <td>1088.307692</td>\n",
       "      <td>2.307692</td>\n",
       "      <td>5.730769</td>\n",
       "      <td>0.333692</td>\n",
       "      <td>0.576923</td>\n",
       "      <td>2.115385</td>\n",
       "      <td>0.178269</td>\n",
       "      <td>0.846154</td>\n",
       "      <td>0.961538</td>\n",
       "      <td>0.384615</td>\n",
       "      <td>6.038462</td>\n",
       "      <td>9.5</td>\n",
       "      <td>211.0</td>\n",
       "      <td>away</td>\n",
       "      <td>2018-12-15</td>\n",
       "      <td>5</td>\n",
       "    </tr>\n",
       "  </tbody>\n",
       "</table>\n",
       "<p>8351 rows × 17 columns</p>\n",
       "</div>"
      ],
      "text/plain": [
       "        PTS  expanding_SEC  expanding_FGM  expanding_FGA  expanding_FG_PCT  \\\n",
       "9      10.0    1492.000000       3.500000       8.500000          0.393000   \n",
       "19375  10.0    1121.000000       4.500000       7.000000          0.666500   \n",
       "19376  31.0    1712.000000       3.000000       8.000000          0.366500   \n",
       "19377   5.0     991.500000       2.500000       6.500000          0.393000   \n",
       "19372  28.0    1617.000000       3.000000       9.000000          0.375000   \n",
       "...     ...            ...            ...            ...               ...   \n",
       "9047    9.0    1503.821429       4.928571       9.571429          0.512536   \n",
       "16098   9.0    1657.068966       4.000000       9.827586          0.410034   \n",
       "3804   13.0    2039.736842       8.421053      18.947368          0.446737   \n",
       "292     3.0    1396.285714       3.214286       8.214286          0.378107   \n",
       "24269   4.0    1088.307692       2.307692       5.730769          0.333692   \n",
       "\n",
       "       expanding_FG3M  expanding_FG3A  expanding_FG3_PCT  expanding_FTM  \\\n",
       "9            1.500000        2.500000           0.583500       1.000000   \n",
       "19375        0.500000        2.000000           0.250000       2.000000   \n",
       "19376        1.500000        2.000000           0.750000       2.500000   \n",
       "19377        1.000000        2.000000           0.250000       0.000000   \n",
       "19372        0.000000        1.500000           0.000000       4.000000   \n",
       "...               ...             ...                ...            ...   \n",
       "9047         0.821429        2.500000           0.288536       2.464286   \n",
       "16098        1.965517        6.034483           0.317931       2.068966   \n",
       "3804         1.157895        5.105263           0.199632       3.526316   \n",
       "292          1.428571        3.857143           0.355036       0.857143   \n",
       "24269        0.576923        2.115385           0.178269       0.846154   \n",
       "\n",
       "       expanding_FTA  expanding_FT_PCT  expanding_PTS  line  total  site  \\\n",
       "9           1.000000          0.500000       9.500000  -9.0  210.5  away   \n",
       "19375       3.000000          0.333500      11.500000  -3.0  219.0  away   \n",
       "19376       2.500000          1.000000      10.000000  -3.0  219.0  away   \n",
       "19377       0.000000          0.000000       6.000000  -3.0  219.0  away   \n",
       "19372       4.000000          1.000000      10.000000  -3.0  219.0  away   \n",
       "...              ...               ...            ...   ...    ...   ...   \n",
       "9047        3.142857          0.664929      13.142857   5.0  202.0  home   \n",
       "16098       2.793103          0.520414      12.034483  -5.5  205.5  away   \n",
       "3804        5.736842          0.593474      21.526316  -6.5  222.5  home   \n",
       "292         1.178571          0.366071       8.714286  -2.0  215.0  away   \n",
       "24269       0.961538          0.384615       6.038462   9.5  211.0  away   \n",
       "\n",
       "            date  rest_days  \n",
       "9     2018-10-20          1  \n",
       "19375 2018-10-20          1  \n",
       "19376 2018-10-20          1  \n",
       "19377 2018-10-20          1  \n",
       "19372 2018-10-20          1  \n",
       "...          ...        ...  \n",
       "9047  2018-12-15          1  \n",
       "16098 2018-12-15          3  \n",
       "3804  2018-12-15          1  \n",
       "292   2018-12-15          1  \n",
       "24269 2018-12-15          5  \n",
       "\n",
       "[8351 rows x 17 columns]"
      ]
     },
     "execution_count": 185,
     "metadata": {},
     "output_type": "execute_result"
    }
   ],
   "source": [
    "test"
   ]
  },
  {
   "cell_type": "code",
   "execution_count": 190,
   "metadata": {
    "ExecuteTime": {
     "end_time": "2020-01-15T21:55:16.716795Z",
     "start_time": "2020-01-15T21:55:16.709849Z"
    }
   },
   "outputs": [
    {
     "data": {
      "text/plain": [
       "5.931777754799309"
      ]
     },
     "execution_count": 190,
     "metadata": {},
     "output_type": "execute_result"
    }
   ],
   "source": [
    "sqrt(mean_squared_error(test.PTS, y_pred_reg[0]))"
   ]
  },
  {
   "cell_type": "code",
   "execution_count": 189,
   "metadata": {
    "ExecuteTime": {
     "end_time": "2020-01-15T21:55:14.835926Z",
     "start_time": "2020-01-15T21:55:14.829538Z"
    }
   },
   "outputs": [
    {
     "data": {
      "text/plain": [
       "5.9590763547667835"
      ]
     },
     "execution_count": 189,
     "metadata": {},
     "output_type": "execute_result"
    }
   ],
   "source": [
    "sqrt(mean_squared_error(test.PTS, test.expanding_PTS))"
   ]
  },
  {
   "cell_type": "code",
   "execution_count": 191,
   "metadata": {
    "ExecuteTime": {
     "end_time": "2020-01-15T22:16:07.975459Z",
     "start_time": "2020-01-15T22:16:07.965515Z"
    }
   },
   "outputs": [
    {
     "data": {
      "text/plain": [
       "[0,\n",
       " 'expanding_FG3M',\n",
       " 'expanding_FG3A',\n",
       " 'expanding_FG3_PCT',\n",
       " 'expanding_FGM',\n",
       " 'expanding_FGA',\n",
       " 'expanding_FTM',\n",
       " 'expanding_FTA',\n",
       " 'expanding_SEC',\n",
       " 'expanding_PTS']"
      ]
     },
     "execution_count": 191,
     "metadata": {},
     "output_type": "execute_result"
    }
   ],
   "source": []
  },
  {
   "cell_type": "code",
   "execution_count": null,
   "metadata": {},
   "outputs": [],
   "source": []
  }
 ],
 "metadata": {
  "kernelspec": {
   "display_name": "Python 3",
   "language": "python",
   "name": "python3"
  },
  "language_info": {
   "codemirror_mode": {
    "name": "ipython",
    "version": 3
   },
   "file_extension": ".py",
   "mimetype": "text/x-python",
   "name": "python",
   "nbconvert_exporter": "python",
   "pygments_lexer": "ipython3",
   "version": "3.6.9"
  },
  "toc": {
   "base_numbering": 1,
   "nav_menu": {},
   "number_sections": true,
   "sideBar": true,
   "skip_h1_title": true,
   "title_cell": "Table of Contents",
   "title_sidebar": "Contents",
   "toc_cell": false,
   "toc_position": {},
   "toc_section_display": true,
   "toc_window_display": true
  }
 },
 "nbformat": 4,
 "nbformat_minor": 2
}
